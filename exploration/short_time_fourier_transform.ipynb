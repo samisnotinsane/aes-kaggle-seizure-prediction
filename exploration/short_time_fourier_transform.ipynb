{
 "cells": [
  {
   "cell_type": "code",
   "execution_count": 253,
   "metadata": {},
   "outputs": [],
   "source": [
    "import os\n",
    "from torch.utils.data import Dataset, DataLoader\n",
    "from scipy.io import loadmat\n",
    "import numpy as np\n",
    "import torch\n",
    "import matplotlib.pyplot as plt\n",
    "from scipy import signal"
   ]
  },
  {
   "cell_type": "code",
   "execution_count": 224,
   "metadata": {},
   "outputs": [],
   "source": [
    "class DogOneData(Dataset):\n",
    "    def _getfiles(self):\n",
    "        files = sorted(os.listdir(self.root_dir))\n",
    "        ffiles = list(filter(lambda f: 'test' not in f, files))\n",
    "        return ffiles\n",
    "    \n",
    "    def _map_chnl_name_to_num(self, channels):\n",
    "        chnls = [int((channel_name.item().split('_')[-1])[1:]) for channel_name in channels]\n",
    "        return np.array(chnls, dtype=np.uint8)\n",
    "    \n",
    "    def __init__(self, root_dir, transform=None):\n",
    "        subject_name = root_dir.split('/')\n",
    "        self.root_dir = root_dir + '/' + subject_name[-1]\n",
    "        self.transform = transform\n",
    "    \n",
    "    def __len__(self):\n",
    "        files = self._getfiles()\n",
    "        return len(files)\n",
    "    \n",
    "    def __getitem__(self, idx):\n",
    "        files = self._getfiles()\n",
    "        segment_path = os.path.join(self.root_dir, files[idx])\n",
    "        mat = loadmat(segment_path)\n",
    "        epoch_name = list(mat.keys())[-1]\n",
    "        epoch = mat[epoch_name]\n",
    "        data = epoch['data'][0][0]\n",
    "        data_length_sec = torch.as_tensor(np.array(epoch['data_length_sec'][0][0][0][0], dtype=np.int16))        \n",
    "        sampling_frequency = epoch['sampling_frequency'][0][0][0][0]\n",
    "        channels = epoch['channels'][0][0][0]\n",
    "        channels = self._map_chnl_name_to_num(channels)\n",
    "        sequence = epoch['sequence'][0][0][0][0]\n",
    "        if self.transform:\n",
    "            data = self.transform(data)\n",
    "        return data, data_length_sec, sampling_frequency, channels, sequence"
   ]
  },
  {
   "cell_type": "code",
   "execution_count": 225,
   "metadata": {},
   "outputs": [],
   "source": [
    "training_data = DogOneData(\n",
    "    root_dir='/Volumes/My Passport/AI_Research/data/Dog_1'\n",
    ")\n",
    "\n",
    "train_dataloader = DataLoader(training_data, batch_size=1, shuffle=False)"
   ]
  },
  {
   "cell_type": "code",
   "execution_count": 226,
   "metadata": {},
   "outputs": [
    {
     "name": "stdout",
     "output_type": "stream",
     "text": [
      "Done.\n"
     ]
    }
   ],
   "source": [
    "data, data_length_sec, sampling_frequency, channels, sequence = next(iter(train_dataloader))\n",
    "print('Done.')"
   ]
  },
  {
   "cell_type": "code",
   "execution_count": 248,
   "metadata": {},
   "outputs": [],
   "source": [
    "e = 15 # choose electrode (between 0-15)\n",
    "N = data[e,:].shape[0]\n",
    "t = np.arange(0, N) / sampling_frequency"
   ]
  },
  {
   "cell_type": "code",
   "execution_count": 252,
   "metadata": {},
   "outputs": [
    {
     "data": {
      "text/plain": [
       "Text(0, 0.5, 'Amplitude, $\\\\mu$V')"
      ]
     },
     "execution_count": 252,
     "metadata": {},
     "output_type": "execute_result"
    },
    {
     "data": {
      "image/png": "[encoded data removed]",
      "text/plain": [
       "<Figure size 432x288 with 1 Axes>"
      ]
     },
     "metadata": {
      "needs_background": "light"
     },
     "output_type": "display_data"
    }
   ],
   "source": [
    "fig, ax = plt.subplots()\n",
    "ax.plot(t, data[e,:])\n",
    "ax.set_xlabel('Time, s')\n",
    "ax.set_ylabel('Amplitude, $\\mu$V')"
   ]
  },
  {
   "cell_type": "code",
   "execution_count": 255,
   "metadata": {},
   "outputs": [
    {
     "data": {
      "text/plain": [
       "200.0"
      ]
     },
     "execution_count": 255,
     "metadata": {},
     "output_type": "execute_result"
    }
   ],
   "source": [
    "timewin = 500 # in ms\n",
    "# convert ms to idx\n",
    "M = np.round(timewin/(1000/sampling_frequency)) # Nyquist frequency\n",
    "# create Hann taper function\n",
    "hann_win = signal.windows.hann(M-1)\n",
    "# detrend data \n",
    "# this is done to attenuate super-low frequency artifacts in FFT\n",
    "# from sampled data.\n",
    "d = signal.detrend(x)"
   ]
  }
 ],
 "metadata": {
  "kernelspec": {
   "display_name": "Python 3",
   "language": "python",
   "name": "python3"
  },
  "language_info": {
   "codemirror_mode": {
    "name": "ipython",
    "version": 3
   },
   "file_extension": ".py",
   "mimetype": "text/x-python",
   "name": "python",
   "nbconvert_exporter": "python",
   "pygments_lexer": "ipython3",
   "version": "3.8.5"
  }
 },
 "nbformat": 4,
 "nbformat_minor": 4
}
