{
 "cells": [
  {
   "cell_type": "code",
   "execution_count": 1,
   "metadata": {},
   "outputs": [],
   "source": [
    "import data_loader as loader\n",
    "import data_validator as validator\n",
    "from tqdm.auto import trange"
   ]
  },
  {
   "cell_type": "code",
   "execution_count": 3,
   "metadata": {
    "scrolled": true
   },
   "outputs": [
    {
     "data": {
      "application/vnd.jupyter.widget-view+json": {
       "model_id": "bbe1e89fd78b42beb66cbc15b78a4f93",
       "version_major": 2,
       "version_minor": 0
      },
      "text/plain": [
       "Subject:   0%|          | 0/7 [00:00<?, ?it/s]"
      ]
     },
     "metadata": {},
     "output_type": "display_data"
    },
    {
     "data": {
      "application/vnd.jupyter.widget-view+json": {
       "model_id": "82cb05cc5d8d4ec995a5760a089b1ff8",
       "version_major": 2,
       "version_minor": 0
      },
      "text/plain": [
       "keep_interictal:   0%|          | 0/1006 [00:00<?, ?it/s]"
      ]
     },
     "metadata": {},
     "output_type": "display_data"
    },
    {
     "data": {
      "application/vnd.jupyter.widget-view+json": {
       "model_id": "ff892e5d1b244807a3aa87da4c64341e",
       "version_major": 2,
       "version_minor": 0
      },
      "text/plain": [
       "keep_preictal:   0%|          | 0/1006 [00:00<?, ?it/s]"
      ]
     },
     "metadata": {},
     "output_type": "display_data"
    },
    {
     "data": {
      "application/vnd.jupyter.widget-view+json": {
       "model_id": "4b1ef7eaa878454d8951050fd42b116e",
       "version_major": 2,
       "version_minor": 0
      },
      "text/plain": [
       "check_frequency:   0%|          | 0/504 [00:00<?, ?it/s]"
      ]
     },
     "metadata": {},
     "output_type": "display_data"
    },
    {
     "data": {
      "application/vnd.jupyter.widget-view+json": {
       "model_id": "1866e3da08a941aeb46aa4b4e8fc99da",
       "version_major": 2,
       "version_minor": 0
      },
      "text/plain": [
       "keep_interictal:   0%|          | 0/1542 [00:00<?, ?it/s]"
      ]
     },
     "metadata": {},
     "output_type": "display_data"
    },
    {
     "data": {
      "application/vnd.jupyter.widget-view+json": {
       "model_id": "55b9bc1295b14aa39de84265959443c4",
       "version_major": 2,
       "version_minor": 0
      },
      "text/plain": [
       "keep_preictal:   0%|          | 0/1542 [00:00<?, ?it/s]"
      ]
     },
     "metadata": {},
     "output_type": "display_data"
    },
    {
     "data": {
      "application/vnd.jupyter.widget-view+json": {
       "model_id": "625e43fe1b4d4ce089770c8cba69569d",
       "version_major": 2,
       "version_minor": 0
      },
      "text/plain": [
       "check_frequency:   0%|          | 0/542 [00:00<?, ?it/s]"
      ]
     },
     "metadata": {},
     "output_type": "display_data"
    },
    {
     "data": {
      "application/vnd.jupyter.widget-view+json": {
       "model_id": "7812e1ea83024af1b39526c22b6563bf",
       "version_major": 2,
       "version_minor": 0
      },
      "text/plain": [
       "keep_interictal:   0%|          | 0/2419 [00:00<?, ?it/s]"
      ]
     },
     "metadata": {},
     "output_type": "display_data"
    },
    {
     "data": {
      "application/vnd.jupyter.widget-view+json": {
       "model_id": "66fa68d678b540769b520d850bce8d02",
       "version_major": 2,
       "version_minor": 0
      },
      "text/plain": [
       "keep_preictal:   0%|          | 0/2419 [00:00<?, ?it/s]"
      ]
     },
     "metadata": {},
     "output_type": "display_data"
    },
    {
     "data": {
      "application/vnd.jupyter.widget-view+json": {
       "model_id": "d1a670dd027d459b8da93d93361ddcac",
       "version_major": 2,
       "version_minor": 0
      },
      "text/plain": [
       "check_frequency:   0%|          | 0/1512 [00:00<?, ?it/s]"
      ]
     },
     "metadata": {},
     "output_type": "display_data"
    },
    {
     "data": {
      "application/vnd.jupyter.widget-view+json": {
       "model_id": "d0cad28871534f43adb5ef1c52b7d0b7",
       "version_major": 2,
       "version_minor": 0
      },
      "text/plain": [
       "keep_interictal:   0%|          | 0/1891 [00:00<?, ?it/s]"
      ]
     },
     "metadata": {},
     "output_type": "display_data"
    },
    {
     "data": {
      "application/vnd.jupyter.widget-view+json": {
       "model_id": "8414c0d4b7ab48d0a2f59d8d07128e68",
       "version_major": 2,
       "version_minor": 0
      },
      "text/plain": [
       "keep_preictal:   0%|          | 0/1891 [00:00<?, ?it/s]"
      ]
     },
     "metadata": {},
     "output_type": "display_data"
    },
    {
     "data": {
      "application/vnd.jupyter.widget-view+json": {
       "model_id": "e97c56c8f1c4403988d783ce9bacf11a",
       "version_major": 2,
       "version_minor": 0
      },
      "text/plain": [
       "check_frequency:   0%|          | 0/901 [00:00<?, ?it/s]"
      ]
     },
     "metadata": {},
     "output_type": "display_data"
    },
    {
     "data": {
      "application/vnd.jupyter.widget-view+json": {
       "model_id": "4c3448d7cdef4b0782b0f691a3c5017d",
       "version_major": 2,
       "version_minor": 0
      },
      "text/plain": [
       "keep_interictal:   0%|          | 0/671 [00:00<?, ?it/s]"
      ]
     },
     "metadata": {},
     "output_type": "display_data"
    },
    {
     "data": {
      "application/vnd.jupyter.widget-view+json": {
       "model_id": "9ba67e60873d437c9edec1437a9295ec",
       "version_major": 2,
       "version_minor": 0
      },
      "text/plain": [
       "keep_preictal:   0%|          | 0/671 [00:00<?, ?it/s]"
      ]
     },
     "metadata": {},
     "output_type": "display_data"
    },
    {
     "data": {
      "application/vnd.jupyter.widget-view+json": {
       "model_id": "3b767970d1ba4cd09e9341a1c99b8068",
       "version_major": 2,
       "version_minor": 0
      },
      "text/plain": [
       "check_frequency:   0%|          | 0/480 [00:00<?, ?it/s]"
      ]
     },
     "metadata": {},
     "output_type": "display_data"
    },
    {
     "data": {
      "application/vnd.jupyter.widget-view+json": {
       "model_id": "6fb0c2c16eab4d629b714243cdd8ae74",
       "version_major": 2,
       "version_minor": 0
      },
      "text/plain": [
       "keep_interictal:   0%|          | 0/263 [00:00<?, ?it/s]"
      ]
     },
     "metadata": {},
     "output_type": "display_data"
    },
    {
     "data": {
      "application/vnd.jupyter.widget-view+json": {
       "model_id": "f0ca45f5da0143a688a39f1c3e89c37b",
       "version_major": 2,
       "version_minor": 0
      },
      "text/plain": [
       "keep_preictal:   0%|          | 0/263 [00:00<?, ?it/s]"
      ]
     },
     "metadata": {},
     "output_type": "display_data"
    },
    {
     "data": {
      "application/vnd.jupyter.widget-view+json": {
       "model_id": "162b72aa4c8747cdbb883a7a4b181a1a",
       "version_major": 2,
       "version_minor": 0
      },
      "text/plain": [
       "check_frequency:   0%|          | 0/68 [00:00<?, ?it/s]"
      ]
     },
     "metadata": {},
     "output_type": "display_data"
    },
    {
     "data": {
      "application/vnd.jupyter.widget-view+json": {
       "model_id": "99f7b4fe1939419cb81df0fd45f29c68",
       "version_major": 2,
       "version_minor": 0
      },
      "text/plain": [
       "keep_interictal:   0%|          | 0/210 [00:00<?, ?it/s]"
      ]
     },
     "metadata": {},
     "output_type": "display_data"
    },
    {
     "data": {
      "application/vnd.jupyter.widget-view+json": {
       "model_id": "0fc3d8ac58704a0c8aaa88c74824d883",
       "version_major": 2,
       "version_minor": 0
      },
      "text/plain": [
       "keep_preictal:   0%|          | 0/210 [00:00<?, ?it/s]"
      ]
     },
     "metadata": {},
     "output_type": "display_data"
    },
    {
     "data": {
      "application/vnd.jupyter.widget-view+json": {
       "model_id": "06e8e998bdeb4753bd8ff7e29bff2307",
       "version_major": 2,
       "version_minor": 0
      },
      "text/plain": [
       "check_frequency:   0%|          | 0/60 [00:00<?, ?it/s]"
      ]
     },
     "metadata": {},
     "output_type": "display_data"
    }
   ],
   "source": [
    "subject_names = ['Dog_1', 'Dog_2', 'Dog_3', 'Dog_4', 'Dog_5', 'Patient_1', 'Patient_2']\n",
    "subject_freqs = []\n",
    "for i in trange(len(subject_names), desc=\"Subject\"):\n",
    "    files, path = loader.load_subject(subject_names[i])\n",
    "    subject_freqs.append(validator.check_frequency(files, path))"
   ]
  },
  {
   "cell_type": "code",
   "execution_count": 7,
   "metadata": {},
   "outputs": [
    {
     "name": "stdout",
     "output_type": "stream",
     "text": [
      "['Dog_1', 'Dog_2', 'Dog_3', 'Dog_4', 'Dog_5', 'Patient_1', 'Patient_2']\n"
     ]
    },
    {
     "data": {
      "text/plain": [
       "[{399.609756097561},\n",
       " {399.609756097561},\n",
       " {399.609756097561},\n",
       " {399.609756097561},\n",
       " {399.609756097561},\n",
       " {5000},\n",
       " {5000}]"
      ]
     },
     "execution_count": 7,
     "metadata": {},
     "output_type": "execute_result"
    }
   ],
   "source": [
    "print(subject_names)\n",
    "subject_freqs"
   ]
  },
  {
   "cell_type": "markdown",
   "metadata": {},
   "source": [
    "The dogs have sampling frequency of 400Hz and humans have 5000Hz. This corresponds well with the description supplied with Kaggle dataset."
   ]
  },
  {
   "cell_type": "code",
   "execution_count": null,
   "metadata": {},
   "outputs": [],
   "source": []
  }
 ],
 "metadata": {
  "kernelspec": {
   "display_name": "Python 3",
   "language": "python",
   "name": "python3"
  },
  "language_info": {
   "codemirror_mode": {
    "name": "ipython",
    "version": 3
   },
   "file_extension": ".py",
   "mimetype": "text/x-python",
   "name": "python",
   "nbconvert_exporter": "python",
   "pygments_lexer": "ipython3",
   "version": "3.9.5"
  }
 },
 "nbformat": 4,
 "nbformat_minor": 4
}
