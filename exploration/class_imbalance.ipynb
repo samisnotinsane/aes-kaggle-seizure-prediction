{
 "cells": [
  {
   "cell_type": "code",
   "execution_count": 76,
   "metadata": {},
   "outputs": [],
   "source": [
    "import os\n",
    "import re"
   ]
  },
  {
   "cell_type": "code",
   "execution_count": 71,
   "metadata": {},
   "outputs": [],
   "source": [
    "def load_subject(subject_name=\"Dog_1\"):\n",
    "    root = './data/'\n",
    "    root_children = os.listdir(root)\n",
    "    subject_idx = root_children.index(subject_name)\n",
    "    subject_path = os.path.join(root, root_children[subject_idx])\n",
    "    subject_path_2 = os.path.join(subject_path, os.listdir(subject_path)[0])\n",
    "    return os.listdir(subject_path_2) "
   ]
  },
  {
   "cell_type": "code",
   "execution_count": 114,
   "metadata": {},
   "outputs": [
    {
     "name": "stdout",
     "output_type": "stream",
     "text": [
      "Dog 1: Files loaded\n"
     ]
    }
   ],
   "source": [
    "dog_1_files = load_subject()\n",
    "print(\"Dog 1: Files loaded\")"
   ]
  },
  {
   "cell_type": "code",
   "execution_count": 102,
   "metadata": {},
   "outputs": [],
   "source": [
    "def select_segment(subject_files=None, segment_name='interictal'):\n",
    "    segment_files = []\n",
    "    for subject_file in subject_files:\n",
    "        if re.findall(segment_name, subject_file):\n",
    "            segment_files.append(subject_file)\n",
    "    return segment_files"
   ]
  },
  {
   "cell_type": "code",
   "execution_count": 112,
   "metadata": {},
   "outputs": [
    {
     "name": "stdout",
     "output_type": "stream",
     "text": [
      "Dog 1\n",
      "Preictal files: 24\n"
     ]
    }
   ],
   "source": [
    "dog_1_preictal_files = select_segment(dog_1_files, segment_name='preictal')\n",
    "print(\"Dog 1\")\n",
    "print(\"Preictal files:\", len(dog_1_preictal_files))"
   ]
  },
  {
   "cell_type": "code",
   "execution_count": 113,
   "metadata": {},
   "outputs": [
    {
     "name": "stdout",
     "output_type": "stream",
     "text": [
      "Dog 1\n",
      "Preictal files: 480\n"
     ]
    }
   ],
   "source": [
    "dog_1_interictal_files = select_segment(dog_1_files, segment_name='interictal')\n",
    "print(\"Dog 1\")\n",
    "print(\"Preictal files:\", len(dog_1_interictal_files))"
   ]
  },
  {
   "cell_type": "code",
   "execution_count": 115,
   "metadata": {},
   "outputs": [
    {
     "name": "stdout",
     "output_type": "stream",
     "text": [
      "Dog 1\n",
      "Total files: 504\n"
     ]
    }
   ],
   "source": [
    "print(\"Dog 1\")\n",
    "print(\"Total files:\", len(dog_1_preictal_files) + len(dog_1_interictal_files))"
   ]
  },
  {
   "cell_type": "code",
   "execution_count": 119,
   "metadata": {},
   "outputs": [
    {
     "name": "stdout",
     "output_type": "stream",
     "text": [
      "Subject: ['Dog_1', 'Dog_2', 'Dog_3', 'Dog_4', 'Dog_5', 'Patient_1', 'Patient_2']\n",
      "Interictal: [480, 500, 1440, 804, 450, 50, 42]\n",
      "Preictal: [24, 42, 72, 97, 30, 18, 18]\n",
      "Total: [504, 542, 1512, 901, 480, 68, 60]\n"
     ]
    }
   ],
   "source": [
    "subject_names = ['Dog_1', 'Dog_2', 'Dog_3', 'Dog_4', 'Dog_5', 'Patient_1', 'Patient_2']\n",
    "preictal_count = []\n",
    "interictal_count = []\n",
    "total_count = []\n",
    "for subject_name in subject_names:\n",
    "    subject_files = load_subject(subject_name)\n",
    "    interictal_files = select_segment(subject_files, 'interictal')\n",
    "    preictal_files = select_segment(subject_files, 'preictal')\n",
    "    interictal_count.append(len(interictal_files))\n",
    "    preictal_count.append(len(preictal_files))\n",
    "    total_count.append(len(interictal_files) + len(preictal_files))\n",
    "print(\"Subject:\", subject_names)\n",
    "print(\"Interictal:\", interictal_count)\n",
    "print(\"Preictal:\", preictal_count)\n",
    "print(\"Total:\", total_count)"
   ]
  },
  {
   "cell_type": "code",
   "execution_count": 124,
   "metadata": {},
   "outputs": [
    {
     "name": "stdout",
     "output_type": "stream",
     "text": [
      "Subject: ['Dog_1', 'Dog_2', 'Dog_3', 'Dog_4', 'Dog_5', 'Patient_1', 'Patient_2']\n",
      "Interictal %: [95.2, 92.3, 95.2, 89.2, 93.8, 73.5, 70.0]\n",
      "Preictal %: [4.8, 7.7, 4.8, 10.8, 6.2, 26.5, 30.0]\n"
     ]
    }
   ],
   "source": [
    "interictal_percs = []\n",
    "preictal_percs = []\n",
    "for i in range(len(total_count)):\n",
    "    interictal_percs.append( round((interictal_count[i] / total_count[i])*100, 1) )\n",
    "    preictal_percs.append( round((preictal_count[i] / total_count[i])*100, 1) ) \n",
    "print(\"Subject:\", subject_names)\n",
    "print(\"Interictal %:\", interictal_percs)\n",
    "print(\"Preictal %:\", preictal_percs)"
   ]
  },
  {
   "cell_type": "code",
   "execution_count": 147,
   "metadata": {
    "scrolled": true
   },
   "outputs": [],
   "source": [
    "import matplotlib.pyplot as plt\n",
    "import numpy as np\n",
    "import pandas as pd"
   ]
  },
  {
   "cell_type": "code",
   "execution_count": 131,
   "metadata": {},
   "outputs": [
    {
     "data": {
      "text/plain": [
       "array([0, 1, 2, 3, 4, 5, 6])"
      ]
     },
     "execution_count": 131,
     "metadata": {},
     "output_type": "execute_result"
    }
   ],
   "source": [
    "np.arange(len(total_count))"
   ]
  },
  {
   "cell_type": "code",
   "execution_count": 143,
   "metadata": {},
   "outputs": [
    {
     "data": {
      "image/png": "[encoded data removed]",
      "text/plain": [
       "<Figure size 432x288 with 1 Axes>"
      ]
     },
     "metadata": {
      "needs_background": "light"
     },
     "output_type": "display_data"
    }
   ],
   "source": [
    "width = 0.35\n",
    "\n",
    "plt.bar( np.arange(len(total_count)), interictal_percs, width, label=\"Interictal\" )\n",
    "plt.bar( np.arange(len(total_count)), preictal_percs, width, label=\"Preictal\" )\n",
    "\n",
    "plt.ylabel(\"%\")\n",
    "plt.legend(loc='best')\n",
    "plt.xticks(np.arange(len(total_count)) + width / 2, subject_names)\n",
    "\n",
    "plt.title('Class Balance by Patient')\n",
    "plt.savefig('images/class_balance.png')"
   ]
  },
  {
   "cell_type": "code",
   "execution_count": 145,
   "metadata": {},
   "outputs": [
    {
     "data": {
      "image/png": "[encoded data removed]",
      "text/plain": [
       "<Figure size 432x288 with 1 Axes>"
      ]
     },
     "metadata": {
      "needs_background": "light"
     },
     "output_type": "display_data"
    }
   ],
   "source": [
    "x = np.arange(len(subject_names))\n",
    "width = 0.35\n",
    "\n",
    "fig, ax = plt.subplots()\n",
    "rects1 = ax.bar(x-width/2, interictal_percs, width, label='Nominal')\n",
    "rects2 = ax.bar(x-width/2, preictal_percs, width, label='Seizure')\n",
    "\n",
    "ax.set_title('Seizures in Subjects')\n",
    "ax.set_ylabel('%')\n",
    "ax.set_xticks(x)\n",
    "ax.set_xticklabels(subject_names)\n",
    "ax.legend()\n",
    "\n",
    "ax.bar_label(rects1, padding=3)\n",
    "ax.bar_label(rects2, padding=3)\n",
    "\n",
    "fig.tight_layout()\n",
    "plt.show()"
   ]
  },
  {
   "cell_type": "code",
   "execution_count": 156,
   "metadata": {},
   "outputs": [
    {
     "data": {
      "image/png": "[encoded data removed]",
      "text/plain": [
       "<Figure size 432x288 with 1 Axes>"
      ]
     },
     "metadata": {
      "needs_background": "light"
     },
     "output_type": "display_data"
    }
   ],
   "source": [
    "df = pd.DataFrame({\"Nominal\": interictal_percs, \"Seizure\": preictal_percs},\n",
    "                  index=subject_names)\n",
    "ax = df.plot.bar(rot=0)\n",
    "ax.set_title('Class Imbalance')\n",
    "ax.set_ylabel('%')\n",
    "\n",
    "ax.legend()\n",
    "fig.tight_layout()\n",
    "plt.savefig('images/class_imbalance.png')\n",
    "plt.show()"
   ]
  },
  {
   "cell_type": "code",
   "execution_count": null,
   "metadata": {},
   "outputs": [],
   "source": []
  }
 ],
 "metadata": {
  "kernelspec": {
   "display_name": "Python 3",
   "language": "python",
   "name": "python3"
  },
  "language_info": {
   "codemirror_mode": {
    "name": "ipython",
    "version": 3
   },
   "file_extension": ".py",
   "mimetype": "text/x-python",
   "name": "python",
   "nbconvert_exporter": "python",
   "pygments_lexer": "ipython3",
   "version": "3.9.5"
  }
 },
 "nbformat": 4,
 "nbformat_minor": 4
}
