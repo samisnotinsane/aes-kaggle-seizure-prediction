{
 "cells": [
  {
   "cell_type": "code",
   "execution_count": 121,
   "metadata": {},
   "outputs": [],
   "source": [
    "import preprocess\n",
    "import numpy as np\n",
    "from collections import Counter\n",
    "from imblearn.over_sampling import RandomOverSampler\n",
    "from sklearn.model_selection import train_test_split\n",
    "import scipy.io as sio\n",
    "import matplotlib.pyplot as plt\n",
    "from sklearn.preprocessing import MinMaxScaler\n",
    "from sklearn.neighbors import KNeighborsClassifier\n",
    "from tqdm import tqdm\n",
    "from sklearn import metrics"
   ]
  },
  {
   "cell_type": "code",
   "execution_count": 96,
   "metadata": {},
   "outputs": [],
   "source": [
    "%matplotlib osx"
   ]
  },
  {
   "cell_type": "markdown",
   "metadata": {},
   "source": [
    "# Data Loading"
   ]
  },
  {
   "cell_type": "code",
   "execution_count": 3,
   "metadata": {},
   "outputs": [
    {
     "name": "stdout",
     "output_type": "stream",
     "text": [
      "Interictal file count: 480\n",
      "Preictal file count: 24\n",
      "CPU times: user 2.4 ms, sys: 6.01 ms, total: 8.41 ms\n",
      "Wall time: 10.4 ms\n"
     ]
    }
   ],
   "source": [
    "%%time\n",
    "# load input files\n",
    "rootdir = '../../data.nosync/'\n",
    "interictal_count = preprocess.count_interictal_files(rootdir)\n",
    "interictal_files = preprocess.get_interictal_files(rootdir, interictal_count)\n",
    "preictal_files = preprocess.get_preictal_files(rootdir)\n",
    "print('Interictal file count:', len(interictal_files))\n",
    "print('Preictal file count:', len(preictal_files))"
   ]
  },
  {
   "cell_type": "code",
   "execution_count": 6,
   "metadata": {},
   "outputs": [
    {
     "data": {
      "text/plain": [
       "(504,)"
      ]
     },
     "execution_count": 6,
     "metadata": {},
     "output_type": "execute_result"
    }
   ],
   "source": [
    "# target vector\n",
    "interictal_y = np.zeros(len(interictal_files))\n",
    "preictal_y = np.ones(len(preictal_files))\n",
    "y = np.concatenate((interictal_y, preictal_y), axis=0)\n",
    "y.shape"
   ]
  },
  {
   "cell_type": "code",
   "execution_count": 13,
   "metadata": {},
   "outputs": [
    {
     "name": "stdout",
     "output_type": "stream",
     "text": [
      "<class 'numpy.ndarray'>\n",
      "CPU times: user 458 µs, sys: 262 µs, total: 720 µs\n",
      "Wall time: 602 µs\n"
     ]
    },
    {
     "data": {
      "text/plain": [
       "(504,)"
      ]
     },
     "execution_count": 13,
     "metadata": {},
     "output_type": "execute_result"
    }
   ],
   "source": [
    "%%time\n",
    "# input vector\n",
    "X_list = []\n",
    "X_list.extend(interictal_files)\n",
    "X_list.extend(preictal_files)\n",
    "X = np.array(X_list)\n",
    "print(type(X))\n",
    "X.shape"
   ]
  },
  {
   "cell_type": "code",
   "execution_count": 16,
   "metadata": {},
   "outputs": [
    {
     "name": "stdout",
     "output_type": "stream",
     "text": [
      "Counter({0.0: 480, 1.0: 24})\n"
     ]
    }
   ],
   "source": [
    "# summarize class distribution (0=interictal, 1=pre-ictal)\n",
    "print(Counter(y))"
   ]
  },
  {
   "cell_type": "code",
   "execution_count": 20,
   "metadata": {},
   "outputs": [
    {
     "name": "stdout",
     "output_type": "stream",
     "text": [
      "Counter({0.0: 480, 1.0: 480})\n"
     ]
    }
   ],
   "source": [
    "# define oversampling strategy due to class imbalance\n",
    "oversample = RandomOverSampler(sampling_strategy='minority')\n",
    "X_over, y_over = oversample.fit_resample(X.reshape(-1,1), y)\n",
    "print(Counter(y_over))"
   ]
  },
  {
   "cell_type": "code",
   "execution_count": 23,
   "metadata": {},
   "outputs": [
    {
     "name": "stdout",
     "output_type": "stream",
     "text": [
      "(643, 1)\n",
      "(317, 1)\n"
     ]
    }
   ],
   "source": [
    "X_train, X_test, y_train, y_test = train_test_split(X_over, y_over, test_size=0.33, random_state=42)\n",
    "print(X_train.shape)\n",
    "print(X_test.shape)"
   ]
  },
  {
   "cell_type": "markdown",
   "metadata": {},
   "source": [
    "# Data Visualisation"
   ]
  },
  {
   "cell_type": "code",
   "execution_count": 36,
   "metadata": {},
   "outputs": [
    {
     "name": "stdout",
     "output_type": "stream",
     "text": [
      "Label: 0.0\n",
      "Load file: ../../data.nosync/Dog_1_interictal_segment_0146.mat\n",
      "Sampling rate (Hz): 400.0\n",
      "(16, 239766)\n"
     ]
    }
   ],
   "source": [
    "# load sample interictal file\n",
    "x_interictal = X_train[0]\n",
    "print('Label:', y_train[0])\n",
    "filepath = rootdir + x_interictal.item()\n",
    "print('Load file:', file_path)\n",
    "mat = sio.loadmat(filepath)\n",
    "sigbuf = preprocess.get_sig(mat)\n",
    "fs = np.rint(preprocess.get_fs(mat))\n",
    "print('Sampling rate (Hz):', fs)\n",
    "print(sigbuf.shape)"
   ]
  },
  {
   "cell_type": "code",
   "execution_count": 47,
   "metadata": {},
   "outputs": [
    {
     "data": {
      "text/plain": [
       "(239766,)"
      ]
     },
     "execution_count": 47,
     "metadata": {},
     "output_type": "execute_result"
    }
   ],
   "source": [
    "EEG[:,0].shape"
   ]
  },
  {
   "cell_type": "code",
   "execution_count": 45,
   "metadata": {},
   "outputs": [
    {
     "data": {
      "text/plain": [
       "(239766, 16)"
      ]
     },
     "execution_count": 45,
     "metadata": {},
     "output_type": "execute_result"
    }
   ],
   "source": [
    "EEG.shape"
   ]
  },
  {
   "cell_type": "code",
   "execution_count": 107,
   "metadata": {},
   "outputs": [],
   "source": [
    "# visualise raw signal\n",
    "EEG = sigbuf.T\n",
    "N = len(EEG)\n",
    "t = np.arange(0,N)/fs\n",
    "fig, axes = plt.subplots(figsize=(10,12), nrows=16, ncols=1, sharex=True)\n",
    "for i, ax in enumerate(axes):\n",
    "    ax.plot(t, EEG[:,i], color='k')\n",
    "plt.xlabel('Time, s')\n",
    "axes[7].set_ylabel('Amplitude, $\\mu V$')\n",
    "fig.tight_layout()"
   ]
  },
  {
   "cell_type": "markdown",
   "metadata": {},
   "source": [
    "The lines appear 'dense', will rescaling the data help?"
   ]
  },
  {
   "cell_type": "code",
   "execution_count": 97,
   "metadata": {},
   "outputs": [],
   "source": [
    "def rescale_ch(signal, smin, smax):\n",
    "    signal = signal.reshape((len(signal), 1))\n",
    "    scaler = MinMaxScaler(feature_range=(smin,smax))\n",
    "    scaler = scaler.fit(signal)\n",
    "    rescaled = scaler.transform(signal)\n",
    "    rescaled = rescaled.reshape((-1,))\n",
    "    return rescaled"
   ]
  },
  {
   "cell_type": "code",
   "execution_count": 98,
   "metadata": {},
   "outputs": [],
   "source": [
    "# rescale data to range [0,1]\n",
    "rescaled_EEG = np.empty_like(EEG)\n",
    "for i in range(EEG.shape[1]):\n",
    "    rescaled_EEG[:,i] = rescale_ch(EEG[:,i], smin=0, smax=1)"
   ]
  },
  {
   "cell_type": "code",
   "execution_count": 100,
   "metadata": {},
   "outputs": [],
   "source": [
    "# rescale data to range [-1,1]\n",
    "rescaled_EEG = np.empty_like(EEG)\n",
    "for i in range(EEG.shape[1]):\n",
    "    rescaled_EEG[:,i] = rescale_ch(EEG[:,i], smin=-1, smax=1)"
   ]
  },
  {
   "cell_type": "markdown",
   "metadata": {},
   "source": [
    "Rescaling between [0,1] makes the signal appear flat with pulses. The same is true for range [-1,1] but this time the pulses appear in the negative axis too."
   ]
  },
  {
   "cell_type": "code",
   "execution_count": 102,
   "metadata": {},
   "outputs": [],
   "source": [
    "# rescale data to range [-10,10]\n",
    "rescaled_EEG = np.empty_like(EEG)\n",
    "for i in range(EEG.shape[1]):\n",
    "    rescaled_EEG[:,i] = rescale_ch(EEG[:,i], smin=-10, smax=10)"
   ]
  },
  {
   "cell_type": "markdown",
   "metadata": {},
   "source": [
    "Between [-10,10] the signal is less flat but it still looks abnormal compared to raw eeg as there are periods of flatness between oscillations."
   ]
  },
  {
   "cell_type": "code",
   "execution_count": 108,
   "metadata": {},
   "outputs": [],
   "source": [
    "# rescale data to range [-100,100]\n",
    "rescaled_EEG = np.empty_like(EEG)\n",
    "for i in range(EEG.shape[1]):\n",
    "    rescaled_EEG[:,i] = rescale_ch(EEG[:,i], smin=-100, smax=100)"
   ]
  },
  {
   "cell_type": "markdown",
   "metadata": {},
   "source": [
    "Rescaling is clearly impacting the signal oscillations. We shall perform experiments to determine the optimal scale when assessing knn performance."
   ]
  },
  {
   "cell_type": "code",
   "execution_count": 105,
   "metadata": {},
   "outputs": [],
   "source": [
    "# visualise rescaled signal\n",
    "N = len(rescaled_EEG)\n",
    "t = np.arange(0,N)/fs\n",
    "fig, axes = plt.subplots(figsize=(20,12), nrows=16, ncols=1, sharex=True)\n",
    "for i, ax in enumerate(axes):\n",
    "    ax.plot(t, rescaled_EEG[:,i], color='k')\n",
    "plt.xlabel('Time, s')\n",
    "axes[7].set_ylabel('Amplitude, $\\mu V$')\n",
    "fig.tight_layout()"
   ]
  },
  {
   "cell_type": "markdown",
   "metadata": {},
   "source": [
    "# Data Preprocessing"
   ]
  },
  {
   "cell_type": "code",
   "execution_count": 113,
   "metadata": {},
   "outputs": [
    {
     "name": "stderr",
     "output_type": "stream",
     "text": [
      "100%|██████████| 643/643 [02:50<00:00,  3.78it/s]\n"
     ]
    }
   ],
   "source": [
    "# rescale signal in range [-100,100]\n",
    "X_train_EEG = np.zeros((643, 16, 239766))\n",
    "\n",
    "for i in tqdm(range(len(X_train))):\n",
    "    filepath = rootdir + X_train[i].item()\n",
    "    mat = sio.loadmat(filepath)\n",
    "    sigbuf = preprocess.get_sig(mat)\n",
    "    rescaled_sigbuf = np.empty_like(sigbuf)\n",
    "    for j in range(sigbuf.shape[0]):\n",
    "        rescaled_sigbuf[j,:] = rescale_ch(sigbuf[j,:], smin=-100, smax=100)\n",
    "    X_train_EEG[i] = rescaled_sigbuf"
   ]
  },
  {
   "cell_type": "code",
   "execution_count": 115,
   "metadata": {},
   "outputs": [
    {
     "name": "stderr",
     "output_type": "stream",
     "text": [
      "100%|██████████| 317/317 [01:28<00:00,  3.58it/s]\n"
     ]
    }
   ],
   "source": [
    "# rescale signal in range [-100,100]\n",
    "X_test_EEG = np.zeros((317, 16, 239766))\n",
    "\n",
    "for i in tqdm(range(len(X_test))):\n",
    "    filepath = rootdir + X_test[i].item()\n",
    "    mat = sio.loadmat(filepath)\n",
    "    sigbuf = preprocess.get_sig(mat)\n",
    "    rescaled_sigbuf = np.empty_like(sigbuf)\n",
    "    for j in range(sigbuf.shape[0]):\n",
    "        rescaled_sigbuf[j,:] = rescale_ch(sigbuf[j,:], smin=-100, smax=100)\n",
    "    X_test_EEG[i] = rescaled_sigbuf"
   ]
  },
  {
   "cell_type": "markdown",
   "metadata": {},
   "source": [
    "# Model Building"
   ]
  },
  {
   "cell_type": "markdown",
   "metadata": {},
   "source": [
    "## k-Nearest Neighbour"
   ]
  },
  {
   "cell_type": "code",
   "execution_count": 120,
   "metadata": {},
   "outputs": [
    {
     "data": {
      "text/plain": [
       "(643, 16, 239766)"
      ]
     },
     "execution_count": 120,
     "metadata": {},
     "output_type": "execute_result"
    }
   ],
   "source": [
    "X_train_EEG.shape"
   ]
  },
  {
   "cell_type": "markdown",
   "metadata": {},
   "source": [
    "3-dimensional input is incompatible with kNN classifier. One strategy is to reshape the input to `(643, 16*239766)` which will result in a new 2-dimensional array which preserves all the information in 3D array but results in the kNN not being able to take advantage of the implicit structure of temporal data."
   ]
  },
  {
   "cell_type": "code",
   "execution_count": 123,
   "metadata": {},
   "outputs": [
    {
     "data": {
      "text/plain": [
       "(643, 3836256)"
      ]
     },
     "execution_count": 123,
     "metadata": {},
     "output_type": "execute_result"
    }
   ],
   "source": [
    "X_train_EEG_2d = X_train_EEG.reshape(-1, 16*239766)\n",
    "X_train_EEG_2d.shape"
   ]
  },
  {
   "cell_type": "code",
   "execution_count": 128,
   "metadata": {},
   "outputs": [
    {
     "name": "stdout",
     "output_type": "stream",
     "text": [
      "CPU times: user 5.88 s, sys: 41.6 s, total: 47.5 s\n",
      "Wall time: 2min 36s\n"
     ]
    },
    {
     "data": {
      "text/plain": [
       "KNeighborsClassifier()"
      ]
     },
     "execution_count": 128,
     "metadata": {},
     "output_type": "execute_result"
    }
   ],
   "source": [
    "%%time\n",
    "k = 5\n",
    "model = KNeighborsClassifier(n_neighbors=k)\n",
    "model.fit(X_train_EEG_2d, y_train)"
   ]
  },
  {
   "cell_type": "markdown",
   "metadata": {},
   "source": [
    "Before evaluating the test set, we need to perform the same kind of dimensionality reduction."
   ]
  },
  {
   "cell_type": "code",
   "execution_count": 129,
   "metadata": {},
   "outputs": [
    {
     "data": {
      "text/plain": [
       "(317, 3836256)"
      ]
     },
     "execution_count": 129,
     "metadata": {},
     "output_type": "execute_result"
    }
   ],
   "source": [
    "X_test_EEG_2d = X_test_EEG.reshape(-1, 16*239766)\n",
    "X_test_EEG_2d.shape"
   ]
  },
  {
   "cell_type": "code",
   "execution_count": null,
   "metadata": {},
   "outputs": [],
   "source": [
    "%%time\n",
    "# Predict the response for test dataset\n",
    "y_pred = model.predict(X_test_EEG_2d)\n",
    "print(\"Accuracy:\", metrics.accuracy_score(y_test, y_pred))"
   ]
  },
  {
   "cell_type": "code",
   "execution_count": null,
   "metadata": {},
   "outputs": [],
   "source": []
  }
 ],
 "metadata": {
  "kernelspec": {
   "display_name": "Python 3",
   "language": "python",
   "name": "python3"
  },
  "language_info": {
   "codemirror_mode": {
    "name": "ipython",
    "version": 3
   },
   "file_extension": ".py",
   "mimetype": "text/x-python",
   "name": "python",
   "nbconvert_exporter": "python",
   "pygments_lexer": "ipython3",
   "version": "3.8.5"
  }
 },
 "nbformat": 4,
 "nbformat_minor": 4
}
