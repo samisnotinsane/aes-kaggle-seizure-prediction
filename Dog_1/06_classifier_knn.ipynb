{
 "cells": [
  {
   "cell_type": "markdown",
   "id": "d441bee2",
   "metadata": {},
   "source": [
    "# Binary Classification"
   ]
  },
  {
   "cell_type": "markdown",
   "id": "22cb2528",
   "metadata": {},
   "source": [
    "k-Nearest Neighbour is a classifier that can learn the decision boundary between interictal and preictal segments. Spectral power bands extracted from raw EEG signal is used as input and a target label is specified alongside. We use the following convention for target label:\n",
    "\n",
    "- 0: interictal segment\n",
    "- 1: preictal segment"
   ]
  },
  {
   "cell_type": "code",
   "execution_count": 1,
   "id": "480af13c",
   "metadata": {},
   "outputs": [],
   "source": [
    "import os\n",
    "import re\n",
    "import h5py\n",
    "import numpy as np\n",
    "from tqdm import tqdm\n",
    "from sklearn.model_selection import train_test_split\n",
    "from sklearn.neighbors import KNeighborsClassifier\n",
    "from sklearn.metrics import accuracy_score\n",
    "from mlxtend.plotting import plot_decision_regions\n",
    "from collections import Counter\n",
    "from imblearn.under_sampling import NearMiss\n",
    "import matplotlib.pyplot as plt"
   ]
  },
  {
   "cell_type": "code",
   "execution_count": 2,
   "id": "c35fcb60",
   "metadata": {},
   "outputs": [
    {
     "data": {
      "text/plain": [
       "['Dog_1', 'Dog_2', 'Dog_3', 'Dog_4', 'Dog_5']"
      ]
     },
     "execution_count": 2,
     "metadata": {},
     "output_type": "execute_result"
    }
   ],
   "source": [
    "data_dir = '/Volumes/My Passport/AI_Research/data/'\n",
    "patient_names = [name for name in next(os.walk(data_dir))[1]\n",
    "                 if name != '.ipynb_checkpoints' \n",
    "                 if name != 'Patient_1' \n",
    "                 if name != 'Patient_2']\n",
    "patient_names"
   ]
  },
  {
   "cell_type": "markdown",
   "id": "71ce4c09",
   "metadata": {},
   "source": [
    "## Load data matrix and target vector"
   ]
  },
  {
   "cell_type": "code",
   "execution_count": 3,
   "id": "f38af2f6",
   "metadata": {},
   "outputs": [
    {
     "name": "stderr",
     "output_type": "stream",
     "text": [
      "Dog_1: 100%|██████████| 504/504 [00:00<00:00, 534.31it/s]\n"
     ]
    }
   ],
   "source": [
    "for i in range(len(patient_names) - 4):\n",
    "    patient_name = patient_names[i]\n",
    "    files_dir = data_dir + patient_name + '/' + 'Power_In_Band_Features' + '/'\n",
    "    patient_files = os.listdir(files_dir)\n",
    "    interictal_features = []\n",
    "    preictal_features = []\n",
    "    for j in tqdm(range(len(patient_files)), desc=patient_name):\n",
    "        patient_file_name = patient_files[j]\n",
    "        h5_path = files_dir + patient_file_name\n",
    "        if not re.findall('_test_segment_', patient_file_name):\n",
    "            with h5py.File(h5_path, \"r\") as f:\n",
    "                group_key = list(f.keys())[0]\n",
    "                data = np.array(f.get(group_key))\n",
    "            if re.findall('_interictal_segment_', patient_file_name):\n",
    "                interictal_features.append(data.flatten())\n",
    "            if re.findall('_preictal_segment_', patient_file_name):\n",
    "                preictal_features.append(data.flatten())    \n",
    "    interictal_ys = np.zeros((len(interictal_features),))\n",
    "    preictal_ys = np.ones(len(preictal_features))\n",
    "    \n",
    "    interictal_features = np.stack(interictal_features, axis=0)\n",
    "    preictal_features = np.stack(preictal_features, axis=0)\n",
    "    \n",
    "    X = np.vstack((interictal_features, preictal_features))\n",
    "    y = np.concatenate((interictal_ys, preictal_ys), axis=0)"
   ]
  },
  {
   "cell_type": "code",
   "execution_count": 4,
   "id": "5886e049",
   "metadata": {},
   "outputs": [
    {
     "name": "stdout",
     "output_type": "stream",
     "text": [
      "X: (504, 96)\n",
      "y: (504,)\n"
     ]
    }
   ],
   "source": [
    "print('X:', X.shape)\n",
    "print('y:', y.shape)"
   ]
  },
  {
   "cell_type": "markdown",
   "id": "f6614689",
   "metadata": {},
   "source": [
    "## Create validation set"
   ]
  },
  {
   "cell_type": "code",
   "execution_count": 5,
   "id": "da6aaa90",
   "metadata": {},
   "outputs": [],
   "source": [
    "X_train, X_val, y_train, y_val = train_test_split(X, y, test_size=0.33, random_state=42)"
   ]
  },
  {
   "cell_type": "code",
   "execution_count": 6,
   "id": "d422e390",
   "metadata": {},
   "outputs": [
    {
     "name": "stdout",
     "output_type": "stream",
     "text": [
      "(337, 96)\n",
      "(167, 96)\n"
     ]
    }
   ],
   "source": [
    "print(X_train.shape)\n",
    "print(X_val.shape)"
   ]
  },
  {
   "cell_type": "code",
   "execution_count": 7,
   "id": "4a480dec",
   "metadata": {},
   "outputs": [
    {
     "name": "stdout",
     "output_type": "stream",
     "text": [
      "Counter({0.0: 480, 1.0: 24})\n"
     ]
    }
   ],
   "source": [
    "# summarize class distribution\n",
    "counter = Counter(y)\n",
    "print(counter)"
   ]
  },
  {
   "cell_type": "code",
   "execution_count": 8,
   "id": "80291e41",
   "metadata": {},
   "outputs": [
    {
     "data": {
      "image/png": "[encoded data removed]",
      "text/plain": [
       "<Figure size 432x288 with 1 Axes>"
      ]
     },
     "metadata": {
      "needs_background": "light"
     },
     "output_type": "display_data"
    }
   ],
   "source": [
    "# scatter plot of examples by class label\n",
    "for label, _ in counter.items():\n",
    "    row_ix = np.where(y == label)[0]\n",
    "    plt.scatter(X[row_ix, 0], X[row_ix, 1], label=str(label))\n",
    "plt.legend()\n",
    "plt.show()"
   ]
  },
  {
   "cell_type": "markdown",
   "id": "9f289922",
   "metadata": {},
   "source": [
    "## Undersampling for class imbalance"
   ]
  },
  {
   "cell_type": "code",
   "execution_count": 10,
   "id": "8df0a682",
   "metadata": {},
   "outputs": [
    {
     "name": "stdout",
     "output_type": "stream",
     "text": [
      "Counter({0.0: 14, 1.0: 14})\n"
     ]
    },
    {
     "data": {
      "image/png": "[encoded data removed]",
      "text/plain": [
       "<Figure size 432x288 with 1 Axes>"
      ]
     },
     "metadata": {
      "needs_background": "light"
     },
     "output_type": "display_data"
    }
   ],
   "source": [
    "# define the undersampling method\n",
    "undersample = NearMiss(version=1, n_neighbors=5)\n",
    "# transform the dataset\n",
    "X_train, y_train = undersample.fit_resample(X_train, y_train)\n",
    "# summarize the new class distribution\n",
    "counter = Counter(y_train)\n",
    "print(counter)\n",
    "# scatter plot of examples by class label\n",
    "for label, _ in counter.items():\n",
    "    row_ix = np.where(y_train == label)[0]\n",
    "    plt.scatter(X_train[row_ix, 0], X_train[row_ix, 1], label=str(label))\n",
    "plt.legend()\n",
    "plt.show()"
   ]
  },
  {
   "cell_type": "markdown",
   "id": "e42889b8",
   "metadata": {},
   "source": [
    "## Fit model"
   ]
  },
  {
   "cell_type": "code",
   "execution_count": 11,
   "id": "767b2488",
   "metadata": {},
   "outputs": [
    {
     "name": "stdout",
     "output_type": "stream",
     "text": [
      "CPU times: user 17.3 ms, sys: 2.51 ms, total: 19.8 ms\n",
      "Wall time: 17.9 ms\n"
     ]
    }
   ],
   "source": [
    "%%time\n",
    "k = 3\n",
    "knn = KNeighborsClassifier(n_neighbors=k)\n",
    "knn.fit(X, y)\n",
    "y_preds = knn.predict(X_val)"
   ]
  },
  {
   "cell_type": "code",
   "execution_count": 12,
   "id": "ed2dac9d",
   "metadata": {},
   "outputs": [
    {
     "name": "stdout",
     "output_type": "stream",
     "text": [
      "Accuracy: 96.40718562874252\n",
      "CPU times: user 1.13 ms, sys: 431 µs, total: 1.56 ms\n",
      "Wall time: 1.26 ms\n"
     ]
    }
   ],
   "source": [
    "%%time\n",
    "acc = accuracy_score(y_val, y_preds)\n",
    "print(f'Accuracy: {acc * 100}')"
   ]
  },
  {
   "cell_type": "markdown",
   "id": "727b20aa",
   "metadata": {},
   "source": [
    "## Plot decision boundary"
   ]
  },
  {
   "cell_type": "code",
   "execution_count": null,
   "id": "ed67c807",
   "metadata": {},
   "outputs": [],
   "source": [
    "X_train[:, [0, 2]].shape"
   ]
  },
  {
   "cell_type": "code",
   "execution_count": null,
   "id": "1f4a09e4",
   "metadata": {},
   "outputs": [],
   "source": [
    "y_train.shape"
   ]
  },
  {
   "cell_type": "code",
   "execution_count": null,
   "id": "9c74b830",
   "metadata": {},
   "outputs": [],
   "source": [
    "plot_decision_regions(X_train[:, [0, 2]], y_train.astype(np.int32), clf=knn, legend=2)\n",
    "\n",
    "# Adding axes annotations\n",
    "# plt.xlabel('sepal length [cm]')\n",
    "# plt.ylabel('petal length [cm]')\n",
    "plt.title('k-NN on Dog_1')\n",
    "plt.show()"
   ]
  },
  {
   "cell_type": "code",
   "execution_count": null,
   "id": "70f97047",
   "metadata": {},
   "outputs": [],
   "source": []
  }
 ],
 "metadata": {
  "kernelspec": {
   "display_name": "Python 3",
   "language": "python",
   "name": "python3"
  },
  "language_info": {
   "codemirror_mode": {
    "name": "ipython",
    "version": 3
   },
   "file_extension": ".py",
   "mimetype": "text/x-python",
   "name": "python",
   "nbconvert_exporter": "python",
   "pygments_lexer": "ipython3",
   "version": "3.8.5"
  }
 },
 "nbformat": 4,
 "nbformat_minor": 5
}
