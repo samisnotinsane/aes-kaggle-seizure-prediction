{
 "cells": [
  {
   "cell_type": "markdown",
   "id": "81b59fa7",
   "metadata": {},
   "source": [
    "# Binary Classification"
   ]
  },
  {
   "cell_type": "markdown",
   "id": "efa02284",
   "metadata": {},
   "source": [
    "k-Nearest Neighbour is a classifier that can learn the decision boundary between interictal and preictal segments. Spectral power bands extracted from raw EEG signal is used as input and a target label is specified alongside. We use the following convention for target label:\n",
    "\n",
    "- 0: interictal segment\n",
    "- 1: preictal segment"
   ]
  },
  {
   "cell_type": "code",
   "execution_count": 1,
   "id": "0eae4121",
   "metadata": {},
   "outputs": [],
   "source": [
    "import os\n",
    "import re\n",
    "import h5py\n",
    "import numpy as np\n",
    "from tqdm import tqdm\n",
    "from sklearn.model_selection import train_test_split, cross_val_score, GridSearchCV\n",
    "from sklearn.neighbors import KNeighborsClassifier\n",
    "from sklearn.metrics import accuracy_score, classification_report\n",
    "from collections import Counter\n",
    "from imblearn.under_sampling import NearMiss\n",
    "from imblearn.over_sampling import RandomOverSampler \n",
    "import matplotlib.pyplot as plt"
   ]
  },
  {
   "cell_type": "code",
   "execution_count": 2,
   "id": "6d2142f2",
   "metadata": {},
   "outputs": [
    {
     "data": {
      "text/plain": [
       "['Dog_1', 'Dog_2', 'Dog_3', 'Dog_4', 'Dog_5']"
      ]
     },
     "execution_count": 2,
     "metadata": {},
     "output_type": "execute_result"
    }
   ],
   "source": [
    "data_dir = '/Volumes/My Passport/AI_Research/data/'\n",
    "patient_names = [name for name in next(os.walk(data_dir))[1]\n",
    "                 if name != '.ipynb_checkpoints' \n",
    "                 if name != 'Patient_1' \n",
    "                 if name != 'Patient_2']\n",
    "patient_names"
   ]
  },
  {
   "cell_type": "markdown",
   "id": "1f53d33e",
   "metadata": {},
   "source": [
    "## Load data matrix and target vector"
   ]
  },
  {
   "cell_type": "code",
   "execution_count": 3,
   "id": "48a3acea",
   "metadata": {},
   "outputs": [
    {
     "name": "stderr",
     "output_type": "stream",
     "text": [
      "Dog_1: 100%|██████████| 504/504 [00:22<00:00, 22.77it/s]\n"
     ]
    }
   ],
   "source": [
    "for i in range(len(patient_names) - 4):\n",
    "    patient_name = patient_names[i]\n",
    "    files_dir = data_dir + patient_name + '/' + 'Power_In_Band_Features' + '/'\n",
    "    patient_files = os.listdir(files_dir)\n",
    "    interictal_features = []\n",
    "    preictal_features = []\n",
    "    for j in tqdm(range(len(patient_files)), desc=patient_name):\n",
    "        patient_file_name = patient_files[j]\n",
    "        h5_path = files_dir + patient_file_name\n",
    "        if not re.findall('_test_segment_', patient_file_name):\n",
    "            with h5py.File(h5_path, \"r\") as f:\n",
    "                group_key = list(f.keys())[0]\n",
    "                data = np.array(f.get(group_key))\n",
    "            if re.findall('_interictal_segment_', patient_file_name):\n",
    "                interictal_features.append(data.flatten())\n",
    "            if re.findall('_preictal_segment_', patient_file_name):\n",
    "                preictal_features.append(data.flatten())    \n",
    "    interictal_ys = np.zeros((len(interictal_features),))\n",
    "    preictal_ys = np.ones(len(preictal_features))\n",
    "    \n",
    "    interictal_features = np.stack(interictal_features, axis=0)\n",
    "    preictal_features = np.stack(preictal_features, axis=0)\n",
    "    \n",
    "    X = np.vstack((interictal_features, preictal_features))\n",
    "    y = np.concatenate((interictal_ys, preictal_ys), axis=0)"
   ]
  },
  {
   "cell_type": "code",
   "execution_count": 4,
   "id": "90ec5c63",
   "metadata": {},
   "outputs": [
    {
     "name": "stdout",
     "output_type": "stream",
     "text": [
      "X: (504, 96)\n",
      "y: (504,)\n"
     ]
    }
   ],
   "source": [
    "print('X:', X.shape)\n",
    "print('y:', y.shape)"
   ]
  },
  {
   "cell_type": "markdown",
   "id": "12370fc0",
   "metadata": {},
   "source": [
    "## Tackling class imbalance"
   ]
  },
  {
   "cell_type": "code",
   "execution_count": 5,
   "id": "fa52aefe",
   "metadata": {},
   "outputs": [
    {
     "data": {
      "image/png": "[encoded data removed]",
      "text/plain": [
       "<Figure size 432x288 with 1 Axes>"
      ]
     },
     "metadata": {
      "needs_background": "light"
     },
     "output_type": "display_data"
    },
    {
     "name": "stdout",
     "output_type": "stream",
     "text": [
      "Counter({0.0: 480, 1.0: 24})\n"
     ]
    }
   ],
   "source": [
    "# visualise class scatter\n",
    "counter = Counter(y)\n",
    "# scatter plot of examples by class label\n",
    "for label, _ in counter.items():\n",
    "    row_ix = np.where(y == label)[0]\n",
    "    plt.scatter(X[row_ix, 0], X[row_ix, 1], label=str(label))\n",
    "plt.legend()\n",
    "plt.show()\n",
    "print(counter)"
   ]
  },
  {
   "cell_type": "markdown",
   "id": "14c143ca",
   "metadata": {},
   "source": [
    "### Undersampling"
   ]
  },
  {
   "cell_type": "code",
   "execution_count": 6,
   "id": "0e8fc383",
   "metadata": {},
   "outputs": [
    {
     "data": {
      "image/png": "[encoded data removed]",
      "text/plain": [
       "<Figure size 432x288 with 1 Axes>"
      ]
     },
     "metadata": {
      "needs_background": "light"
     },
     "output_type": "display_data"
    },
    {
     "name": "stdout",
     "output_type": "stream",
     "text": [
      "Counter({0.0: 24, 1.0: 24})\n"
     ]
    }
   ],
   "source": [
    "# define the undersampling method\n",
    "undersample = NearMiss(version=1, n_neighbors=5)\n",
    "# transform the dataset\n",
    "X_under, y_under = undersample.fit_resample(X, y)\n",
    "# summarize the new class distribution\n",
    "counter = Counter(y_under)\n",
    "\n",
    "# scatter plot of examples by class label\n",
    "for label, _ in counter.items():\n",
    "    row_ix = np.where(y_under == label)[0]\n",
    "    plt.scatter(X_under[row_ix, 0], X_under[row_ix, 1], label=str(label))\n",
    "plt.legend()\n",
    "plt.show()\n",
    "print(counter)"
   ]
  },
  {
   "cell_type": "markdown",
   "id": "0d817c01",
   "metadata": {},
   "source": [
    "### Oversampling"
   ]
  },
  {
   "cell_type": "code",
   "execution_count": 7,
   "id": "6dbcbf80",
   "metadata": {},
   "outputs": [
    {
     "data": {
      "image/png": "[encoded data removed]",
      "text/plain": [
       "<Figure size 432x288 with 1 Axes>"
      ]
     },
     "metadata": {
      "needs_background": "light"
     },
     "output_type": "display_data"
    },
    {
     "name": "stdout",
     "output_type": "stream",
     "text": [
      "Counter({0.0: 480, 1.0: 480})\n"
     ]
    }
   ],
   "source": [
    "# define oversampling strategy\n",
    "oversample = RandomOverSampler(sampling_strategy='minority')\n",
    "# fit and apply the transform\n",
    "X_over, y_over = oversample.fit_resample(X, y)\n",
    "# summarize the new class distribution\n",
    "counter = Counter(y_over)\n",
    "# scatter plot of examples by class label\n",
    "for label, _ in counter.items():\n",
    "    row_ix = np.where(y_over == label)[0]\n",
    "    plt.scatter(X_over[row_ix, 0], X_over[row_ix, 1], label=str(label))\n",
    "plt.legend()\n",
    "plt.show()\n",
    "# summarize class distribution\n",
    "print(Counter(y_over))"
   ]
  },
  {
   "cell_type": "markdown",
   "id": "4026d246",
   "metadata": {},
   "source": [
    "## Create validation set"
   ]
  },
  {
   "cell_type": "markdown",
   "id": "acabbf98",
   "metadata": {},
   "source": [
    "We create 3 validation sets, first from the imbalananced data, second from the undersampled interictal class and third from oversampled preictal class."
   ]
  },
  {
   "cell_type": "code",
   "execution_count": 8,
   "id": "cbb86ce7",
   "metadata": {},
   "outputs": [],
   "source": [
    "# imbalanced class\n",
    "X_train, X_val, y_train, y_val = train_test_split(X, y, test_size=0.33, random_state=42)"
   ]
  },
  {
   "cell_type": "code",
   "execution_count": 9,
   "id": "aba5781c",
   "metadata": {},
   "outputs": [
    {
     "name": "stdout",
     "output_type": "stream",
     "text": [
      "(337, 96)\n",
      "(167, 96)\n"
     ]
    }
   ],
   "source": [
    "print(X_train.shape)\n",
    "print(X_val.shape)"
   ]
  },
  {
   "cell_type": "code",
   "execution_count": 10,
   "id": "b288ee8e",
   "metadata": {},
   "outputs": [],
   "source": [
    "# undersampled class\n",
    "X_train_under, X_val_under, y_train_under, y_val_under = train_test_split(X_under, y_under, test_size=0.33, \n",
    "                                                                         random_state=42)"
   ]
  },
  {
   "cell_type": "code",
   "execution_count": 11,
   "id": "0ad5fa30",
   "metadata": {},
   "outputs": [
    {
     "name": "stdout",
     "output_type": "stream",
     "text": [
      "(32, 96)\n",
      "(16, 96)\n"
     ]
    }
   ],
   "source": [
    "print(X_train_under.shape)\n",
    "print(X_val_under.shape)"
   ]
  },
  {
   "cell_type": "code",
   "execution_count": 12,
   "id": "4166a164",
   "metadata": {},
   "outputs": [],
   "source": [
    "# oversampled class\n",
    "X_train_over, X_val_over, y_train_over, y_val_over = train_test_split(X_over, y_over, test_size=0.33,\n",
    "                                                                     random_state=42)"
   ]
  },
  {
   "cell_type": "code",
   "execution_count": 13,
   "id": "5b7435ec",
   "metadata": {},
   "outputs": [
    {
     "name": "stdout",
     "output_type": "stream",
     "text": [
      "(643, 96)\n",
      "(317, 96)\n"
     ]
    }
   ],
   "source": [
    "print(X_train_over.shape)\n",
    "print(X_val_over.shape)"
   ]
  },
  {
   "cell_type": "markdown",
   "id": "d00a0fc6",
   "metadata": {},
   "source": [
    "## Fit model"
   ]
  },
  {
   "cell_type": "code",
   "execution_count": 14,
   "id": "64c44f5e",
   "metadata": {},
   "outputs": [],
   "source": [
    "# hyperparameter\n",
    "k = 3\n",
    "target_names = ['Interictal', 'Preictal']"
   ]
  },
  {
   "cell_type": "code",
   "execution_count": 15,
   "id": "794080ac",
   "metadata": {},
   "outputs": [
    {
     "name": "stdout",
     "output_type": "stream",
     "text": [
      "Imbalanced class\n",
      "              precision    recall  f1-score   support\n",
      "\n",
      "  Interictal       0.94      1.00      0.97       157\n",
      "    Preictal       0.00      0.00      0.00        10\n",
      "\n",
      "    accuracy                           0.94       167\n",
      "   macro avg       0.47      0.50      0.48       167\n",
      "weighted avg       0.88      0.94      0.91       167\n",
      "\n"
     ]
    },
    {
     "name": "stderr",
     "output_type": "stream",
     "text": [
      "/Users/sameenislam/anaconda3/envs/ml/lib/python3.8/site-packages/sklearn/metrics/_classification.py:1221: UndefinedMetricWarning: Precision and F-score are ill-defined and being set to 0.0 in labels with no predicted samples. Use `zero_division` parameter to control this behavior.\n",
      "  _warn_prf(average, modifier, msg_start, len(result))\n"
     ]
    }
   ],
   "source": [
    "# imbalanced class\n",
    "knn = KNeighborsClassifier(n_neighbors=k)\n",
    "knn.fit(X_train, y_train)\n",
    "y_preds = knn.predict(X_val)\n",
    "\n",
    "acc = accuracy_score(y_val, y_preds)\n",
    "print('Imbalanced class')\n",
    "print(classification_report(y_val, y_preds, target_names=target_names))"
   ]
  },
  {
   "cell_type": "code",
   "execution_count": 16,
   "id": "55fe2504",
   "metadata": {},
   "outputs": [
    {
     "name": "stdout",
     "output_type": "stream",
     "text": [
      "Undersampled class\n",
      "              precision    recall  f1-score   support\n",
      "\n",
      "  Interictal       0.50      1.00      0.67         7\n",
      "    Preictal       1.00      0.22      0.36         9\n",
      "\n",
      "    accuracy                           0.56        16\n",
      "   macro avg       0.75      0.61      0.52        16\n",
      "weighted avg       0.78      0.56      0.50        16\n",
      "\n"
     ]
    }
   ],
   "source": [
    "# undersampled class\n",
    "knn_under = KNeighborsClassifier(n_neighbors=k)\n",
    "knn_under.fit(X_under, y_under)\n",
    "y_preds_under = knn.predict(X_val_under)\n",
    "\n",
    "acc_under = accuracy_score(y_val_under, y_preds_under)\n",
    "\n",
    "print('Undersampled class')\n",
    "print(classification_report(y_val_under, y_preds_under, target_names=target_names))"
   ]
  },
  {
   "cell_type": "code",
   "execution_count": 17,
   "id": "33a9e9c8",
   "metadata": {},
   "outputs": [
    {
     "name": "stdout",
     "output_type": "stream",
     "text": [
      "Oversampled class\n",
      "              precision    recall  f1-score   support\n",
      "\n",
      "  Interictal       0.53      1.00      0.69       157\n",
      "    Preictal       1.00      0.13      0.23       160\n",
      "\n",
      "    accuracy                           0.56       317\n",
      "   macro avg       0.77      0.57      0.46       317\n",
      "weighted avg       0.77      0.56      0.46       317\n",
      "\n"
     ]
    }
   ],
   "source": [
    "# oversampled class\n",
    "knn_over = KNeighborsClassifier(n_neighbors=k)\n",
    "knn_over.fit(X_over, y_over)\n",
    "y_preds_over = knn.predict(X_val_over)\n",
    "\n",
    "acc_over = accuracy_score(y_val_over, y_preds_over)\n",
    "print('Oversampled class')\n",
    "print(classification_report(y_val_over, y_preds_over, target_names=target_names))"
   ]
  },
  {
   "cell_type": "markdown",
   "id": "fc29c190",
   "metadata": {},
   "source": [
    "## Cross-validation and hyperparameter tuning"
   ]
  },
  {
   "cell_type": "code",
   "execution_count": 18,
   "id": "9c891c80",
   "metadata": {},
   "outputs": [
    {
     "name": "stdout",
     "output_type": "stream",
     "text": [
      "Max accuracy: 0.95\n"
     ]
    },
    {
     "data": {
      "image/png": "[encoded data removed]",
      "text/plain": [
       "<Figure size 432x288 with 1 Axes>"
      ]
     },
     "metadata": {
      "needs_background": "light"
     },
     "output_type": "display_data"
    }
   ],
   "source": [
    "# 10-fold cross-validation with k=3 for k-NN\n",
    "knn = KNeighborsClassifier(n_neighbors=5)\n",
    "\n",
    "k_range = list(range(1, 31))\n",
    "param_grid = dict(n_neighbors=k_range)\n",
    "grid = GridSearchCV(knn, param_grid, cv=10, scoring='accuracy')\n",
    "\n",
    "# fit the grid with data\n",
    "grid.fit(X, y)\n",
    "\n",
    "grid_mean_scores = grid.cv_results_['mean_test_score']\n",
    "plt.plot(k_range, grid_mean_scores)\n",
    "plt.xlabel(r'$k$')\n",
    "plt.ylabel('Cross-Validated Accuracy')\n",
    "\n",
    "print('Max accuracy: {max_acc:.2f}'.format(max_acc = np.max(grid_mean_scores)))"
   ]
  },
  {
   "cell_type": "code",
   "execution_count": null,
   "id": "d90aa7c3",
   "metadata": {},
   "outputs": [],
   "source": []
  }
 ],
 "metadata": {
  "kernelspec": {
   "display_name": "Python 3",
   "language": "python",
   "name": "python3"
  },
  "language_info": {
   "codemirror_mode": {
    "name": "ipython",
    "version": 3
   },
   "file_extension": ".py",
   "mimetype": "text/x-python",
   "name": "python",
   "nbconvert_exporter": "python",
   "pygments_lexer": "ipython3",
   "version": "3.8.5"
  }
 },
 "nbformat": 4,
 "nbformat_minor": 5
}
