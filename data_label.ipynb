{
 "cells": [
  {
   "cell_type": "code",
   "execution_count": 1,
   "metadata": {},
   "outputs": [],
   "source": [
    "import data_loader as loader\n",
    "import data_transformer as transformer\n",
    "from tqdm.auto import trange\n",
    "import numpy as np\n",
    "from sklearn.model_selection import train_test_split"
   ]
  },
  {
   "cell_type": "code",
   "execution_count": 2,
   "metadata": {},
   "outputs": [
    {
     "data": {
      "application/vnd.jupyter.widget-view+json": {
       "model_id": "59dd335654874bd7877385e456f525a8",
       "version_major": 2,
       "version_minor": 0
      },
      "text/plain": [
       "Subject:   0%|          | 0/7 [00:00<?, ?it/s]"
      ]
     },
     "metadata": {},
     "output_type": "display_data"
    },
    {
     "data": {
      "application/vnd.jupyter.widget-view+json": {
       "model_id": "70749f094f7d435ab4623012582aa530",
       "version_major": 2,
       "version_minor": 0
      },
      "text/plain": [
       "keep_interictal:   0%|          | 0/1006 [00:00<?, ?it/s]"
      ]
     },
     "metadata": {},
     "output_type": "display_data"
    },
    {
     "data": {
      "application/vnd.jupyter.widget-view+json": {
       "model_id": "7513a0db780c43088657a92be6baf586",
       "version_major": 2,
       "version_minor": 0
      },
      "text/plain": [
       "keep_preictal:   0%|          | 0/1006 [00:00<?, ?it/s]"
      ]
     },
     "metadata": {},
     "output_type": "display_data"
    },
    {
     "data": {
      "application/vnd.jupyter.widget-view+json": {
       "model_id": "f5c2183a388341ada7a60a7d537d7165",
       "version_major": 2,
       "version_minor": 0
      },
      "text/plain": [
       "keep_interictal:   0%|          | 0/1542 [00:00<?, ?it/s]"
      ]
     },
     "metadata": {},
     "output_type": "display_data"
    },
    {
     "data": {
      "application/vnd.jupyter.widget-view+json": {
       "model_id": "e060fedf6bbe4f8eaa5bc295976c59c2",
       "version_major": 2,
       "version_minor": 0
      },
      "text/plain": [
       "keep_preictal:   0%|          | 0/1542 [00:00<?, ?it/s]"
      ]
     },
     "metadata": {},
     "output_type": "display_data"
    },
    {
     "data": {
      "application/vnd.jupyter.widget-view+json": {
       "model_id": "49cc6e435c6f4c64a495fc0e65244358",
       "version_major": 2,
       "version_minor": 0
      },
      "text/plain": [
       "keep_interictal:   0%|          | 0/2419 [00:00<?, ?it/s]"
      ]
     },
     "metadata": {},
     "output_type": "display_data"
    },
    {
     "data": {
      "application/vnd.jupyter.widget-view+json": {
       "model_id": "df877a2161594787806211f955d66125",
       "version_major": 2,
       "version_minor": 0
      },
      "text/plain": [
       "keep_preictal:   0%|          | 0/2419 [00:00<?, ?it/s]"
      ]
     },
     "metadata": {},
     "output_type": "display_data"
    },
    {
     "data": {
      "application/vnd.jupyter.widget-view+json": {
       "model_id": "6b0f454c443c48348140a0bc3235afd6",
       "version_major": 2,
       "version_minor": 0
      },
      "text/plain": [
       "keep_interictal:   0%|          | 0/1891 [00:00<?, ?it/s]"
      ]
     },
     "metadata": {},
     "output_type": "display_data"
    },
    {
     "data": {
      "application/vnd.jupyter.widget-view+json": {
       "model_id": "4b992bdfec49469aaae9ee16c3eb4984",
       "version_major": 2,
       "version_minor": 0
      },
      "text/plain": [
       "keep_preictal:   0%|          | 0/1891 [00:00<?, ?it/s]"
      ]
     },
     "metadata": {},
     "output_type": "display_data"
    },
    {
     "data": {
      "application/vnd.jupyter.widget-view+json": {
       "model_id": "e7f9cbd4f3d947caac92417517fc118f",
       "version_major": 2,
       "version_minor": 0
      },
      "text/plain": [
       "keep_interictal:   0%|          | 0/671 [00:00<?, ?it/s]"
      ]
     },
     "metadata": {},
     "output_type": "display_data"
    },
    {
     "data": {
      "application/vnd.jupyter.widget-view+json": {
       "model_id": "0dabbb5723e04af8957f89dd8e3842d7",
       "version_major": 2,
       "version_minor": 0
      },
      "text/plain": [
       "keep_preictal:   0%|          | 0/671 [00:00<?, ?it/s]"
      ]
     },
     "metadata": {},
     "output_type": "display_data"
    },
    {
     "data": {
      "application/vnd.jupyter.widget-view+json": {
       "model_id": "ba128ca9e7594243b3f92e5f58a52b2d",
       "version_major": 2,
       "version_minor": 0
      },
      "text/plain": [
       "keep_interictal:   0%|          | 0/263 [00:00<?, ?it/s]"
      ]
     },
     "metadata": {},
     "output_type": "display_data"
    },
    {
     "data": {
      "application/vnd.jupyter.widget-view+json": {
       "model_id": "7c23b7640fdf414a95b77de15c8ef271",
       "version_major": 2,
       "version_minor": 0
      },
      "text/plain": [
       "keep_preictal:   0%|          | 0/263 [00:00<?, ?it/s]"
      ]
     },
     "metadata": {},
     "output_type": "display_data"
    },
    {
     "data": {
      "application/vnd.jupyter.widget-view+json": {
       "model_id": "8438f45005e74c17a62d61be36914fd7",
       "version_major": 2,
       "version_minor": 0
      },
      "text/plain": [
       "keep_interictal:   0%|          | 0/210 [00:00<?, ?it/s]"
      ]
     },
     "metadata": {},
     "output_type": "display_data"
    },
    {
     "data": {
      "application/vnd.jupyter.widget-view+json": {
       "model_id": "bd8e830c0e4049b9acd8cd1212886af3",
       "version_major": 2,
       "version_minor": 0
      },
      "text/plain": [
       "keep_preictal:   0%|          | 0/210 [00:00<?, ?it/s]"
      ]
     },
     "metadata": {},
     "output_type": "display_data"
    }
   ],
   "source": [
    "X, y = transformer.make_input_target()"
   ]
  },
  {
   "cell_type": "code",
   "execution_count": 3,
   "metadata": {},
   "outputs": [
    {
     "data": {
      "text/plain": [
       "(4067,)"
      ]
     },
     "execution_count": 3,
     "metadata": {},
     "output_type": "execute_result"
    }
   ],
   "source": [
    "X.shape"
   ]
  },
  {
   "cell_type": "code",
   "execution_count": 4,
   "metadata": {},
   "outputs": [
    {
     "data": {
      "text/plain": [
       "(4067,)"
      ]
     },
     "execution_count": 4,
     "metadata": {},
     "output_type": "execute_result"
    }
   ],
   "source": [
    "y.shape"
   ]
  },
  {
   "cell_type": "code",
   "execution_count": 5,
   "metadata": {},
   "outputs": [],
   "source": [
    "X_train, X_val, y_train, y_val = train_test_split(X, y, test_size=0.33, random_state=42)"
   ]
  },
  {
   "cell_type": "code",
   "execution_count": null,
   "metadata": {},
   "outputs": [],
   "source": []
  },
  {
   "cell_type": "markdown",
   "metadata": {},
   "source": [
    "--- "
   ]
  },
  {
   "cell_type": "code",
   "execution_count": 2,
   "metadata": {},
   "outputs": [
    {
     "data": {
      "application/vnd.jupyter.widget-view+json": {
       "model_id": "67b41c8387164d999db3b9ba88898e27",
       "version_major": 2,
       "version_minor": 0
      },
      "text/plain": [
       "Subject:   0%|          | 0/7 [00:00<?, ?it/s]"
      ]
     },
     "metadata": {},
     "output_type": "display_data"
    },
    {
     "data": {
      "application/vnd.jupyter.widget-view+json": {
       "model_id": "1b672705e6964af98e2d4d3c61218fd7",
       "version_major": 2,
       "version_minor": 0
      },
      "text/plain": [
       "keep_interictal:   0%|          | 0/1006 [00:00<?, ?it/s]"
      ]
     },
     "metadata": {},
     "output_type": "display_data"
    },
    {
     "data": {
      "application/vnd.jupyter.widget-view+json": {
       "model_id": "fd81d4c4973145f5b1a78d0013af6c80",
       "version_major": 2,
       "version_minor": 0
      },
      "text/plain": [
       "keep_preictal:   0%|          | 0/1006 [00:00<?, ?it/s]"
      ]
     },
     "metadata": {},
     "output_type": "display_data"
    },
    {
     "data": {
      "application/vnd.jupyter.widget-view+json": {
       "model_id": "9f759d1f03aa42939edfe89675c7e0a7",
       "version_major": 2,
       "version_minor": 0
      },
      "text/plain": [
       "keep_interictal:   0%|          | 0/1542 [00:00<?, ?it/s]"
      ]
     },
     "metadata": {},
     "output_type": "display_data"
    },
    {
     "data": {
      "application/vnd.jupyter.widget-view+json": {
       "model_id": "198f582ecd21486c9f2326a5c41ec9f8",
       "version_major": 2,
       "version_minor": 0
      },
      "text/plain": [
       "keep_preictal:   0%|          | 0/1542 [00:00<?, ?it/s]"
      ]
     },
     "metadata": {},
     "output_type": "display_data"
    },
    {
     "data": {
      "application/vnd.jupyter.widget-view+json": {
       "model_id": "a0b93c88c7ec47f4adae260782847f42",
       "version_major": 2,
       "version_minor": 0
      },
      "text/plain": [
       "keep_interictal:   0%|          | 0/2419 [00:00<?, ?it/s]"
      ]
     },
     "metadata": {},
     "output_type": "display_data"
    },
    {
     "data": {
      "application/vnd.jupyter.widget-view+json": {
       "model_id": "12053f3b93ac4783b7351fc5165367a1",
       "version_major": 2,
       "version_minor": 0
      },
      "text/plain": [
       "keep_preictal:   0%|          | 0/2419 [00:00<?, ?it/s]"
      ]
     },
     "metadata": {},
     "output_type": "display_data"
    },
    {
     "data": {
      "application/vnd.jupyter.widget-view+json": {
       "model_id": "bb14804369ec4d399d661edf80ffeeec",
       "version_major": 2,
       "version_minor": 0
      },
      "text/plain": [
       "keep_interictal:   0%|          | 0/1891 [00:00<?, ?it/s]"
      ]
     },
     "metadata": {},
     "output_type": "display_data"
    },
    {
     "data": {
      "application/vnd.jupyter.widget-view+json": {
       "model_id": "31bd826ec41e47adb700a1a45f43027f",
       "version_major": 2,
       "version_minor": 0
      },
      "text/plain": [
       "keep_preictal:   0%|          | 0/1891 [00:00<?, ?it/s]"
      ]
     },
     "metadata": {},
     "output_type": "display_data"
    },
    {
     "data": {
      "application/vnd.jupyter.widget-view+json": {
       "model_id": "303d1266524641308fadcb98b5b50f40",
       "version_major": 2,
       "version_minor": 0
      },
      "text/plain": [
       "keep_interictal:   0%|          | 0/671 [00:00<?, ?it/s]"
      ]
     },
     "metadata": {},
     "output_type": "display_data"
    },
    {
     "data": {
      "application/vnd.jupyter.widget-view+json": {
       "model_id": "c02e5407f90d45f3aa565948dc1b06cb",
       "version_major": 2,
       "version_minor": 0
      },
      "text/plain": [
       "keep_preictal:   0%|          | 0/671 [00:00<?, ?it/s]"
      ]
     },
     "metadata": {},
     "output_type": "display_data"
    },
    {
     "data": {
      "application/vnd.jupyter.widget-view+json": {
       "model_id": "c4a0e57355714d408aeaa275a3907cc7",
       "version_major": 2,
       "version_minor": 0
      },
      "text/plain": [
       "keep_interictal:   0%|          | 0/263 [00:00<?, ?it/s]"
      ]
     },
     "metadata": {},
     "output_type": "display_data"
    },
    {
     "data": {
      "application/vnd.jupyter.widget-view+json": {
       "model_id": "c2d6651cd95641fe88af3bc07b96cdc3",
       "version_major": 2,
       "version_minor": 0
      },
      "text/plain": [
       "keep_preictal:   0%|          | 0/263 [00:00<?, ?it/s]"
      ]
     },
     "metadata": {},
     "output_type": "display_data"
    },
    {
     "data": {
      "application/vnd.jupyter.widget-view+json": {
       "model_id": "032b9daf026d470b861ce1cca40f68f2",
       "version_major": 2,
       "version_minor": 0
      },
      "text/plain": [
       "keep_interictal:   0%|          | 0/210 [00:00<?, ?it/s]"
      ]
     },
     "metadata": {},
     "output_type": "display_data"
    },
    {
     "data": {
      "application/vnd.jupyter.widget-view+json": {
       "model_id": "33d1e53a93214f4195c8a1f59b5911bc",
       "version_major": 2,
       "version_minor": 0
      },
      "text/plain": [
       "keep_preictal:   0%|          | 0/210 [00:00<?, ?it/s]"
      ]
     },
     "metadata": {},
     "output_type": "display_data"
    }
   ],
   "source": [
    "subject_names = ['Dog_1', 'Dog_2', 'Dog_3', 'Dog_4', 'Dog_5', 'Patient_1', 'Patient_2']\n",
    "subject_paths = []\n",
    "\n",
    "subject_interictal_files = []\n",
    "subject_interictal_targets = []\n",
    "\n",
    "subject_preictal_files = []\n",
    "subject_preictal_targets = []\n",
    "\n",
    "for i in trange(len(subject_names), desc='Subject'):\n",
    "    files, path = loader.load_subject(subject_names[i])\n",
    "    subject_paths.append(path)\n",
    "    \n",
    "    interictals = transformer.keep_interictal(files)\n",
    "    subject_interictal_files.append(interictals)\n",
    "    subject_interictal_targets.append(transformer.label_segment(interictals, 0))\n",
    "    \n",
    "    preictals = transformer.keep_preictal(files)\n",
    "    subject_preictal_files.append(preictals)\n",
    "    subject_preictal_targets.append(transformer.label_segment(preictals, 1))"
   ]
  },
  {
   "cell_type": "code",
   "execution_count": 81,
   "metadata": {},
   "outputs": [
    {
     "data": {
      "text/plain": [
       "['./data/Dog_1/Dog_1/Dog_1_interictal_segment_0210.mat',\n",
       " './data/Dog_1/Dog_1/Dog_1_interictal_segment_0205.mat',\n",
       " './data/Dog_1/Dog_1/Dog_1_interictal_segment_0244.mat',\n",
       " './data/Dog_1/Dog_1/Dog_1_interictal_segment_0184.mat',\n",
       " './data/Dog_1/Dog_1/Dog_1_interictal_segment_0066.mat',\n",
       " './data/Dog_1/Dog_1/Dog_1_interictal_segment_0232.mat',\n",
       " './data/Dog_1/Dog_1/Dog_1_interictal_segment_0091.mat',\n",
       " './data/Dog_1/Dog_1/Dog_1_interictal_segment_0470.mat',\n",
       " './data/Dog_1/Dog_1/Dog_1_interictal_segment_0369.mat',\n",
       " './data/Dog_1/Dog_1/Dog_1_interictal_segment_0169.mat',\n",
       " './data/Dog_1/Dog_1/Dog_1_interictal_segment_0134.mat',\n",
       " './data/Dog_1/Dog_1/Dog_1_interictal_segment_0092.mat',\n",
       " './data/Dog_1/Dog_1/Dog_1_interictal_segment_0060.mat',\n",
       " './data/Dog_1/Dog_1/Dog_1_interictal_segment_0120.mat',\n",
       " './data/Dog_1/Dog_1/Dog_1_interictal_segment_0368.mat',\n",
       " './data/Dog_1/Dog_1/Dog_1_interictal_segment_0017.mat',\n",
       " './data/Dog_1/Dog_1/Dog_1_interictal_segment_0452.mat',\n",
       " './data/Dog_1/Dog_1/Dog_1_interictal_segment_0186.mat',\n",
       " './data/Dog_1/Dog_1/Dog_1_interictal_segment_0354.mat',\n",
       " './data/Dog_1/Dog_1/Dog_1_interictal_segment_0389.mat',\n",
       " './data/Dog_1/Dog_1/Dog_1_interictal_segment_0174.mat',\n",
       " './data/Dog_1/Dog_1/Dog_1_interictal_segment_0117.mat',\n",
       " './data/Dog_1/Dog_1/Dog_1_interictal_segment_0230.mat',\n",
       " './data/Dog_1/Dog_1/Dog_1_interictal_segment_0289.mat',\n",
       " './data/Dog_1/Dog_1/Dog_1_interictal_segment_0353.mat',\n",
       " './data/Dog_1/Dog_1/Dog_1_interictal_segment_0390.mat',\n",
       " './data/Dog_1/Dog_1/Dog_1_interictal_segment_0471.mat',\n",
       " './data/Dog_1/Dog_1/Dog_1_interictal_segment_0374.mat',\n",
       " './data/Dog_1/Dog_1/Dog_1_interictal_segment_0435.mat',\n",
       " './data/Dog_1/Dog_1/Dog_1_interictal_segment_0294.mat',\n",
       " './data/Dog_1/Dog_1/Dog_1_interictal_segment_0162.mat',\n",
       " './data/Dog_1/Dog_1/Dog_1_interictal_segment_0352.mat',\n",
       " './data/Dog_1/Dog_1/Dog_1_interictal_segment_0427.mat',\n",
       " './data/Dog_1/Dog_1/Dog_1_interictal_segment_0002.mat',\n",
       " './data/Dog_1/Dog_1/Dog_1_interictal_segment_0105.mat',\n",
       " './data/Dog_1/Dog_1/Dog_1_interictal_segment_0228.mat',\n",
       " './data/Dog_1/Dog_1/Dog_1_interictal_segment_0016.mat',\n",
       " './data/Dog_1/Dog_1/Dog_1_interictal_segment_0158.mat',\n",
       " './data/Dog_1/Dog_1/Dog_1_interictal_segment_0303.mat',\n",
       " './data/Dog_1/Dog_1/Dog_1_interictal_segment_0246.mat',\n",
       " './data/Dog_1/Dog_1/Dog_1_interictal_segment_0432.mat',\n",
       " './data/Dog_1/Dog_1/Dog_1_interictal_segment_0384.mat',\n",
       " './data/Dog_1/Dog_1/Dog_1_interictal_segment_0436.mat',\n",
       " './data/Dog_1/Dog_1/Dog_1_interictal_segment_0396.mat',\n",
       " './data/Dog_1/Dog_1/Dog_1_interictal_segment_0030.mat',\n",
       " './data/Dog_1/Dog_1/Dog_1_interictal_segment_0401.mat',\n",
       " './data/Dog_1/Dog_1/Dog_1_interictal_segment_0015.mat',\n",
       " './data/Dog_1/Dog_1/Dog_1_interictal_segment_0083.mat',\n",
       " './data/Dog_1/Dog_1/Dog_1_interictal_segment_0087.mat',\n",
       " './data/Dog_1/Dog_1/Dog_1_interictal_segment_0324.mat',\n",
       " './data/Dog_1/Dog_1/Dog_1_interictal_segment_0026.mat',\n",
       " './data/Dog_1/Dog_1/Dog_1_interictal_segment_0003.mat',\n",
       " './data/Dog_1/Dog_1/Dog_1_interictal_segment_0456.mat',\n",
       " './data/Dog_1/Dog_1/Dog_1_interictal_segment_0029.mat',\n",
       " './data/Dog_1/Dog_1/Dog_1_interictal_segment_0280.mat',\n",
       " './data/Dog_1/Dog_1/Dog_1_interictal_segment_0321.mat',\n",
       " './data/Dog_1/Dog_1/Dog_1_interictal_segment_0178.mat',\n",
       " './data/Dog_1/Dog_1/Dog_1_interictal_segment_0156.mat',\n",
       " './data/Dog_1/Dog_1/Dog_1_interictal_segment_0021.mat',\n",
       " './data/Dog_1/Dog_1/Dog_1_interictal_segment_0226.mat',\n",
       " './data/Dog_1/Dog_1/Dog_1_interictal_segment_0254.mat',\n",
       " './data/Dog_1/Dog_1/Dog_1_interictal_segment_0005.mat',\n",
       " './data/Dog_1/Dog_1/Dog_1_interictal_segment_0166.mat',\n",
       " './data/Dog_1/Dog_1/Dog_1_interictal_segment_0045.mat',\n",
       " './data/Dog_1/Dog_1/Dog_1_interictal_segment_0300.mat',\n",
       " './data/Dog_1/Dog_1/Dog_1_interictal_segment_0375.mat',\n",
       " './data/Dog_1/Dog_1/Dog_1_interictal_segment_0209.mat',\n",
       " './data/Dog_1/Dog_1/Dog_1_interictal_segment_0118.mat',\n",
       " './data/Dog_1/Dog_1/Dog_1_interictal_segment_0465.mat',\n",
       " './data/Dog_1/Dog_1/Dog_1_interictal_segment_0403.mat',\n",
       " './data/Dog_1/Dog_1/Dog_1_interictal_segment_0121.mat',\n",
       " './data/Dog_1/Dog_1/Dog_1_interictal_segment_0474.mat',\n",
       " './data/Dog_1/Dog_1/Dog_1_interictal_segment_0434.mat',\n",
       " './data/Dog_1/Dog_1/Dog_1_interictal_segment_0037.mat',\n",
       " './data/Dog_1/Dog_1/Dog_1_interictal_segment_0433.mat',\n",
       " './data/Dog_1/Dog_1/Dog_1_interictal_segment_0055.mat',\n",
       " './data/Dog_1/Dog_1/Dog_1_interictal_segment_0094.mat',\n",
       " './data/Dog_1/Dog_1/Dog_1_interictal_segment_0466.mat',\n",
       " './data/Dog_1/Dog_1/Dog_1_interictal_segment_0311.mat',\n",
       " './data/Dog_1/Dog_1/Dog_1_interictal_segment_0141.mat',\n",
       " './data/Dog_1/Dog_1/Dog_1_interictal_segment_0110.mat',\n",
       " './data/Dog_1/Dog_1/Dog_1_interictal_segment_0348.mat',\n",
       " './data/Dog_1/Dog_1/Dog_1_interictal_segment_0243.mat',\n",
       " './data/Dog_1/Dog_1/Dog_1_interictal_segment_0333.mat',\n",
       " './data/Dog_1/Dog_1/Dog_1_interictal_segment_0468.mat',\n",
       " './data/Dog_1/Dog_1/Dog_1_interictal_segment_0076.mat',\n",
       " './data/Dog_1/Dog_1/Dog_1_interictal_segment_0058.mat',\n",
       " './data/Dog_1/Dog_1/Dog_1_interictal_segment_0467.mat',\n",
       " './data/Dog_1/Dog_1/Dog_1_interictal_segment_0163.mat',\n",
       " './data/Dog_1/Dog_1/Dog_1_interictal_segment_0109.mat',\n",
       " './data/Dog_1/Dog_1/Dog_1_interictal_segment_0309.mat',\n",
       " './data/Dog_1/Dog_1/Dog_1_interictal_segment_0251.mat',\n",
       " './data/Dog_1/Dog_1/Dog_1_interictal_segment_0359.mat',\n",
       " './data/Dog_1/Dog_1/Dog_1_interictal_segment_0480.mat',\n",
       " './data/Dog_1/Dog_1/Dog_1_interictal_segment_0460.mat',\n",
       " './data/Dog_1/Dog_1/Dog_1_interictal_segment_0249.mat',\n",
       " './data/Dog_1/Dog_1/Dog_1_interictal_segment_0048.mat',\n",
       " './data/Dog_1/Dog_1/Dog_1_interictal_segment_0270.mat',\n",
       " './data/Dog_1/Dog_1/Dog_1_interictal_segment_0285.mat',\n",
       " './data/Dog_1/Dog_1/Dog_1_interictal_segment_0274.mat',\n",
       " './data/Dog_1/Dog_1/Dog_1_interictal_segment_0075.mat',\n",
       " './data/Dog_1/Dog_1/Dog_1_interictal_segment_0237.mat',\n",
       " './data/Dog_1/Dog_1/Dog_1_interictal_segment_0223.mat',\n",
       " './data/Dog_1/Dog_1/Dog_1_interictal_segment_0292.mat',\n",
       " './data/Dog_1/Dog_1/Dog_1_interictal_segment_0290.mat',\n",
       " './data/Dog_1/Dog_1/Dog_1_interictal_segment_0018.mat',\n",
       " './data/Dog_1/Dog_1/Dog_1_interictal_segment_0461.mat',\n",
       " './data/Dog_1/Dog_1/Dog_1_interictal_segment_0441.mat',\n",
       " './data/Dog_1/Dog_1/Dog_1_interictal_segment_0051.mat',\n",
       " './data/Dog_1/Dog_1/Dog_1_interictal_segment_0411.mat',\n",
       " './data/Dog_1/Dog_1/Dog_1_interictal_segment_0328.mat',\n",
       " './data/Dog_1/Dog_1/Dog_1_interictal_segment_0138.mat',\n",
       " './data/Dog_1/Dog_1/Dog_1_interictal_segment_0195.mat',\n",
       " './data/Dog_1/Dog_1/Dog_1_interictal_segment_0068.mat',\n",
       " './data/Dog_1/Dog_1/Dog_1_interictal_segment_0455.mat',\n",
       " './data/Dog_1/Dog_1/Dog_1_interictal_segment_0013.mat',\n",
       " './data/Dog_1/Dog_1/Dog_1_interictal_segment_0421.mat',\n",
       " './data/Dog_1/Dog_1/Dog_1_interictal_segment_0443.mat',\n",
       " './data/Dog_1/Dog_1/Dog_1_interictal_segment_0459.mat',\n",
       " './data/Dog_1/Dog_1/Dog_1_interictal_segment_0187.mat',\n",
       " './data/Dog_1/Dog_1/Dog_1_interictal_segment_0115.mat',\n",
       " './data/Dog_1/Dog_1/Dog_1_interictal_segment_0116.mat',\n",
       " './data/Dog_1/Dog_1/Dog_1_interictal_segment_0439.mat',\n",
       " './data/Dog_1/Dog_1/Dog_1_interictal_segment_0194.mat',\n",
       " './data/Dog_1/Dog_1/Dog_1_interictal_segment_0039.mat',\n",
       " './data/Dog_1/Dog_1/Dog_1_interictal_segment_0239.mat',\n",
       " './data/Dog_1/Dog_1/Dog_1_interictal_segment_0346.mat',\n",
       " './data/Dog_1/Dog_1/Dog_1_interictal_segment_0084.mat',\n",
       " './data/Dog_1/Dog_1/Dog_1_interictal_segment_0159.mat',\n",
       " './data/Dog_1/Dog_1/Dog_1_interictal_segment_0102.mat',\n",
       " './data/Dog_1/Dog_1/Dog_1_interictal_segment_0192.mat',\n",
       " './data/Dog_1/Dog_1/Dog_1_interictal_segment_0131.mat',\n",
       " './data/Dog_1/Dog_1/Dog_1_interictal_segment_0307.mat',\n",
       " './data/Dog_1/Dog_1/Dog_1_interictal_segment_0196.mat',\n",
       " './data/Dog_1/Dog_1/Dog_1_interictal_segment_0263.mat',\n",
       " './data/Dog_1/Dog_1/Dog_1_interictal_segment_0234.mat',\n",
       " './data/Dog_1/Dog_1/Dog_1_interictal_segment_0388.mat',\n",
       " './data/Dog_1/Dog_1/Dog_1_interictal_segment_0284.mat',\n",
       " './data/Dog_1/Dog_1/Dog_1_interictal_segment_0175.mat',\n",
       " './data/Dog_1/Dog_1/Dog_1_interictal_segment_0108.mat',\n",
       " './data/Dog_1/Dog_1/Dog_1_interictal_segment_0319.mat',\n",
       " './data/Dog_1/Dog_1/Dog_1_interictal_segment_0343.mat',\n",
       " './data/Dog_1/Dog_1/Dog_1_interictal_segment_0409.mat',\n",
       " './data/Dog_1/Dog_1/Dog_1_interictal_segment_0012.mat',\n",
       " './data/Dog_1/Dog_1/Dog_1_interictal_segment_0179.mat',\n",
       " './data/Dog_1/Dog_1/Dog_1_interictal_segment_0277.mat',\n",
       " './data/Dog_1/Dog_1/Dog_1_interictal_segment_0062.mat',\n",
       " './data/Dog_1/Dog_1/Dog_1_interictal_segment_0097.mat',\n",
       " './data/Dog_1/Dog_1/Dog_1_interictal_segment_0189.mat',\n",
       " './data/Dog_1/Dog_1/Dog_1_interictal_segment_0286.mat',\n",
       " './data/Dog_1/Dog_1/Dog_1_interictal_segment_0132.mat',\n",
       " './data/Dog_1/Dog_1/Dog_1_interictal_segment_0028.mat',\n",
       " './data/Dog_1/Dog_1/Dog_1_interictal_segment_0273.mat',\n",
       " './data/Dog_1/Dog_1/Dog_1_interictal_segment_0080.mat',\n",
       " './data/Dog_1/Dog_1/Dog_1_interictal_segment_0345.mat',\n",
       " './data/Dog_1/Dog_1/Dog_1_interictal_segment_0113.mat',\n",
       " './data/Dog_1/Dog_1/Dog_1_interictal_segment_0046.mat',\n",
       " './data/Dog_1/Dog_1/Dog_1_interictal_segment_0310.mat',\n",
       " './data/Dog_1/Dog_1/Dog_1_interictal_segment_0065.mat',\n",
       " './data/Dog_1/Dog_1/Dog_1_interictal_segment_0033.mat',\n",
       " './data/Dog_1/Dog_1/Dog_1_interictal_segment_0400.mat',\n",
       " './data/Dog_1/Dog_1/Dog_1_interictal_segment_0144.mat',\n",
       " './data/Dog_1/Dog_1/Dog_1_interictal_segment_0293.mat',\n",
       " './data/Dog_1/Dog_1/Dog_1_interictal_segment_0332.mat',\n",
       " './data/Dog_1/Dog_1/Dog_1_interictal_segment_0394.mat',\n",
       " './data/Dog_1/Dog_1/Dog_1_interictal_segment_0431.mat',\n",
       " './data/Dog_1/Dog_1/Dog_1_interictal_segment_0257.mat',\n",
       " './data/Dog_1/Dog_1/Dog_1_interictal_segment_0302.mat',\n",
       " './data/Dog_1/Dog_1/Dog_1_interictal_segment_0448.mat',\n",
       " './data/Dog_1/Dog_1/Dog_1_interictal_segment_0125.mat',\n",
       " './data/Dog_1/Dog_1/Dog_1_interictal_segment_0061.mat',\n",
       " './data/Dog_1/Dog_1/Dog_1_interictal_segment_0006.mat',\n",
       " './data/Dog_1/Dog_1/Dog_1_interictal_segment_0089.mat',\n",
       " './data/Dog_1/Dog_1/Dog_1_interictal_segment_0331.mat',\n",
       " './data/Dog_1/Dog_1/Dog_1_interictal_segment_0218.mat',\n",
       " './data/Dog_1/Dog_1/Dog_1_interictal_segment_0414.mat',\n",
       " './data/Dog_1/Dog_1/Dog_1_interictal_segment_0168.mat',\n",
       " './data/Dog_1/Dog_1/Dog_1_interictal_segment_0197.mat',\n",
       " './data/Dog_1/Dog_1/Dog_1_interictal_segment_0268.mat',\n",
       " './data/Dog_1/Dog_1/Dog_1_interictal_segment_0126.mat',\n",
       " './data/Dog_1/Dog_1/Dog_1_interictal_segment_0161.mat',\n",
       " './data/Dog_1/Dog_1/Dog_1_interictal_segment_0373.mat',\n",
       " './data/Dog_1/Dog_1/Dog_1_interictal_segment_0360.mat',\n",
       " './data/Dog_1/Dog_1/Dog_1_interictal_segment_0200.mat',\n",
       " './data/Dog_1/Dog_1/Dog_1_interictal_segment_0347.mat',\n",
       " './data/Dog_1/Dog_1/Dog_1_interictal_segment_0416.mat',\n",
       " './data/Dog_1/Dog_1/Dog_1_interictal_segment_0009.mat',\n",
       " './data/Dog_1/Dog_1/Dog_1_interictal_segment_0154.mat',\n",
       " './data/Dog_1/Dog_1/Dog_1_interictal_segment_0114.mat',\n",
       " './data/Dog_1/Dog_1/Dog_1_interictal_segment_0281.mat',\n",
       " './data/Dog_1/Dog_1/Dog_1_interictal_segment_0171.mat',\n",
       " './data/Dog_1/Dog_1/Dog_1_interictal_segment_0357.mat',\n",
       " './data/Dog_1/Dog_1/Dog_1_interictal_segment_0004.mat',\n",
       " './data/Dog_1/Dog_1/Dog_1_interictal_segment_0408.mat',\n",
       " './data/Dog_1/Dog_1/Dog_1_interictal_segment_0423.mat',\n",
       " './data/Dog_1/Dog_1/Dog_1_interictal_segment_0047.mat',\n",
       " './data/Dog_1/Dog_1/Dog_1_interictal_segment_0457.mat',\n",
       " './data/Dog_1/Dog_1/Dog_1_interictal_segment_0392.mat',\n",
       " './data/Dog_1/Dog_1/Dog_1_interictal_segment_0070.mat',\n",
       " './data/Dog_1/Dog_1/Dog_1_interictal_segment_0173.mat',\n",
       " './data/Dog_1/Dog_1/Dog_1_interictal_segment_0008.mat',\n",
       " './data/Dog_1/Dog_1/Dog_1_interictal_segment_0204.mat',\n",
       " './data/Dog_1/Dog_1/Dog_1_interictal_segment_0335.mat',\n",
       " './data/Dog_1/Dog_1/Dog_1_interictal_segment_0086.mat',\n",
       " './data/Dog_1/Dog_1/Dog_1_interictal_segment_0446.mat',\n",
       " './data/Dog_1/Dog_1/Dog_1_interictal_segment_0291.mat',\n",
       " './data/Dog_1/Dog_1/Dog_1_interictal_segment_0271.mat',\n",
       " './data/Dog_1/Dog_1/Dog_1_interictal_segment_0338.mat',\n",
       " './data/Dog_1/Dog_1/Dog_1_interictal_segment_0056.mat',\n",
       " './data/Dog_1/Dog_1/Dog_1_interictal_segment_0096.mat',\n",
       " './data/Dog_1/Dog_1/Dog_1_interictal_segment_0198.mat',\n",
       " './data/Dog_1/Dog_1/Dog_1_interictal_segment_0299.mat',\n",
       " './data/Dog_1/Dog_1/Dog_1_interictal_segment_0007.mat',\n",
       " './data/Dog_1/Dog_1/Dog_1_interictal_segment_0011.mat',\n",
       " './data/Dog_1/Dog_1/Dog_1_interictal_segment_0262.mat',\n",
       " './data/Dog_1/Dog_1/Dog_1_interictal_segment_0266.mat',\n",
       " './data/Dog_1/Dog_1/Dog_1_interictal_segment_0447.mat',\n",
       " './data/Dog_1/Dog_1/Dog_1_interictal_segment_0133.mat',\n",
       " './data/Dog_1/Dog_1/Dog_1_interictal_segment_0267.mat',\n",
       " './data/Dog_1/Dog_1/Dog_1_interictal_segment_0358.mat',\n",
       " './data/Dog_1/Dog_1/Dog_1_interictal_segment_0227.mat',\n",
       " './data/Dog_1/Dog_1/Dog_1_interictal_segment_0155.mat',\n",
       " './data/Dog_1/Dog_1/Dog_1_interictal_segment_0404.mat',\n",
       " './data/Dog_1/Dog_1/Dog_1_interictal_segment_0469.mat',\n",
       " './data/Dog_1/Dog_1/Dog_1_interictal_segment_0142.mat',\n",
       " './data/Dog_1/Dog_1/Dog_1_interictal_segment_0472.mat',\n",
       " './data/Dog_1/Dog_1/Dog_1_interictal_segment_0053.mat',\n",
       " './data/Dog_1/Dog_1/Dog_1_interictal_segment_0288.mat',\n",
       " './data/Dog_1/Dog_1/Dog_1_interictal_segment_0078.mat',\n",
       " './data/Dog_1/Dog_1/Dog_1_interictal_segment_0077.mat',\n",
       " './data/Dog_1/Dog_1/Dog_1_interictal_segment_0044.mat',\n",
       " './data/Dog_1/Dog_1/Dog_1_interictal_segment_0304.mat',\n",
       " './data/Dog_1/Dog_1/Dog_1_interictal_segment_0393.mat',\n",
       " './data/Dog_1/Dog_1/Dog_1_interictal_segment_0415.mat',\n",
       " './data/Dog_1/Dog_1/Dog_1_interictal_segment_0038.mat',\n",
       " './data/Dog_1/Dog_1/Dog_1_interictal_segment_0235.mat',\n",
       " './data/Dog_1/Dog_1/Dog_1_interictal_segment_0391.mat',\n",
       " './data/Dog_1/Dog_1/Dog_1_interictal_segment_0349.mat',\n",
       " './data/Dog_1/Dog_1/Dog_1_interictal_segment_0259.mat',\n",
       " './data/Dog_1/Dog_1/Dog_1_interictal_segment_0176.mat',\n",
       " './data/Dog_1/Dog_1/Dog_1_interictal_segment_0170.mat',\n",
       " './data/Dog_1/Dog_1/Dog_1_interictal_segment_0255.mat',\n",
       " './data/Dog_1/Dog_1/Dog_1_interictal_segment_0326.mat',\n",
       " './data/Dog_1/Dog_1/Dog_1_interictal_segment_0428.mat',\n",
       " './data/Dog_1/Dog_1/Dog_1_interictal_segment_0370.mat',\n",
       " './data/Dog_1/Dog_1/Dog_1_interictal_segment_0072.mat',\n",
       " './data/Dog_1/Dog_1/Dog_1_interictal_segment_0147.mat',\n",
       " './data/Dog_1/Dog_1/Dog_1_interictal_segment_0095.mat',\n",
       " './data/Dog_1/Dog_1/Dog_1_interictal_segment_0181.mat',\n",
       " './data/Dog_1/Dog_1/Dog_1_interictal_segment_0386.mat',\n",
       " './data/Dog_1/Dog_1/Dog_1_interictal_segment_0119.mat',\n",
       " './data/Dog_1/Dog_1/Dog_1_interictal_segment_0477.mat',\n",
       " './data/Dog_1/Dog_1/Dog_1_interictal_segment_0202.mat',\n",
       " './data/Dog_1/Dog_1/Dog_1_interictal_segment_0430.mat',\n",
       " './data/Dog_1/Dog_1/Dog_1_interictal_segment_0405.mat',\n",
       " './data/Dog_1/Dog_1/Dog_1_interictal_segment_0067.mat',\n",
       " './data/Dog_1/Dog_1/Dog_1_interictal_segment_0327.mat',\n",
       " './data/Dog_1/Dog_1/Dog_1_interictal_segment_0050.mat',\n",
       " './data/Dog_1/Dog_1/Dog_1_interictal_segment_0027.mat',\n",
       " './data/Dog_1/Dog_1/Dog_1_interictal_segment_0153.mat',\n",
       " './data/Dog_1/Dog_1/Dog_1_interictal_segment_0122.mat',\n",
       " './data/Dog_1/Dog_1/Dog_1_interictal_segment_0100.mat',\n",
       " './data/Dog_1/Dog_1/Dog_1_interictal_segment_0201.mat',\n",
       " './data/Dog_1/Dog_1/Dog_1_interictal_segment_0365.mat',\n",
       " './data/Dog_1/Dog_1/Dog_1_interictal_segment_0366.mat',\n",
       " './data/Dog_1/Dog_1/Dog_1_interictal_segment_0074.mat',\n",
       " './data/Dog_1/Dog_1/Dog_1_interictal_segment_0098.mat',\n",
       " './data/Dog_1/Dog_1/Dog_1_interictal_segment_0247.mat',\n",
       " './data/Dog_1/Dog_1/Dog_1_interictal_segment_0099.mat',\n",
       " './data/Dog_1/Dog_1/Dog_1_interictal_segment_0318.mat',\n",
       " './data/Dog_1/Dog_1/Dog_1_interictal_segment_0040.mat',\n",
       " './data/Dog_1/Dog_1/Dog_1_interictal_segment_0248.mat',\n",
       " './data/Dog_1/Dog_1/Dog_1_interictal_segment_0123.mat',\n",
       " './data/Dog_1/Dog_1/Dog_1_interictal_segment_0269.mat',\n",
       " './data/Dog_1/Dog_1/Dog_1_interictal_segment_0308.mat',\n",
       " './data/Dog_1/Dog_1/Dog_1_interictal_segment_0334.mat',\n",
       " './data/Dog_1/Dog_1/Dog_1_interictal_segment_0440.mat',\n",
       " './data/Dog_1/Dog_1/Dog_1_interictal_segment_0312.mat',\n",
       " './data/Dog_1/Dog_1/Dog_1_interictal_segment_0064.mat',\n",
       " './data/Dog_1/Dog_1/Dog_1_interictal_segment_0241.mat',\n",
       " './data/Dog_1/Dog_1/Dog_1_interictal_segment_0295.mat',\n",
       " './data/Dog_1/Dog_1/Dog_1_interictal_segment_0020.mat',\n",
       " './data/Dog_1/Dog_1/Dog_1_interictal_segment_0264.mat',\n",
       " './data/Dog_1/Dog_1/Dog_1_interictal_segment_0429.mat',\n",
       " './data/Dog_1/Dog_1/Dog_1_interictal_segment_0372.mat',\n",
       " './data/Dog_1/Dog_1/Dog_1_interictal_segment_0442.mat',\n",
       " './data/Dog_1/Dog_1/Dog_1_interictal_segment_0272.mat',\n",
       " './data/Dog_1/Dog_1/Dog_1_interictal_segment_0301.mat',\n",
       " './data/Dog_1/Dog_1/Dog_1_interictal_segment_0342.mat',\n",
       " './data/Dog_1/Dog_1/Dog_1_interictal_segment_0278.mat',\n",
       " './data/Dog_1/Dog_1/Dog_1_interictal_segment_0256.mat',\n",
       " './data/Dog_1/Dog_1/Dog_1_interictal_segment_0363.mat',\n",
       " './data/Dog_1/Dog_1/Dog_1_interictal_segment_0364.mat',\n",
       " './data/Dog_1/Dog_1/Dog_1_interictal_segment_0052.mat',\n",
       " './data/Dog_1/Dog_1/Dog_1_interictal_segment_0305.mat',\n",
       " './data/Dog_1/Dog_1/Dog_1_interictal_segment_0402.mat',\n",
       " './data/Dog_1/Dog_1/Dog_1_interictal_segment_0157.mat',\n",
       " './data/Dog_1/Dog_1/Dog_1_interictal_segment_0413.mat',\n",
       " './data/Dog_1/Dog_1/Dog_1_interictal_segment_0182.mat',\n",
       " './data/Dog_1/Dog_1/Dog_1_interictal_segment_0417.mat',\n",
       " './data/Dog_1/Dog_1/Dog_1_interictal_segment_0449.mat',\n",
       " './data/Dog_1/Dog_1/Dog_1_interictal_segment_0261.mat',\n",
       " './data/Dog_1/Dog_1/Dog_1_interictal_segment_0322.mat',\n",
       " './data/Dog_1/Dog_1/Dog_1_interictal_segment_0458.mat',\n",
       " './data/Dog_1/Dog_1/Dog_1_interictal_segment_0426.mat',\n",
       " './data/Dog_1/Dog_1/Dog_1_interictal_segment_0325.mat',\n",
       " './data/Dog_1/Dog_1/Dog_1_interictal_segment_0350.mat',\n",
       " './data/Dog_1/Dog_1/Dog_1_interictal_segment_0276.mat',\n",
       " './data/Dog_1/Dog_1/Dog_1_interictal_segment_0225.mat',\n",
       " './data/Dog_1/Dog_1/Dog_1_interictal_segment_0236.mat',\n",
       " './data/Dog_1/Dog_1/Dog_1_interictal_segment_0069.mat',\n",
       " './data/Dog_1/Dog_1/Dog_1_interictal_segment_0476.mat',\n",
       " './data/Dog_1/Dog_1/Dog_1_interictal_segment_0081.mat',\n",
       " './data/Dog_1/Dog_1/Dog_1_interictal_segment_0088.mat',\n",
       " './data/Dog_1/Dog_1/Dog_1_interictal_segment_0406.mat',\n",
       " './data/Dog_1/Dog_1/Dog_1_interictal_segment_0143.mat',\n",
       " './data/Dog_1/Dog_1/Dog_1_interictal_segment_0104.mat',\n",
       " './data/Dog_1/Dog_1/Dog_1_interictal_segment_0419.mat',\n",
       " './data/Dog_1/Dog_1/Dog_1_interictal_segment_0451.mat',\n",
       " './data/Dog_1/Dog_1/Dog_1_interictal_segment_0329.mat',\n",
       " './data/Dog_1/Dog_1/Dog_1_interictal_segment_0445.mat',\n",
       " './data/Dog_1/Dog_1/Dog_1_interictal_segment_0367.mat',\n",
       " './data/Dog_1/Dog_1/Dog_1_interictal_segment_0183.mat',\n",
       " './data/Dog_1/Dog_1/Dog_1_interictal_segment_0206.mat',\n",
       " './data/Dog_1/Dog_1/Dog_1_interictal_segment_0111.mat',\n",
       " './data/Dog_1/Dog_1/Dog_1_interictal_segment_0172.mat',\n",
       " './data/Dog_1/Dog_1/Dog_1_interictal_segment_0128.mat',\n",
       " './data/Dog_1/Dog_1/Dog_1_interictal_segment_0351.mat',\n",
       " './data/Dog_1/Dog_1/Dog_1_interictal_segment_0014.mat',\n",
       " './data/Dog_1/Dog_1/Dog_1_interictal_segment_0035.mat',\n",
       " './data/Dog_1/Dog_1/Dog_1_interictal_segment_0242.mat',\n",
       " './data/Dog_1/Dog_1/Dog_1_interictal_segment_0260.mat',\n",
       " './data/Dog_1/Dog_1/Dog_1_interictal_segment_0283.mat',\n",
       " './data/Dog_1/Dog_1/Dog_1_interictal_segment_0298.mat',\n",
       " './data/Dog_1/Dog_1/Dog_1_interictal_segment_0382.mat',\n",
       " './data/Dog_1/Dog_1/Dog_1_interictal_segment_0057.mat',\n",
       " './data/Dog_1/Dog_1/Dog_1_interictal_segment_0180.mat',\n",
       " './data/Dog_1/Dog_1/Dog_1_interictal_segment_0462.mat',\n",
       " './data/Dog_1/Dog_1/Dog_1_interictal_segment_0103.mat',\n",
       " './data/Dog_1/Dog_1/Dog_1_interictal_segment_0313.mat',\n",
       " './data/Dog_1/Dog_1/Dog_1_interictal_segment_0112.mat',\n",
       " './data/Dog_1/Dog_1/Dog_1_interictal_segment_0211.mat',\n",
       " './data/Dog_1/Dog_1/Dog_1_interictal_segment_0203.mat',\n",
       " './data/Dog_1/Dog_1/Dog_1_interictal_segment_0316.mat',\n",
       " './data/Dog_1/Dog_1/Dog_1_interictal_segment_0214.mat',\n",
       " './data/Dog_1/Dog_1/Dog_1_interictal_segment_0407.mat',\n",
       " './data/Dog_1/Dog_1/Dog_1_interictal_segment_0240.mat',\n",
       " './data/Dog_1/Dog_1/Dog_1_interictal_segment_0341.mat',\n",
       " './data/Dog_1/Dog_1/Dog_1_interictal_segment_0420.mat',\n",
       " './data/Dog_1/Dog_1/Dog_1_interictal_segment_0222.mat',\n",
       " './data/Dog_1/Dog_1/Dog_1_interictal_segment_0453.mat',\n",
       " './data/Dog_1/Dog_1/Dog_1_interictal_segment_0399.mat',\n",
       " './data/Dog_1/Dog_1/Dog_1_interictal_segment_0361.mat',\n",
       " './data/Dog_1/Dog_1/Dog_1_interictal_segment_0233.mat',\n",
       " './data/Dog_1/Dog_1/Dog_1_interictal_segment_0124.mat',\n",
       " './data/Dog_1/Dog_1/Dog_1_interictal_segment_0031.mat',\n",
       " './data/Dog_1/Dog_1/Dog_1_interictal_segment_0355.mat',\n",
       " './data/Dog_1/Dog_1/Dog_1_interictal_segment_0275.mat',\n",
       " './data/Dog_1/Dog_1/Dog_1_interictal_segment_0145.mat',\n",
       " './data/Dog_1/Dog_1/Dog_1_interictal_segment_0287.mat',\n",
       " './data/Dog_1/Dog_1/Dog_1_interictal_segment_0034.mat',\n",
       " './data/Dog_1/Dog_1/Dog_1_interictal_segment_0473.mat',\n",
       " './data/Dog_1/Dog_1/Dog_1_interictal_segment_0043.mat',\n",
       " './data/Dog_1/Dog_1/Dog_1_interictal_segment_0323.mat',\n",
       " './data/Dog_1/Dog_1/Dog_1_interictal_segment_0149.mat',\n",
       " './data/Dog_1/Dog_1/Dog_1_interictal_segment_0150.mat',\n",
       " './data/Dog_1/Dog_1/Dog_1_interictal_segment_0463.mat',\n",
       " './data/Dog_1/Dog_1/Dog_1_interictal_segment_0258.mat',\n",
       " './data/Dog_1/Dog_1/Dog_1_interictal_segment_0164.mat',\n",
       " './data/Dog_1/Dog_1/Dog_1_interictal_segment_0395.mat',\n",
       " './data/Dog_1/Dog_1/Dog_1_interictal_segment_0054.mat',\n",
       " './data/Dog_1/Dog_1/Dog_1_interictal_segment_0229.mat',\n",
       " './data/Dog_1/Dog_1/Dog_1_interictal_segment_0340.mat',\n",
       " './data/Dog_1/Dog_1/Dog_1_interictal_segment_0397.mat',\n",
       " './data/Dog_1/Dog_1/Dog_1_interictal_segment_0130.mat',\n",
       " './data/Dog_1/Dog_1/Dog_1_interictal_segment_0330.mat',\n",
       " './data/Dog_1/Dog_1/Dog_1_interictal_segment_0071.mat',\n",
       " './data/Dog_1/Dog_1/Dog_1_interictal_segment_0377.mat',\n",
       " './data/Dog_1/Dog_1/Dog_1_interictal_segment_0282.mat',\n",
       " './data/Dog_1/Dog_1/Dog_1_interictal_segment_0219.mat',\n",
       " './data/Dog_1/Dog_1/Dog_1_interictal_segment_0450.mat',\n",
       " './data/Dog_1/Dog_1/Dog_1_interictal_segment_0146.mat',\n",
       " './data/Dog_1/Dog_1/Dog_1_interictal_segment_0127.mat',\n",
       " './data/Dog_1/Dog_1/Dog_1_interictal_segment_0238.mat',\n",
       " './data/Dog_1/Dog_1/Dog_1_interictal_segment_0139.mat',\n",
       " './data/Dog_1/Dog_1/Dog_1_interictal_segment_0245.mat',\n",
       " './data/Dog_1/Dog_1/Dog_1_interictal_segment_0306.mat',\n",
       " './data/Dog_1/Dog_1/Dog_1_interictal_segment_0010.mat',\n",
       " './data/Dog_1/Dog_1/Dog_1_interictal_segment_0129.mat',\n",
       " './data/Dog_1/Dog_1/Dog_1_interictal_segment_0059.mat',\n",
       " './data/Dog_1/Dog_1/Dog_1_interictal_segment_0148.mat',\n",
       " './data/Dog_1/Dog_1/Dog_1_interictal_segment_0337.mat',\n",
       " './data/Dog_1/Dog_1/Dog_1_interictal_segment_0412.mat',\n",
       " './data/Dog_1/Dog_1/Dog_1_interictal_segment_0418.mat',\n",
       " './data/Dog_1/Dog_1/Dog_1_interictal_segment_0213.mat',\n",
       " './data/Dog_1/Dog_1/Dog_1_interictal_segment_0279.mat',\n",
       " './data/Dog_1/Dog_1/Dog_1_interictal_segment_0231.mat',\n",
       " './data/Dog_1/Dog_1/Dog_1_interictal_segment_0135.mat',\n",
       " './data/Dog_1/Dog_1/Dog_1_interictal_segment_0475.mat',\n",
       " './data/Dog_1/Dog_1/Dog_1_interictal_segment_0380.mat',\n",
       " './data/Dog_1/Dog_1/Dog_1_interictal_segment_0207.mat',\n",
       " './data/Dog_1/Dog_1/Dog_1_interictal_segment_0193.mat',\n",
       " './data/Dog_1/Dog_1/Dog_1_interictal_segment_0265.mat',\n",
       " './data/Dog_1/Dog_1/Dog_1_interictal_segment_0224.mat',\n",
       " './data/Dog_1/Dog_1/Dog_1_interictal_segment_0296.mat',\n",
       " './data/Dog_1/Dog_1/Dog_1_interictal_segment_0199.mat',\n",
       " './data/Dog_1/Dog_1/Dog_1_interictal_segment_0250.mat',\n",
       " './data/Dog_1/Dog_1/Dog_1_interictal_segment_0444.mat',\n",
       " './data/Dog_1/Dog_1/Dog_1_interictal_segment_0398.mat',\n",
       " './data/Dog_1/Dog_1/Dog_1_interictal_segment_0422.mat',\n",
       " './data/Dog_1/Dog_1/Dog_1_interictal_segment_0036.mat',\n",
       " './data/Dog_1/Dog_1/Dog_1_interictal_segment_0140.mat',\n",
       " './data/Dog_1/Dog_1/Dog_1_interictal_segment_0191.mat',\n",
       " './data/Dog_1/Dog_1/Dog_1_interictal_segment_0387.mat',\n",
       " './data/Dog_1/Dog_1/Dog_1_interictal_segment_0478.mat',\n",
       " './data/Dog_1/Dog_1/Dog_1_interictal_segment_0454.mat',\n",
       " './data/Dog_1/Dog_1/Dog_1_interictal_segment_0314.mat',\n",
       " './data/Dog_1/Dog_1/Dog_1_interictal_segment_0152.mat',\n",
       " './data/Dog_1/Dog_1/Dog_1_interictal_segment_0437.mat',\n",
       " './data/Dog_1/Dog_1/Dog_1_interictal_segment_0383.mat',\n",
       " './data/Dog_1/Dog_1/Dog_1_interictal_segment_0212.mat',\n",
       " './data/Dog_1/Dog_1/Dog_1_interictal_segment_0085.mat',\n",
       " './data/Dog_1/Dog_1/Dog_1_interictal_segment_0376.mat',\n",
       " './data/Dog_1/Dog_1/Dog_1_interictal_segment_0190.mat',\n",
       " './data/Dog_1/Dog_1/Dog_1_interictal_segment_0107.mat',\n",
       " './data/Dog_1/Dog_1/Dog_1_interictal_segment_0023.mat',\n",
       " './data/Dog_1/Dog_1/Dog_1_interictal_segment_0336.mat',\n",
       " './data/Dog_1/Dog_1/Dog_1_interictal_segment_0093.mat',\n",
       " './data/Dog_1/Dog_1/Dog_1_interictal_segment_0082.mat',\n",
       " './data/Dog_1/Dog_1/Dog_1_interictal_segment_0371.mat',\n",
       " './data/Dog_1/Dog_1/Dog_1_interictal_segment_0339.mat',\n",
       " './data/Dog_1/Dog_1/Dog_1_interictal_segment_0220.mat',\n",
       " './data/Dog_1/Dog_1/Dog_1_interictal_segment_0032.mat',\n",
       " './data/Dog_1/Dog_1/Dog_1_interictal_segment_0252.mat',\n",
       " './data/Dog_1/Dog_1/Dog_1_interictal_segment_0356.mat',\n",
       " './data/Dog_1/Dog_1/Dog_1_interictal_segment_0221.mat',\n",
       " './data/Dog_1/Dog_1/Dog_1_interictal_segment_0385.mat',\n",
       " './data/Dog_1/Dog_1/Dog_1_interictal_segment_0425.mat',\n",
       " './data/Dog_1/Dog_1/Dog_1_interictal_segment_0167.mat',\n",
       " './data/Dog_1/Dog_1/Dog_1_interictal_segment_0215.mat',\n",
       " './data/Dog_1/Dog_1/Dog_1_interictal_segment_0165.mat',\n",
       " './data/Dog_1/Dog_1/Dog_1_interictal_segment_0217.mat',\n",
       " './data/Dog_1/Dog_1/Dog_1_interictal_segment_0160.mat',\n",
       " './data/Dog_1/Dog_1/Dog_1_interictal_segment_0410.mat',\n",
       " './data/Dog_1/Dog_1/Dog_1_interictal_segment_0479.mat',\n",
       " './data/Dog_1/Dog_1/Dog_1_interictal_segment_0381.mat',\n",
       " './data/Dog_1/Dog_1/Dog_1_interictal_segment_0079.mat',\n",
       " './data/Dog_1/Dog_1/Dog_1_interictal_segment_0177.mat',\n",
       " './data/Dog_1/Dog_1/Dog_1_interictal_segment_0001.mat',\n",
       " './data/Dog_1/Dog_1/Dog_1_interictal_segment_0378.mat',\n",
       " './data/Dog_1/Dog_1/Dog_1_interictal_segment_0379.mat',\n",
       " './data/Dog_1/Dog_1/Dog_1_interictal_segment_0208.mat',\n",
       " './data/Dog_1/Dog_1/Dog_1_interictal_segment_0049.mat',\n",
       " './data/Dog_1/Dog_1/Dog_1_interictal_segment_0019.mat',\n",
       " './data/Dog_1/Dog_1/Dog_1_interictal_segment_0185.mat',\n",
       " './data/Dog_1/Dog_1/Dog_1_interictal_segment_0041.mat',\n",
       " './data/Dog_1/Dog_1/Dog_1_interictal_segment_0042.mat',\n",
       " './data/Dog_1/Dog_1/Dog_1_interictal_segment_0101.mat',\n",
       " './data/Dog_1/Dog_1/Dog_1_interictal_segment_0025.mat',\n",
       " './data/Dog_1/Dog_1/Dog_1_interictal_segment_0137.mat',\n",
       " './data/Dog_1/Dog_1/Dog_1_interictal_segment_0188.mat',\n",
       " './data/Dog_1/Dog_1/Dog_1_interictal_segment_0297.mat',\n",
       " './data/Dog_1/Dog_1/Dog_1_interictal_segment_0063.mat',\n",
       " './data/Dog_1/Dog_1/Dog_1_interictal_segment_0024.mat',\n",
       " './data/Dog_1/Dog_1/Dog_1_interictal_segment_0090.mat',\n",
       " './data/Dog_1/Dog_1/Dog_1_interictal_segment_0136.mat',\n",
       " './data/Dog_1/Dog_1/Dog_1_interictal_segment_0315.mat',\n",
       " './data/Dog_1/Dog_1/Dog_1_interictal_segment_0216.mat',\n",
       " './data/Dog_1/Dog_1/Dog_1_interictal_segment_0106.mat',\n",
       " './data/Dog_1/Dog_1/Dog_1_interictal_segment_0424.mat',\n",
       " './data/Dog_1/Dog_1/Dog_1_interictal_segment_0362.mat',\n",
       " './data/Dog_1/Dog_1/Dog_1_interictal_segment_0151.mat',\n",
       " './data/Dog_1/Dog_1/Dog_1_interictal_segment_0344.mat',\n",
       " './data/Dog_1/Dog_1/Dog_1_interictal_segment_0438.mat',\n",
       " './data/Dog_1/Dog_1/Dog_1_interictal_segment_0253.mat',\n",
       " './data/Dog_1/Dog_1/Dog_1_interictal_segment_0073.mat',\n",
       " './data/Dog_1/Dog_1/Dog_1_interictal_segment_0464.mat',\n",
       " './data/Dog_1/Dog_1/Dog_1_interictal_segment_0320.mat',\n",
       " './data/Dog_1/Dog_1/Dog_1_interictal_segment_0022.mat',\n",
       " './data/Dog_1/Dog_1/Dog_1_interictal_segment_0317.mat']"
      ]
     },
     "execution_count": 81,
     "metadata": {},
     "output_type": "execute_result"
    }
   ],
   "source": [
    "[subject_paths[0] + '/' + segment for segment in subject_interictal_files[0]]"
   ]
  },
  {
   "cell_type": "code",
   "execution_count": 84,
   "metadata": {},
   "outputs": [
    {
     "data": {
      "text/plain": [
       "['./data/Dog_1/Dog_1/Dog_1_preictal_segment_0022.mat',\n",
       " './data/Dog_1/Dog_1/Dog_1_preictal_segment_0024.mat',\n",
       " './data/Dog_1/Dog_1/Dog_1_preictal_segment_0015.mat',\n",
       " './data/Dog_1/Dog_1/Dog_1_preictal_segment_0009.mat',\n",
       " './data/Dog_1/Dog_1/Dog_1_preictal_segment_0019.mat',\n",
       " './data/Dog_1/Dog_1/Dog_1_preictal_segment_0012.mat',\n",
       " './data/Dog_1/Dog_1/Dog_1_preictal_segment_0013.mat',\n",
       " './data/Dog_1/Dog_1/Dog_1_preictal_segment_0010.mat',\n",
       " './data/Dog_1/Dog_1/Dog_1_preictal_segment_0003.mat',\n",
       " './data/Dog_1/Dog_1/Dog_1_preictal_segment_0023.mat',\n",
       " './data/Dog_1/Dog_1/Dog_1_preictal_segment_0021.mat',\n",
       " './data/Dog_1/Dog_1/Dog_1_preictal_segment_0008.mat',\n",
       " './data/Dog_1/Dog_1/Dog_1_preictal_segment_0017.mat',\n",
       " './data/Dog_1/Dog_1/Dog_1_preictal_segment_0007.mat',\n",
       " './data/Dog_1/Dog_1/Dog_1_preictal_segment_0004.mat',\n",
       " './data/Dog_1/Dog_1/Dog_1_preictal_segment_0002.mat',\n",
       " './data/Dog_1/Dog_1/Dog_1_preictal_segment_0011.mat',\n",
       " './data/Dog_1/Dog_1/Dog_1_preictal_segment_0001.mat',\n",
       " './data/Dog_1/Dog_1/Dog_1_preictal_segment_0016.mat',\n",
       " './data/Dog_1/Dog_1/Dog_1_preictal_segment_0018.mat',\n",
       " './data/Dog_1/Dog_1/Dog_1_preictal_segment_0020.mat',\n",
       " './data/Dog_1/Dog_1/Dog_1_preictal_segment_0014.mat',\n",
       " './data/Dog_1/Dog_1/Dog_1_preictal_segment_0006.mat',\n",
       " './data/Dog_1/Dog_1/Dog_1_preictal_segment_0005.mat']"
      ]
     },
     "execution_count": 84,
     "metadata": {},
     "output_type": "execute_result"
    }
   ],
   "source": [
    "[subject_paths[0] + '/' + segment for segment in subject_preictal_files[0]]"
   ]
  },
  {
   "cell_type": "code",
   "execution_count": 98,
   "metadata": {},
   "outputs": [],
   "source": [
    "X = np.array([subject_paths[0] + '/' + segment for segment in subject_interictal_files[0]])\n",
    "y = np.array(subject_interictal_targets[0])\n",
    "for i in range(1, len(subject_names)):\n",
    "    X = np.append(X, [subject_paths[i] + '/' + segment for segment in subject_interictal_files[i]], axis=0)\n",
    "    X = np.append(X, [subject_paths[i] + '/' + segment for segment in subject_preictal_files[i]], axis=0)\n",
    "    y = np.append(y, subject_interictal_targets[i], axis=0)\n",
    "    y = np.append(y, subject_preictal_targets[i], axis=0)"
   ]
  },
  {
   "cell_type": "code",
   "execution_count": 83,
   "metadata": {},
   "outputs": [],
   "source": [
    "X = np.array(subject_interictal_files[0])\n",
    "y = np.array(subject_interictal_targets[0])\n",
    "for i in range(1, len(subject_names)):\n",
    "    [subject_paths[0] + '/' + segment for segment in subject_interictal_files[0]]\n",
    "    X = np.append(X, subject_interictal_files[i], axis=0)\n",
    "    X = np.append(X, subject_preictal_files[i], axis=0)\n",
    "    y = np.append(y, subject_interictal_targets[i], axis=0)\n",
    "    y = np.append(y, subject_preictal_targets[i], axis=0)"
   ]
  },
  {
   "cell_type": "code",
   "execution_count": 99,
   "metadata": {},
   "outputs": [
    {
     "data": {
      "text/plain": [
       "(4043,)"
      ]
     },
     "execution_count": 99,
     "metadata": {},
     "output_type": "execute_result"
    }
   ],
   "source": [
    "X.shape"
   ]
  },
  {
   "cell_type": "code",
   "execution_count": 100,
   "metadata": {},
   "outputs": [
    {
     "data": {
      "text/plain": [
       "(4043,)"
      ]
     },
     "execution_count": 100,
     "metadata": {},
     "output_type": "execute_result"
    }
   ],
   "source": [
    "y.shape"
   ]
  },
  {
   "cell_type": "code",
   "execution_count": 101,
   "metadata": {},
   "outputs": [
    {
     "data": {
      "text/plain": [
       "array(['./data/Dog_1/Dog_1/Dog_1_interictal_segment_0210.mat',\n",
       "       './data/Dog_1/Dog_1/Dog_1_interictal_segment_0205.mat',\n",
       "       './data/Dog_1/Dog_1/Dog_1_interictal_segment_0244.mat', ...,\n",
       "       './data/Patient_2/Patient_2/Patient_2_preictal_segment_0014.mat',\n",
       "       './data/Patient_2/Patient_2/Patient_2_preictal_segment_0003.mat',\n",
       "       './data/Patient_2/Patient_2/Patient_2_preictal_segment_0007.mat'],\n",
       "      dtype='<U64')"
      ]
     },
     "execution_count": 101,
     "metadata": {},
     "output_type": "execute_result"
    }
   ],
   "source": [
    "X"
   ]
  },
  {
   "cell_type": "code",
   "execution_count": 102,
   "metadata": {},
   "outputs": [
    {
     "data": {
      "text/plain": [
       "array([0., 0., 0., ..., 1., 1., 1.])"
      ]
     },
     "execution_count": 102,
     "metadata": {},
     "output_type": "execute_result"
    }
   ],
   "source": [
    "y"
   ]
  },
  {
   "cell_type": "code",
   "execution_count": 114,
   "metadata": {},
   "outputs": [
    {
     "data": {
      "text/plain": [
       "'./data/Dog_1/Dog_1/Dog_1_interictal_segment_0210.mat'"
      ]
     },
     "execution_count": 114,
     "metadata": {},
     "output_type": "execute_result"
    }
   ],
   "source": [
    "X[0]"
   ]
  },
  {
   "cell_type": "code",
   "execution_count": 103,
   "metadata": {},
   "outputs": [],
   "source": [
    "from sklearn.model_selection import train_test_split"
   ]
  },
  {
   "cell_type": "code",
   "execution_count": 104,
   "metadata": {},
   "outputs": [],
   "source": [
    "X_train, X_val, y_train, y_val = train_test_split(X, y, test_size=0.33, random_state=42)"
   ]
  },
  {
   "cell_type": "code",
   "execution_count": 105,
   "metadata": {},
   "outputs": [
    {
     "data": {
      "text/plain": [
       "(2708,)"
      ]
     },
     "execution_count": 105,
     "metadata": {},
     "output_type": "execute_result"
    }
   ],
   "source": [
    "X_train.shape"
   ]
  },
  {
   "cell_type": "code",
   "execution_count": 106,
   "metadata": {},
   "outputs": [
    {
     "data": {
      "text/plain": [
       "(1335,)"
      ]
     },
     "execution_count": 106,
     "metadata": {},
     "output_type": "execute_result"
    }
   ],
   "source": [
    "X_val.shape"
   ]
  },
  {
   "cell_type": "code",
   "execution_count": 107,
   "metadata": {},
   "outputs": [
    {
     "data": {
      "text/plain": [
       "(2708,)"
      ]
     },
     "execution_count": 107,
     "metadata": {},
     "output_type": "execute_result"
    }
   ],
   "source": [
    "y_train.shape"
   ]
  },
  {
   "cell_type": "code",
   "execution_count": 108,
   "metadata": {},
   "outputs": [
    {
     "data": {
      "text/plain": [
       "(1335,)"
      ]
     },
     "execution_count": 108,
     "metadata": {},
     "output_type": "execute_result"
    }
   ],
   "source": [
    "y_val.shape"
   ]
  },
  {
   "cell_type": "code",
   "execution_count": 111,
   "metadata": {},
   "outputs": [
    {
     "data": {
      "text/plain": [
       "'./data/Dog_1/Dog_1/Dog_1_interictal_segment_0448.mat'"
      ]
     },
     "execution_count": 111,
     "metadata": {},
     "output_type": "execute_result"
    }
   ],
   "source": [
    "X_train[0]"
   ]
  },
  {
   "cell_type": "code",
   "execution_count": 112,
   "metadata": {},
   "outputs": [],
   "source": [
    "from scipy.io import loadmat"
   ]
  },
  {
   "cell_type": "code",
   "execution_count": 113,
   "metadata": {},
   "outputs": [
    {
     "data": {
      "text/plain": [
       "{'__header__': b'MATLAB 5.0 MAT-file, Platform: MACI64, Created on: Thu Aug 21 01:00:00 2014',\n",
       " '__version__': '1.0',\n",
       " '__globals__': [],\n",
       " 'interictal_segment_448': array([[(array([[ 24,  21,  16, ...,  34,  31,  32],\n",
       "                [ 30,  26,  29, ...,  19,  24,  20],\n",
       "                [-12,  -8,  -2, ...,   7,   3,  -7],\n",
       "                ...,\n",
       "                [-21, -23, -22, ...,  -6,  -4,   7],\n",
       "                [-17, -17, -15, ..., -10,  -5,  -4],\n",
       "                [-17, -18, -15, ...,   9,   7,   4]], dtype=int16), array([[600]], dtype=uint16), array([[399.6097561]]), array([[array(['NVC1202_32_002_Ecog_c001'], dtype='<U24'),\n",
       "                 array(['NVC1202_32_002_Ecog_c002'], dtype='<U24'),\n",
       "                 array(['NVC1202_32_002_Ecog_c003'], dtype='<U24'),\n",
       "                 array(['NVC1202_32_002_Ecog_c004'], dtype='<U24'),\n",
       "                 array(['NVC1202_32_002_Ecog_c005'], dtype='<U24'),\n",
       "                 array(['NVC1202_32_002_Ecog_c006'], dtype='<U24'),\n",
       "                 array(['NVC1202_32_002_Ecog_c007'], dtype='<U24'),\n",
       "                 array(['NVC1202_32_002_Ecog_c008'], dtype='<U24'),\n",
       "                 array(['NVC1202_32_002_Ecog_c009'], dtype='<U24'),\n",
       "                 array(['NVC1202_32_002_Ecog_c010'], dtype='<U24'),\n",
       "                 array(['NVC1202_32_002_Ecog_c011'], dtype='<U24'),\n",
       "                 array(['NVC1202_32_002_Ecog_c012'], dtype='<U24'),\n",
       "                 array(['NVC1202_32_002_Ecog_c013'], dtype='<U24'),\n",
       "                 array(['NVC1202_32_002_Ecog_c014'], dtype='<U24'),\n",
       "                 array(['NVC1202_32_002_Ecog_c015'], dtype='<U24'),\n",
       "                 array(['NVC1202_32_002_Ecog_c016'], dtype='<U24')]], dtype=object), array([[4]], dtype=uint8))                                                                     ]],\n",
       "       dtype=[('data', 'O'), ('data_length_sec', 'O'), ('sampling_frequency', 'O'), ('channels', 'O'), ('sequence', 'O')])}"
      ]
     },
     "execution_count": 113,
     "metadata": {},
     "output_type": "execute_result"
    }
   ],
   "source": [
    "loadmat(X_train[0])"
   ]
  },
  {
   "cell_type": "code",
   "execution_count": 23,
   "metadata": {},
   "outputs": [
    {
     "data": {
      "application/vnd.jupyter.widget-view+json": {
       "model_id": "36a6db66814c4728ac221ca10f4f4292",
       "version_major": 2,
       "version_minor": 0
      },
      "text/plain": [
       "keep_interictal:   0%|          | 0/1006 [00:00<?, ?it/s]"
      ]
     },
     "metadata": {},
     "output_type": "display_data"
    },
    {
     "data": {
      "application/vnd.jupyter.widget-view+json": {
       "model_id": "10313a9ef74f4a4da2061df5e1677b3d",
       "version_major": 2,
       "version_minor": 0
      },
      "text/plain": [
       "keep_preictal:   0%|          | 0/1006 [00:00<?, ?it/s]"
      ]
     },
     "metadata": {},
     "output_type": "display_data"
    },
    {
     "data": {
      "application/vnd.jupyter.widget-view+json": {
       "model_id": "f83a67bdeb6742e1969b05ed3316191a",
       "version_major": 2,
       "version_minor": 0
      },
      "text/plain": [
       "keep_interictal:   0%|          | 0/1006 [00:00<?, ?it/s]"
      ]
     },
     "metadata": {},
     "output_type": "display_data"
    },
    {
     "data": {
      "application/vnd.jupyter.widget-view+json": {
       "model_id": "5d15f6311b394008815155a8c7f1b9ec",
       "version_major": 2,
       "version_minor": 0
      },
      "text/plain": [
       "keep_preictal:   0%|          | 0/1006 [00:00<?, ?it/s]"
      ]
     },
     "metadata": {},
     "output_type": "display_data"
    },
    {
     "data": {
      "text/plain": [
       "array(['./data/Dog_1/Dog_1/Dog_1_interictal_segment_0210.mat',\n",
       "       './data/Dog_1/Dog_1/Dog_1_interictal_segment_0205.mat',\n",
       "       './data/Dog_1/Dog_1/Dog_1_interictal_segment_0244.mat',\n",
       "       './data/Dog_1/Dog_1/Dog_1_interictal_segment_0184.mat',\n",
       "       './data/Dog_1/Dog_1/Dog_1_interictal_segment_0066.mat',\n",
       "       './data/Dog_1/Dog_1/Dog_1_interictal_segment_0232.mat',\n",
       "       './data/Dog_1/Dog_1/Dog_1_interictal_segment_0091.mat',\n",
       "       './data/Dog_1/Dog_1/Dog_1_interictal_segment_0470.mat',\n",
       "       './data/Dog_1/Dog_1/Dog_1_interictal_segment_0369.mat',\n",
       "       './data/Dog_1/Dog_1/Dog_1_interictal_segment_0169.mat',\n",
       "       './data/Dog_1/Dog_1/Dog_1_interictal_segment_0134.mat',\n",
       "       './data/Dog_1/Dog_1/Dog_1_interictal_segment_0092.mat',\n",
       "       './data/Dog_1/Dog_1/Dog_1_interictal_segment_0060.mat',\n",
       "       './data/Dog_1/Dog_1/Dog_1_interictal_segment_0120.mat',\n",
       "       './data/Dog_1/Dog_1/Dog_1_interictal_segment_0368.mat',\n",
       "       './data/Dog_1/Dog_1/Dog_1_interictal_segment_0017.mat',\n",
       "       './data/Dog_1/Dog_1/Dog_1_interictal_segment_0452.mat',\n",
       "       './data/Dog_1/Dog_1/Dog_1_interictal_segment_0186.mat',\n",
       "       './data/Dog_1/Dog_1/Dog_1_interictal_segment_0354.mat',\n",
       "       './data/Dog_1/Dog_1/Dog_1_interictal_segment_0389.mat',\n",
       "       './data/Dog_1/Dog_1/Dog_1_interictal_segment_0174.mat',\n",
       "       './data/Dog_1/Dog_1/Dog_1_interictal_segment_0117.mat',\n",
       "       './data/Dog_1/Dog_1/Dog_1_interictal_segment_0230.mat',\n",
       "       './data/Dog_1/Dog_1/Dog_1_interictal_segment_0289.mat',\n",
       "       './data/Dog_1/Dog_1/Dog_1_interictal_segment_0353.mat',\n",
       "       './data/Dog_1/Dog_1/Dog_1_interictal_segment_0390.mat',\n",
       "       './data/Dog_1/Dog_1/Dog_1_interictal_segment_0471.mat',\n",
       "       './data/Dog_1/Dog_1/Dog_1_interictal_segment_0374.mat',\n",
       "       './data/Dog_1/Dog_1/Dog_1_interictal_segment_0435.mat',\n",
       "       './data/Dog_1/Dog_1/Dog_1_interictal_segment_0294.mat',\n",
       "       './data/Dog_1/Dog_1/Dog_1_interictal_segment_0162.mat',\n",
       "       './data/Dog_1/Dog_1/Dog_1_interictal_segment_0352.mat',\n",
       "       './data/Dog_1/Dog_1/Dog_1_interictal_segment_0427.mat',\n",
       "       './data/Dog_1/Dog_1/Dog_1_interictal_segment_0002.mat',\n",
       "       './data/Dog_1/Dog_1/Dog_1_interictal_segment_0105.mat',\n",
       "       './data/Dog_1/Dog_1/Dog_1_interictal_segment_0228.mat',\n",
       "       './data/Dog_1/Dog_1/Dog_1_interictal_segment_0016.mat',\n",
       "       './data/Dog_1/Dog_1/Dog_1_interictal_segment_0158.mat',\n",
       "       './data/Dog_1/Dog_1/Dog_1_interictal_segment_0303.mat',\n",
       "       './data/Dog_1/Dog_1/Dog_1_interictal_segment_0246.mat',\n",
       "       './data/Dog_1/Dog_1/Dog_1_interictal_segment_0432.mat',\n",
       "       './data/Dog_1/Dog_1/Dog_1_interictal_segment_0384.mat',\n",
       "       './data/Dog_1/Dog_1/Dog_1_interictal_segment_0436.mat',\n",
       "       './data/Dog_1/Dog_1/Dog_1_interictal_segment_0396.mat',\n",
       "       './data/Dog_1/Dog_1/Dog_1_interictal_segment_0030.mat',\n",
       "       './data/Dog_1/Dog_1/Dog_1_interictal_segment_0401.mat',\n",
       "       './data/Dog_1/Dog_1/Dog_1_interictal_segment_0015.mat',\n",
       "       './data/Dog_1/Dog_1/Dog_1_interictal_segment_0083.mat',\n",
       "       './data/Dog_1/Dog_1/Dog_1_interictal_segment_0087.mat',\n",
       "       './data/Dog_1/Dog_1/Dog_1_interictal_segment_0324.mat',\n",
       "       './data/Dog_1/Dog_1/Dog_1_interictal_segment_0026.mat',\n",
       "       './data/Dog_1/Dog_1/Dog_1_interictal_segment_0003.mat',\n",
       "       './data/Dog_1/Dog_1/Dog_1_interictal_segment_0456.mat',\n",
       "       './data/Dog_1/Dog_1/Dog_1_interictal_segment_0029.mat',\n",
       "       './data/Dog_1/Dog_1/Dog_1_interictal_segment_0280.mat',\n",
       "       './data/Dog_1/Dog_1/Dog_1_interictal_segment_0321.mat',\n",
       "       './data/Dog_1/Dog_1/Dog_1_interictal_segment_0178.mat',\n",
       "       './data/Dog_1/Dog_1/Dog_1_interictal_segment_0156.mat',\n",
       "       './data/Dog_1/Dog_1/Dog_1_interictal_segment_0021.mat',\n",
       "       './data/Dog_1/Dog_1/Dog_1_interictal_segment_0226.mat',\n",
       "       './data/Dog_1/Dog_1/Dog_1_interictal_segment_0254.mat',\n",
       "       './data/Dog_1/Dog_1/Dog_1_interictal_segment_0005.mat',\n",
       "       './data/Dog_1/Dog_1/Dog_1_interictal_segment_0166.mat',\n",
       "       './data/Dog_1/Dog_1/Dog_1_interictal_segment_0045.mat',\n",
       "       './data/Dog_1/Dog_1/Dog_1_interictal_segment_0300.mat',\n",
       "       './data/Dog_1/Dog_1/Dog_1_interictal_segment_0375.mat',\n",
       "       './data/Dog_1/Dog_1/Dog_1_interictal_segment_0209.mat',\n",
       "       './data/Dog_1/Dog_1/Dog_1_interictal_segment_0118.mat',\n",
       "       './data/Dog_1/Dog_1/Dog_1_interictal_segment_0465.mat',\n",
       "       './data/Dog_1/Dog_1/Dog_1_interictal_segment_0403.mat',\n",
       "       './data/Dog_1/Dog_1/Dog_1_interictal_segment_0121.mat',\n",
       "       './data/Dog_1/Dog_1/Dog_1_interictal_segment_0474.mat',\n",
       "       './data/Dog_1/Dog_1/Dog_1_interictal_segment_0434.mat',\n",
       "       './data/Dog_1/Dog_1/Dog_1_interictal_segment_0037.mat',\n",
       "       './data/Dog_1/Dog_1/Dog_1_interictal_segment_0433.mat',\n",
       "       './data/Dog_1/Dog_1/Dog_1_interictal_segment_0055.mat',\n",
       "       './data/Dog_1/Dog_1/Dog_1_interictal_segment_0094.mat',\n",
       "       './data/Dog_1/Dog_1/Dog_1_interictal_segment_0466.mat',\n",
       "       './data/Dog_1/Dog_1/Dog_1_interictal_segment_0311.mat',\n",
       "       './data/Dog_1/Dog_1/Dog_1_interictal_segment_0141.mat',\n",
       "       './data/Dog_1/Dog_1/Dog_1_interictal_segment_0110.mat',\n",
       "       './data/Dog_1/Dog_1/Dog_1_interictal_segment_0348.mat',\n",
       "       './data/Dog_1/Dog_1/Dog_1_interictal_segment_0243.mat',\n",
       "       './data/Dog_1/Dog_1/Dog_1_interictal_segment_0333.mat',\n",
       "       './data/Dog_1/Dog_1/Dog_1_interictal_segment_0468.mat',\n",
       "       './data/Dog_1/Dog_1/Dog_1_interictal_segment_0076.mat',\n",
       "       './data/Dog_1/Dog_1/Dog_1_interictal_segment_0058.mat',\n",
       "       './data/Dog_1/Dog_1/Dog_1_interictal_segment_0467.mat',\n",
       "       './data/Dog_1/Dog_1/Dog_1_interictal_segment_0163.mat',\n",
       "       './data/Dog_1/Dog_1/Dog_1_interictal_segment_0109.mat',\n",
       "       './data/Dog_1/Dog_1/Dog_1_interictal_segment_0309.mat',\n",
       "       './data/Dog_1/Dog_1/Dog_1_interictal_segment_0251.mat',\n",
       "       './data/Dog_1/Dog_1/Dog_1_interictal_segment_0359.mat',\n",
       "       './data/Dog_1/Dog_1/Dog_1_interictal_segment_0480.mat',\n",
       "       './data/Dog_1/Dog_1/Dog_1_interictal_segment_0460.mat',\n",
       "       './data/Dog_1/Dog_1/Dog_1_interictal_segment_0249.mat',\n",
       "       './data/Dog_1/Dog_1/Dog_1_interictal_segment_0048.mat',\n",
       "       './data/Dog_1/Dog_1/Dog_1_interictal_segment_0270.mat',\n",
       "       './data/Dog_1/Dog_1/Dog_1_interictal_segment_0285.mat',\n",
       "       './data/Dog_1/Dog_1/Dog_1_interictal_segment_0274.mat',\n",
       "       './data/Dog_1/Dog_1/Dog_1_interictal_segment_0075.mat',\n",
       "       './data/Dog_1/Dog_1/Dog_1_interictal_segment_0237.mat',\n",
       "       './data/Dog_1/Dog_1/Dog_1_interictal_segment_0223.mat',\n",
       "       './data/Dog_1/Dog_1/Dog_1_interictal_segment_0292.mat',\n",
       "       './data/Dog_1/Dog_1/Dog_1_interictal_segment_0290.mat',\n",
       "       './data/Dog_1/Dog_1/Dog_1_interictal_segment_0018.mat',\n",
       "       './data/Dog_1/Dog_1/Dog_1_interictal_segment_0461.mat',\n",
       "       './data/Dog_1/Dog_1/Dog_1_interictal_segment_0441.mat',\n",
       "       './data/Dog_1/Dog_1/Dog_1_interictal_segment_0051.mat',\n",
       "       './data/Dog_1/Dog_1/Dog_1_interictal_segment_0411.mat',\n",
       "       './data/Dog_1/Dog_1/Dog_1_interictal_segment_0328.mat',\n",
       "       './data/Dog_1/Dog_1/Dog_1_interictal_segment_0138.mat',\n",
       "       './data/Dog_1/Dog_1/Dog_1_interictal_segment_0195.mat',\n",
       "       './data/Dog_1/Dog_1/Dog_1_interictal_segment_0068.mat',\n",
       "       './data/Dog_1/Dog_1/Dog_1_interictal_segment_0455.mat',\n",
       "       './data/Dog_1/Dog_1/Dog_1_interictal_segment_0013.mat',\n",
       "       './data/Dog_1/Dog_1/Dog_1_interictal_segment_0421.mat',\n",
       "       './data/Dog_1/Dog_1/Dog_1_interictal_segment_0443.mat',\n",
       "       './data/Dog_1/Dog_1/Dog_1_interictal_segment_0459.mat',\n",
       "       './data/Dog_1/Dog_1/Dog_1_interictal_segment_0187.mat',\n",
       "       './data/Dog_1/Dog_1/Dog_1_interictal_segment_0115.mat',\n",
       "       './data/Dog_1/Dog_1/Dog_1_interictal_segment_0116.mat',\n",
       "       './data/Dog_1/Dog_1/Dog_1_interictal_segment_0439.mat',\n",
       "       './data/Dog_1/Dog_1/Dog_1_interictal_segment_0194.mat',\n",
       "       './data/Dog_1/Dog_1/Dog_1_interictal_segment_0039.mat',\n",
       "       './data/Dog_1/Dog_1/Dog_1_interictal_segment_0239.mat',\n",
       "       './data/Dog_1/Dog_1/Dog_1_interictal_segment_0346.mat',\n",
       "       './data/Dog_1/Dog_1/Dog_1_interictal_segment_0084.mat',\n",
       "       './data/Dog_1/Dog_1/Dog_1_interictal_segment_0159.mat',\n",
       "       './data/Dog_1/Dog_1/Dog_1_interictal_segment_0102.mat',\n",
       "       './data/Dog_1/Dog_1/Dog_1_interictal_segment_0192.mat',\n",
       "       './data/Dog_1/Dog_1/Dog_1_interictal_segment_0131.mat',\n",
       "       './data/Dog_1/Dog_1/Dog_1_interictal_segment_0307.mat',\n",
       "       './data/Dog_1/Dog_1/Dog_1_interictal_segment_0196.mat',\n",
       "       './data/Dog_1/Dog_1/Dog_1_interictal_segment_0263.mat',\n",
       "       './data/Dog_1/Dog_1/Dog_1_interictal_segment_0234.mat',\n",
       "       './data/Dog_1/Dog_1/Dog_1_interictal_segment_0388.mat',\n",
       "       './data/Dog_1/Dog_1/Dog_1_interictal_segment_0284.mat',\n",
       "       './data/Dog_1/Dog_1/Dog_1_interictal_segment_0175.mat',\n",
       "       './data/Dog_1/Dog_1/Dog_1_interictal_segment_0108.mat',\n",
       "       './data/Dog_1/Dog_1/Dog_1_interictal_segment_0319.mat',\n",
       "       './data/Dog_1/Dog_1/Dog_1_interictal_segment_0343.mat',\n",
       "       './data/Dog_1/Dog_1/Dog_1_interictal_segment_0409.mat',\n",
       "       './data/Dog_1/Dog_1/Dog_1_interictal_segment_0012.mat',\n",
       "       './data/Dog_1/Dog_1/Dog_1_interictal_segment_0179.mat',\n",
       "       './data/Dog_1/Dog_1/Dog_1_interictal_segment_0277.mat',\n",
       "       './data/Dog_1/Dog_1/Dog_1_interictal_segment_0062.mat',\n",
       "       './data/Dog_1/Dog_1/Dog_1_interictal_segment_0097.mat',\n",
       "       './data/Dog_1/Dog_1/Dog_1_interictal_segment_0189.mat',\n",
       "       './data/Dog_1/Dog_1/Dog_1_interictal_segment_0286.mat',\n",
       "       './data/Dog_1/Dog_1/Dog_1_interictal_segment_0132.mat',\n",
       "       './data/Dog_1/Dog_1/Dog_1_interictal_segment_0028.mat',\n",
       "       './data/Dog_1/Dog_1/Dog_1_interictal_segment_0273.mat',\n",
       "       './data/Dog_1/Dog_1/Dog_1_interictal_segment_0080.mat',\n",
       "       './data/Dog_1/Dog_1/Dog_1_interictal_segment_0345.mat',\n",
       "       './data/Dog_1/Dog_1/Dog_1_interictal_segment_0113.mat',\n",
       "       './data/Dog_1/Dog_1/Dog_1_interictal_segment_0046.mat',\n",
       "       './data/Dog_1/Dog_1/Dog_1_interictal_segment_0310.mat',\n",
       "       './data/Dog_1/Dog_1/Dog_1_interictal_segment_0065.mat',\n",
       "       './data/Dog_1/Dog_1/Dog_1_interictal_segment_0033.mat',\n",
       "       './data/Dog_1/Dog_1/Dog_1_interictal_segment_0400.mat',\n",
       "       './data/Dog_1/Dog_1/Dog_1_interictal_segment_0144.mat',\n",
       "       './data/Dog_1/Dog_1/Dog_1_interictal_segment_0293.mat',\n",
       "       './data/Dog_1/Dog_1/Dog_1_interictal_segment_0332.mat',\n",
       "       './data/Dog_1/Dog_1/Dog_1_interictal_segment_0394.mat',\n",
       "       './data/Dog_1/Dog_1/Dog_1_interictal_segment_0431.mat',\n",
       "       './data/Dog_1/Dog_1/Dog_1_interictal_segment_0257.mat',\n",
       "       './data/Dog_1/Dog_1/Dog_1_interictal_segment_0302.mat',\n",
       "       './data/Dog_1/Dog_1/Dog_1_interictal_segment_0448.mat',\n",
       "       './data/Dog_1/Dog_1/Dog_1_interictal_segment_0125.mat',\n",
       "       './data/Dog_1/Dog_1/Dog_1_interictal_segment_0061.mat',\n",
       "       './data/Dog_1/Dog_1/Dog_1_interictal_segment_0006.mat',\n",
       "       './data/Dog_1/Dog_1/Dog_1_interictal_segment_0089.mat',\n",
       "       './data/Dog_1/Dog_1/Dog_1_interictal_segment_0331.mat',\n",
       "       './data/Dog_1/Dog_1/Dog_1_interictal_segment_0218.mat',\n",
       "       './data/Dog_1/Dog_1/Dog_1_interictal_segment_0414.mat',\n",
       "       './data/Dog_1/Dog_1/Dog_1_interictal_segment_0168.mat',\n",
       "       './data/Dog_1/Dog_1/Dog_1_interictal_segment_0197.mat',\n",
       "       './data/Dog_1/Dog_1/Dog_1_interictal_segment_0268.mat',\n",
       "       './data/Dog_1/Dog_1/Dog_1_interictal_segment_0126.mat',\n",
       "       './data/Dog_1/Dog_1/Dog_1_interictal_segment_0161.mat',\n",
       "       './data/Dog_1/Dog_1/Dog_1_interictal_segment_0373.mat',\n",
       "       './data/Dog_1/Dog_1/Dog_1_interictal_segment_0360.mat',\n",
       "       './data/Dog_1/Dog_1/Dog_1_interictal_segment_0200.mat',\n",
       "       './data/Dog_1/Dog_1/Dog_1_interictal_segment_0347.mat',\n",
       "       './data/Dog_1/Dog_1/Dog_1_interictal_segment_0416.mat',\n",
       "       './data/Dog_1/Dog_1/Dog_1_interictal_segment_0009.mat',\n",
       "       './data/Dog_1/Dog_1/Dog_1_interictal_segment_0154.mat',\n",
       "       './data/Dog_1/Dog_1/Dog_1_interictal_segment_0114.mat',\n",
       "       './data/Dog_1/Dog_1/Dog_1_interictal_segment_0281.mat',\n",
       "       './data/Dog_1/Dog_1/Dog_1_interictal_segment_0171.mat',\n",
       "       './data/Dog_1/Dog_1/Dog_1_interictal_segment_0357.mat',\n",
       "       './data/Dog_1/Dog_1/Dog_1_interictal_segment_0004.mat',\n",
       "       './data/Dog_1/Dog_1/Dog_1_interictal_segment_0408.mat',\n",
       "       './data/Dog_1/Dog_1/Dog_1_interictal_segment_0423.mat',\n",
       "       './data/Dog_1/Dog_1/Dog_1_interictal_segment_0047.mat',\n",
       "       './data/Dog_1/Dog_1/Dog_1_interictal_segment_0457.mat',\n",
       "       './data/Dog_1/Dog_1/Dog_1_interictal_segment_0392.mat',\n",
       "       './data/Dog_1/Dog_1/Dog_1_interictal_segment_0070.mat',\n",
       "       './data/Dog_1/Dog_1/Dog_1_interictal_segment_0173.mat',\n",
       "       './data/Dog_1/Dog_1/Dog_1_interictal_segment_0008.mat',\n",
       "       './data/Dog_1/Dog_1/Dog_1_interictal_segment_0204.mat',\n",
       "       './data/Dog_1/Dog_1/Dog_1_interictal_segment_0335.mat',\n",
       "       './data/Dog_1/Dog_1/Dog_1_interictal_segment_0086.mat',\n",
       "       './data/Dog_1/Dog_1/Dog_1_interictal_segment_0446.mat',\n",
       "       './data/Dog_1/Dog_1/Dog_1_interictal_segment_0291.mat',\n",
       "       './data/Dog_1/Dog_1/Dog_1_interictal_segment_0271.mat',\n",
       "       './data/Dog_1/Dog_1/Dog_1_interictal_segment_0338.mat',\n",
       "       './data/Dog_1/Dog_1/Dog_1_interictal_segment_0056.mat',\n",
       "       './data/Dog_1/Dog_1/Dog_1_interictal_segment_0096.mat',\n",
       "       './data/Dog_1/Dog_1/Dog_1_interictal_segment_0198.mat',\n",
       "       './data/Dog_1/Dog_1/Dog_1_interictal_segment_0299.mat',\n",
       "       './data/Dog_1/Dog_1/Dog_1_interictal_segment_0007.mat',\n",
       "       './data/Dog_1/Dog_1/Dog_1_interictal_segment_0011.mat',\n",
       "       './data/Dog_1/Dog_1/Dog_1_interictal_segment_0262.mat',\n",
       "       './data/Dog_1/Dog_1/Dog_1_interictal_segment_0266.mat',\n",
       "       './data/Dog_1/Dog_1/Dog_1_interictal_segment_0447.mat',\n",
       "       './data/Dog_1/Dog_1/Dog_1_interictal_segment_0133.mat',\n",
       "       './data/Dog_1/Dog_1/Dog_1_interictal_segment_0267.mat',\n",
       "       './data/Dog_1/Dog_1/Dog_1_interictal_segment_0358.mat',\n",
       "       './data/Dog_1/Dog_1/Dog_1_interictal_segment_0227.mat',\n",
       "       './data/Dog_1/Dog_1/Dog_1_interictal_segment_0155.mat',\n",
       "       './data/Dog_1/Dog_1/Dog_1_interictal_segment_0404.mat',\n",
       "       './data/Dog_1/Dog_1/Dog_1_interictal_segment_0469.mat',\n",
       "       './data/Dog_1/Dog_1/Dog_1_interictal_segment_0142.mat',\n",
       "       './data/Dog_1/Dog_1/Dog_1_interictal_segment_0472.mat',\n",
       "       './data/Dog_1/Dog_1/Dog_1_interictal_segment_0053.mat',\n",
       "       './data/Dog_1/Dog_1/Dog_1_interictal_segment_0288.mat',\n",
       "       './data/Dog_1/Dog_1/Dog_1_interictal_segment_0078.mat',\n",
       "       './data/Dog_1/Dog_1/Dog_1_interictal_segment_0077.mat',\n",
       "       './data/Dog_1/Dog_1/Dog_1_interictal_segment_0044.mat',\n",
       "       './data/Dog_1/Dog_1/Dog_1_interictal_segment_0304.mat',\n",
       "       './data/Dog_1/Dog_1/Dog_1_interictal_segment_0393.mat',\n",
       "       './data/Dog_1/Dog_1/Dog_1_interictal_segment_0415.mat',\n",
       "       './data/Dog_1/Dog_1/Dog_1_interictal_segment_0038.mat',\n",
       "       './data/Dog_1/Dog_1/Dog_1_interictal_segment_0235.mat',\n",
       "       './data/Dog_1/Dog_1/Dog_1_interictal_segment_0391.mat',\n",
       "       './data/Dog_1/Dog_1/Dog_1_interictal_segment_0349.mat',\n",
       "       './data/Dog_1/Dog_1/Dog_1_interictal_segment_0259.mat',\n",
       "       './data/Dog_1/Dog_1/Dog_1_interictal_segment_0176.mat',\n",
       "       './data/Dog_1/Dog_1/Dog_1_interictal_segment_0170.mat',\n",
       "       './data/Dog_1/Dog_1/Dog_1_interictal_segment_0255.mat',\n",
       "       './data/Dog_1/Dog_1/Dog_1_interictal_segment_0326.mat',\n",
       "       './data/Dog_1/Dog_1/Dog_1_interictal_segment_0428.mat',\n",
       "       './data/Dog_1/Dog_1/Dog_1_interictal_segment_0370.mat',\n",
       "       './data/Dog_1/Dog_1/Dog_1_interictal_segment_0072.mat',\n",
       "       './data/Dog_1/Dog_1/Dog_1_interictal_segment_0147.mat',\n",
       "       './data/Dog_1/Dog_1/Dog_1_interictal_segment_0095.mat',\n",
       "       './data/Dog_1/Dog_1/Dog_1_interictal_segment_0181.mat',\n",
       "       './data/Dog_1/Dog_1/Dog_1_interictal_segment_0386.mat',\n",
       "       './data/Dog_1/Dog_1/Dog_1_interictal_segment_0119.mat',\n",
       "       './data/Dog_1/Dog_1/Dog_1_interictal_segment_0477.mat',\n",
       "       './data/Dog_1/Dog_1/Dog_1_interictal_segment_0202.mat',\n",
       "       './data/Dog_1/Dog_1/Dog_1_interictal_segment_0430.mat',\n",
       "       './data/Dog_1/Dog_1/Dog_1_interictal_segment_0405.mat',\n",
       "       './data/Dog_1/Dog_1/Dog_1_interictal_segment_0067.mat',\n",
       "       './data/Dog_1/Dog_1/Dog_1_interictal_segment_0327.mat',\n",
       "       './data/Dog_1/Dog_1/Dog_1_interictal_segment_0050.mat',\n",
       "       './data/Dog_1/Dog_1/Dog_1_interictal_segment_0027.mat',\n",
       "       './data/Dog_1/Dog_1/Dog_1_interictal_segment_0153.mat',\n",
       "       './data/Dog_1/Dog_1/Dog_1_interictal_segment_0122.mat',\n",
       "       './data/Dog_1/Dog_1/Dog_1_interictal_segment_0100.mat',\n",
       "       './data/Dog_1/Dog_1/Dog_1_interictal_segment_0201.mat',\n",
       "       './data/Dog_1/Dog_1/Dog_1_interictal_segment_0365.mat',\n",
       "       './data/Dog_1/Dog_1/Dog_1_interictal_segment_0366.mat',\n",
       "       './data/Dog_1/Dog_1/Dog_1_interictal_segment_0074.mat',\n",
       "       './data/Dog_1/Dog_1/Dog_1_interictal_segment_0098.mat',\n",
       "       './data/Dog_1/Dog_1/Dog_1_interictal_segment_0247.mat',\n",
       "       './data/Dog_1/Dog_1/Dog_1_interictal_segment_0099.mat',\n",
       "       './data/Dog_1/Dog_1/Dog_1_interictal_segment_0318.mat',\n",
       "       './data/Dog_1/Dog_1/Dog_1_interictal_segment_0040.mat',\n",
       "       './data/Dog_1/Dog_1/Dog_1_interictal_segment_0248.mat',\n",
       "       './data/Dog_1/Dog_1/Dog_1_interictal_segment_0123.mat',\n",
       "       './data/Dog_1/Dog_1/Dog_1_interictal_segment_0269.mat',\n",
       "       './data/Dog_1/Dog_1/Dog_1_interictal_segment_0308.mat',\n",
       "       './data/Dog_1/Dog_1/Dog_1_interictal_segment_0334.mat',\n",
       "       './data/Dog_1/Dog_1/Dog_1_interictal_segment_0440.mat',\n",
       "       './data/Dog_1/Dog_1/Dog_1_interictal_segment_0312.mat',\n",
       "       './data/Dog_1/Dog_1/Dog_1_interictal_segment_0064.mat',\n",
       "       './data/Dog_1/Dog_1/Dog_1_interictal_segment_0241.mat',\n",
       "       './data/Dog_1/Dog_1/Dog_1_interictal_segment_0295.mat',\n",
       "       './data/Dog_1/Dog_1/Dog_1_interictal_segment_0020.mat',\n",
       "       './data/Dog_1/Dog_1/Dog_1_interictal_segment_0264.mat',\n",
       "       './data/Dog_1/Dog_1/Dog_1_interictal_segment_0429.mat',\n",
       "       './data/Dog_1/Dog_1/Dog_1_interictal_segment_0372.mat',\n",
       "       './data/Dog_1/Dog_1/Dog_1_interictal_segment_0442.mat',\n",
       "       './data/Dog_1/Dog_1/Dog_1_interictal_segment_0272.mat',\n",
       "       './data/Dog_1/Dog_1/Dog_1_interictal_segment_0301.mat',\n",
       "       './data/Dog_1/Dog_1/Dog_1_interictal_segment_0342.mat',\n",
       "       './data/Dog_1/Dog_1/Dog_1_interictal_segment_0278.mat',\n",
       "       './data/Dog_1/Dog_1/Dog_1_interictal_segment_0256.mat',\n",
       "       './data/Dog_1/Dog_1/Dog_1_interictal_segment_0363.mat',\n",
       "       './data/Dog_1/Dog_1/Dog_1_interictal_segment_0364.mat',\n",
       "       './data/Dog_1/Dog_1/Dog_1_interictal_segment_0052.mat',\n",
       "       './data/Dog_1/Dog_1/Dog_1_interictal_segment_0305.mat',\n",
       "       './data/Dog_1/Dog_1/Dog_1_interictal_segment_0402.mat',\n",
       "       './data/Dog_1/Dog_1/Dog_1_interictal_segment_0157.mat',\n",
       "       './data/Dog_1/Dog_1/Dog_1_interictal_segment_0413.mat',\n",
       "       './data/Dog_1/Dog_1/Dog_1_interictal_segment_0182.mat',\n",
       "       './data/Dog_1/Dog_1/Dog_1_interictal_segment_0417.mat',\n",
       "       './data/Dog_1/Dog_1/Dog_1_interictal_segment_0449.mat',\n",
       "       './data/Dog_1/Dog_1/Dog_1_interictal_segment_0261.mat',\n",
       "       './data/Dog_1/Dog_1/Dog_1_interictal_segment_0322.mat',\n",
       "       './data/Dog_1/Dog_1/Dog_1_interictal_segment_0458.mat',\n",
       "       './data/Dog_1/Dog_1/Dog_1_interictal_segment_0426.mat',\n",
       "       './data/Dog_1/Dog_1/Dog_1_interictal_segment_0325.mat',\n",
       "       './data/Dog_1/Dog_1/Dog_1_interictal_segment_0350.mat',\n",
       "       './data/Dog_1/Dog_1/Dog_1_interictal_segment_0276.mat',\n",
       "       './data/Dog_1/Dog_1/Dog_1_interictal_segment_0225.mat',\n",
       "       './data/Dog_1/Dog_1/Dog_1_interictal_segment_0236.mat',\n",
       "       './data/Dog_1/Dog_1/Dog_1_interictal_segment_0069.mat',\n",
       "       './data/Dog_1/Dog_1/Dog_1_interictal_segment_0476.mat',\n",
       "       './data/Dog_1/Dog_1/Dog_1_interictal_segment_0081.mat',\n",
       "       './data/Dog_1/Dog_1/Dog_1_interictal_segment_0088.mat',\n",
       "       './data/Dog_1/Dog_1/Dog_1_interictal_segment_0406.mat',\n",
       "       './data/Dog_1/Dog_1/Dog_1_interictal_segment_0143.mat',\n",
       "       './data/Dog_1/Dog_1/Dog_1_interictal_segment_0104.mat',\n",
       "       './data/Dog_1/Dog_1/Dog_1_interictal_segment_0419.mat',\n",
       "       './data/Dog_1/Dog_1/Dog_1_interictal_segment_0451.mat',\n",
       "       './data/Dog_1/Dog_1/Dog_1_interictal_segment_0329.mat',\n",
       "       './data/Dog_1/Dog_1/Dog_1_interictal_segment_0445.mat',\n",
       "       './data/Dog_1/Dog_1/Dog_1_interictal_segment_0367.mat',\n",
       "       './data/Dog_1/Dog_1/Dog_1_interictal_segment_0183.mat',\n",
       "       './data/Dog_1/Dog_1/Dog_1_interictal_segment_0206.mat',\n",
       "       './data/Dog_1/Dog_1/Dog_1_interictal_segment_0111.mat',\n",
       "       './data/Dog_1/Dog_1/Dog_1_interictal_segment_0172.mat',\n",
       "       './data/Dog_1/Dog_1/Dog_1_interictal_segment_0128.mat',\n",
       "       './data/Dog_1/Dog_1/Dog_1_interictal_segment_0351.mat',\n",
       "       './data/Dog_1/Dog_1/Dog_1_interictal_segment_0014.mat',\n",
       "       './data/Dog_1/Dog_1/Dog_1_interictal_segment_0035.mat',\n",
       "       './data/Dog_1/Dog_1/Dog_1_interictal_segment_0242.mat',\n",
       "       './data/Dog_1/Dog_1/Dog_1_interictal_segment_0260.mat',\n",
       "       './data/Dog_1/Dog_1/Dog_1_interictal_segment_0283.mat',\n",
       "       './data/Dog_1/Dog_1/Dog_1_interictal_segment_0298.mat',\n",
       "       './data/Dog_1/Dog_1/Dog_1_interictal_segment_0382.mat',\n",
       "       './data/Dog_1/Dog_1/Dog_1_interictal_segment_0057.mat',\n",
       "       './data/Dog_1/Dog_1/Dog_1_interictal_segment_0180.mat',\n",
       "       './data/Dog_1/Dog_1/Dog_1_interictal_segment_0462.mat',\n",
       "       './data/Dog_1/Dog_1/Dog_1_interictal_segment_0103.mat',\n",
       "       './data/Dog_1/Dog_1/Dog_1_interictal_segment_0313.mat',\n",
       "       './data/Dog_1/Dog_1/Dog_1_interictal_segment_0112.mat',\n",
       "       './data/Dog_1/Dog_1/Dog_1_interictal_segment_0211.mat',\n",
       "       './data/Dog_1/Dog_1/Dog_1_interictal_segment_0203.mat',\n",
       "       './data/Dog_1/Dog_1/Dog_1_interictal_segment_0316.mat',\n",
       "       './data/Dog_1/Dog_1/Dog_1_interictal_segment_0214.mat',\n",
       "       './data/Dog_1/Dog_1/Dog_1_interictal_segment_0407.mat',\n",
       "       './data/Dog_1/Dog_1/Dog_1_interictal_segment_0240.mat',\n",
       "       './data/Dog_1/Dog_1/Dog_1_interictal_segment_0341.mat',\n",
       "       './data/Dog_1/Dog_1/Dog_1_interictal_segment_0420.mat',\n",
       "       './data/Dog_1/Dog_1/Dog_1_interictal_segment_0222.mat',\n",
       "       './data/Dog_1/Dog_1/Dog_1_interictal_segment_0453.mat',\n",
       "       './data/Dog_1/Dog_1/Dog_1_interictal_segment_0399.mat',\n",
       "       './data/Dog_1/Dog_1/Dog_1_interictal_segment_0361.mat',\n",
       "       './data/Dog_1/Dog_1/Dog_1_interictal_segment_0233.mat',\n",
       "       './data/Dog_1/Dog_1/Dog_1_interictal_segment_0124.mat',\n",
       "       './data/Dog_1/Dog_1/Dog_1_interictal_segment_0031.mat',\n",
       "       './data/Dog_1/Dog_1/Dog_1_interictal_segment_0355.mat',\n",
       "       './data/Dog_1/Dog_1/Dog_1_interictal_segment_0275.mat',\n",
       "       './data/Dog_1/Dog_1/Dog_1_interictal_segment_0145.mat',\n",
       "       './data/Dog_1/Dog_1/Dog_1_interictal_segment_0287.mat',\n",
       "       './data/Dog_1/Dog_1/Dog_1_interictal_segment_0034.mat',\n",
       "       './data/Dog_1/Dog_1/Dog_1_interictal_segment_0473.mat',\n",
       "       './data/Dog_1/Dog_1/Dog_1_interictal_segment_0043.mat',\n",
       "       './data/Dog_1/Dog_1/Dog_1_interictal_segment_0323.mat',\n",
       "       './data/Dog_1/Dog_1/Dog_1_interictal_segment_0149.mat',\n",
       "       './data/Dog_1/Dog_1/Dog_1_interictal_segment_0150.mat',\n",
       "       './data/Dog_1/Dog_1/Dog_1_interictal_segment_0463.mat',\n",
       "       './data/Dog_1/Dog_1/Dog_1_interictal_segment_0258.mat',\n",
       "       './data/Dog_1/Dog_1/Dog_1_interictal_segment_0164.mat',\n",
       "       './data/Dog_1/Dog_1/Dog_1_interictal_segment_0395.mat',\n",
       "       './data/Dog_1/Dog_1/Dog_1_interictal_segment_0054.mat',\n",
       "       './data/Dog_1/Dog_1/Dog_1_interictal_segment_0229.mat',\n",
       "       './data/Dog_1/Dog_1/Dog_1_interictal_segment_0340.mat',\n",
       "       './data/Dog_1/Dog_1/Dog_1_interictal_segment_0397.mat',\n",
       "       './data/Dog_1/Dog_1/Dog_1_interictal_segment_0130.mat',\n",
       "       './data/Dog_1/Dog_1/Dog_1_interictal_segment_0330.mat',\n",
       "       './data/Dog_1/Dog_1/Dog_1_interictal_segment_0071.mat',\n",
       "       './data/Dog_1/Dog_1/Dog_1_interictal_segment_0377.mat',\n",
       "       './data/Dog_1/Dog_1/Dog_1_interictal_segment_0282.mat',\n",
       "       './data/Dog_1/Dog_1/Dog_1_interictal_segment_0219.mat',\n",
       "       './data/Dog_1/Dog_1/Dog_1_interictal_segment_0450.mat',\n",
       "       './data/Dog_1/Dog_1/Dog_1_interictal_segment_0146.mat',\n",
       "       './data/Dog_1/Dog_1/Dog_1_interictal_segment_0127.mat',\n",
       "       './data/Dog_1/Dog_1/Dog_1_interictal_segment_0238.mat',\n",
       "       './data/Dog_1/Dog_1/Dog_1_interictal_segment_0139.mat',\n",
       "       './data/Dog_1/Dog_1/Dog_1_interictal_segment_0245.mat',\n",
       "       './data/Dog_1/Dog_1/Dog_1_interictal_segment_0306.mat',\n",
       "       './data/Dog_1/Dog_1/Dog_1_interictal_segment_0010.mat',\n",
       "       './data/Dog_1/Dog_1/Dog_1_interictal_segment_0129.mat',\n",
       "       './data/Dog_1/Dog_1/Dog_1_interictal_segment_0059.mat',\n",
       "       './data/Dog_1/Dog_1/Dog_1_interictal_segment_0148.mat',\n",
       "       './data/Dog_1/Dog_1/Dog_1_interictal_segment_0337.mat',\n",
       "       './data/Dog_1/Dog_1/Dog_1_interictal_segment_0412.mat',\n",
       "       './data/Dog_1/Dog_1/Dog_1_interictal_segment_0418.mat',\n",
       "       './data/Dog_1/Dog_1/Dog_1_interictal_segment_0213.mat',\n",
       "       './data/Dog_1/Dog_1/Dog_1_interictal_segment_0279.mat',\n",
       "       './data/Dog_1/Dog_1/Dog_1_interictal_segment_0231.mat',\n",
       "       './data/Dog_1/Dog_1/Dog_1_interictal_segment_0135.mat',\n",
       "       './data/Dog_1/Dog_1/Dog_1_interictal_segment_0475.mat',\n",
       "       './data/Dog_1/Dog_1/Dog_1_interictal_segment_0380.mat',\n",
       "       './data/Dog_1/Dog_1/Dog_1_interictal_segment_0207.mat',\n",
       "       './data/Dog_1/Dog_1/Dog_1_interictal_segment_0193.mat',\n",
       "       './data/Dog_1/Dog_1/Dog_1_interictal_segment_0265.mat',\n",
       "       './data/Dog_1/Dog_1/Dog_1_interictal_segment_0224.mat',\n",
       "       './data/Dog_1/Dog_1/Dog_1_interictal_segment_0296.mat',\n",
       "       './data/Dog_1/Dog_1/Dog_1_interictal_segment_0199.mat',\n",
       "       './data/Dog_1/Dog_1/Dog_1_interictal_segment_0250.mat',\n",
       "       './data/Dog_1/Dog_1/Dog_1_interictal_segment_0444.mat',\n",
       "       './data/Dog_1/Dog_1/Dog_1_interictal_segment_0398.mat',\n",
       "       './data/Dog_1/Dog_1/Dog_1_interictal_segment_0422.mat',\n",
       "       './data/Dog_1/Dog_1/Dog_1_interictal_segment_0036.mat',\n",
       "       './data/Dog_1/Dog_1/Dog_1_interictal_segment_0140.mat',\n",
       "       './data/Dog_1/Dog_1/Dog_1_interictal_segment_0191.mat',\n",
       "       './data/Dog_1/Dog_1/Dog_1_interictal_segment_0387.mat',\n",
       "       './data/Dog_1/Dog_1/Dog_1_interictal_segment_0478.mat',\n",
       "       './data/Dog_1/Dog_1/Dog_1_interictal_segment_0454.mat',\n",
       "       './data/Dog_1/Dog_1/Dog_1_interictal_segment_0314.mat',\n",
       "       './data/Dog_1/Dog_1/Dog_1_interictal_segment_0152.mat',\n",
       "       './data/Dog_1/Dog_1/Dog_1_interictal_segment_0437.mat',\n",
       "       './data/Dog_1/Dog_1/Dog_1_interictal_segment_0383.mat',\n",
       "       './data/Dog_1/Dog_1/Dog_1_interictal_segment_0212.mat',\n",
       "       './data/Dog_1/Dog_1/Dog_1_interictal_segment_0085.mat',\n",
       "       './data/Dog_1/Dog_1/Dog_1_interictal_segment_0376.mat',\n",
       "       './data/Dog_1/Dog_1/Dog_1_interictal_segment_0190.mat',\n",
       "       './data/Dog_1/Dog_1/Dog_1_interictal_segment_0107.mat',\n",
       "       './data/Dog_1/Dog_1/Dog_1_interictal_segment_0023.mat',\n",
       "       './data/Dog_1/Dog_1/Dog_1_interictal_segment_0336.mat',\n",
       "       './data/Dog_1/Dog_1/Dog_1_interictal_segment_0093.mat',\n",
       "       './data/Dog_1/Dog_1/Dog_1_interictal_segment_0082.mat',\n",
       "       './data/Dog_1/Dog_1/Dog_1_interictal_segment_0371.mat',\n",
       "       './data/Dog_1/Dog_1/Dog_1_interictal_segment_0339.mat',\n",
       "       './data/Dog_1/Dog_1/Dog_1_interictal_segment_0220.mat',\n",
       "       './data/Dog_1/Dog_1/Dog_1_interictal_segment_0032.mat',\n",
       "       './data/Dog_1/Dog_1/Dog_1_interictal_segment_0252.mat',\n",
       "       './data/Dog_1/Dog_1/Dog_1_interictal_segment_0356.mat',\n",
       "       './data/Dog_1/Dog_1/Dog_1_interictal_segment_0221.mat',\n",
       "       './data/Dog_1/Dog_1/Dog_1_interictal_segment_0385.mat',\n",
       "       './data/Dog_1/Dog_1/Dog_1_interictal_segment_0425.mat',\n",
       "       './data/Dog_1/Dog_1/Dog_1_interictal_segment_0167.mat',\n",
       "       './data/Dog_1/Dog_1/Dog_1_interictal_segment_0215.mat',\n",
       "       './data/Dog_1/Dog_1/Dog_1_interictal_segment_0165.mat',\n",
       "       './data/Dog_1/Dog_1/Dog_1_interictal_segment_0217.mat',\n",
       "       './data/Dog_1/Dog_1/Dog_1_interictal_segment_0160.mat',\n",
       "       './data/Dog_1/Dog_1/Dog_1_interictal_segment_0410.mat',\n",
       "       './data/Dog_1/Dog_1/Dog_1_interictal_segment_0479.mat',\n",
       "       './data/Dog_1/Dog_1/Dog_1_interictal_segment_0381.mat',\n",
       "       './data/Dog_1/Dog_1/Dog_1_interictal_segment_0079.mat',\n",
       "       './data/Dog_1/Dog_1/Dog_1_interictal_segment_0177.mat',\n",
       "       './data/Dog_1/Dog_1/Dog_1_interictal_segment_0001.mat',\n",
       "       './data/Dog_1/Dog_1/Dog_1_interictal_segment_0378.mat',\n",
       "       './data/Dog_1/Dog_1/Dog_1_interictal_segment_0379.mat',\n",
       "       './data/Dog_1/Dog_1/Dog_1_interictal_segment_0208.mat',\n",
       "       './data/Dog_1/Dog_1/Dog_1_interictal_segment_0049.mat',\n",
       "       './data/Dog_1/Dog_1/Dog_1_interictal_segment_0019.mat',\n",
       "       './data/Dog_1/Dog_1/Dog_1_interictal_segment_0185.mat',\n",
       "       './data/Dog_1/Dog_1/Dog_1_interictal_segment_0041.mat',\n",
       "       './data/Dog_1/Dog_1/Dog_1_interictal_segment_0042.mat',\n",
       "       './data/Dog_1/Dog_1/Dog_1_interictal_segment_0101.mat',\n",
       "       './data/Dog_1/Dog_1/Dog_1_interictal_segment_0025.mat',\n",
       "       './data/Dog_1/Dog_1/Dog_1_interictal_segment_0137.mat',\n",
       "       './data/Dog_1/Dog_1/Dog_1_interictal_segment_0188.mat',\n",
       "       './data/Dog_1/Dog_1/Dog_1_interictal_segment_0297.mat',\n",
       "       './data/Dog_1/Dog_1/Dog_1_interictal_segment_0063.mat',\n",
       "       './data/Dog_1/Dog_1/Dog_1_interictal_segment_0024.mat',\n",
       "       './data/Dog_1/Dog_1/Dog_1_interictal_segment_0090.mat',\n",
       "       './data/Dog_1/Dog_1/Dog_1_interictal_segment_0136.mat',\n",
       "       './data/Dog_1/Dog_1/Dog_1_interictal_segment_0315.mat',\n",
       "       './data/Dog_1/Dog_1/Dog_1_interictal_segment_0216.mat',\n",
       "       './data/Dog_1/Dog_1/Dog_1_interictal_segment_0106.mat',\n",
       "       './data/Dog_1/Dog_1/Dog_1_interictal_segment_0424.mat',\n",
       "       './data/Dog_1/Dog_1/Dog_1_interictal_segment_0362.mat',\n",
       "       './data/Dog_1/Dog_1/Dog_1_interictal_segment_0151.mat',\n",
       "       './data/Dog_1/Dog_1/Dog_1_interictal_segment_0344.mat',\n",
       "       './data/Dog_1/Dog_1/Dog_1_interictal_segment_0438.mat',\n",
       "       './data/Dog_1/Dog_1/Dog_1_interictal_segment_0253.mat',\n",
       "       './data/Dog_1/Dog_1/Dog_1_interictal_segment_0073.mat',\n",
       "       './data/Dog_1/Dog_1/Dog_1_interictal_segment_0464.mat',\n",
       "       './data/Dog_1/Dog_1/Dog_1_interictal_segment_0320.mat',\n",
       "       './data/Dog_1/Dog_1/Dog_1_interictal_segment_0022.mat',\n",
       "       './data/Dog_1/Dog_1/Dog_1_interictal_segment_0317.mat',\n",
       "       './data/Dog_1/Dog_1/Dog_1_preictal_segment_0022.mat',\n",
       "       './data/Dog_1/Dog_1/Dog_1_preictal_segment_0024.mat',\n",
       "       './data/Dog_1/Dog_1/Dog_1_preictal_segment_0015.mat',\n",
       "       './data/Dog_1/Dog_1/Dog_1_preictal_segment_0009.mat',\n",
       "       './data/Dog_1/Dog_1/Dog_1_preictal_segment_0019.mat',\n",
       "       './data/Dog_1/Dog_1/Dog_1_preictal_segment_0012.mat',\n",
       "       './data/Dog_1/Dog_1/Dog_1_preictal_segment_0013.mat',\n",
       "       './data/Dog_1/Dog_1/Dog_1_preictal_segment_0010.mat',\n",
       "       './data/Dog_1/Dog_1/Dog_1_preictal_segment_0003.mat',\n",
       "       './data/Dog_1/Dog_1/Dog_1_preictal_segment_0023.mat',\n",
       "       './data/Dog_1/Dog_1/Dog_1_preictal_segment_0021.mat',\n",
       "       './data/Dog_1/Dog_1/Dog_1_preictal_segment_0008.mat',\n",
       "       './data/Dog_1/Dog_1/Dog_1_preictal_segment_0017.mat',\n",
       "       './data/Dog_1/Dog_1/Dog_1_preictal_segment_0007.mat',\n",
       "       './data/Dog_1/Dog_1/Dog_1_preictal_segment_0004.mat',\n",
       "       './data/Dog_1/Dog_1/Dog_1_preictal_segment_0002.mat',\n",
       "       './data/Dog_1/Dog_1/Dog_1_preictal_segment_0011.mat',\n",
       "       './data/Dog_1/Dog_1/Dog_1_preictal_segment_0001.mat',\n",
       "       './data/Dog_1/Dog_1/Dog_1_preictal_segment_0016.mat',\n",
       "       './data/Dog_1/Dog_1/Dog_1_preictal_segment_0018.mat',\n",
       "       './data/Dog_1/Dog_1/Dog_1_preictal_segment_0020.mat',\n",
       "       './data/Dog_1/Dog_1/Dog_1_preictal_segment_0014.mat',\n",
       "       './data/Dog_1/Dog_1/Dog_1_preictal_segment_0006.mat',\n",
       "       './data/Dog_1/Dog_1/Dog_1_preictal_segment_0005.mat'], dtype='<U52')"
      ]
     },
     "execution_count": 23,
     "metadata": {},
     "output_type": "execute_result"
    }
   ],
   "source": [
    "files, path = loader.load_subject('Dog_1')\n",
    "transformer.make_input_matrix(files, path)\n",
    "np.array(transformer.make_input_matrix(files, path))"
   ]
  },
  {
   "cell_type": "code",
   "execution_count": 29,
   "metadata": {},
   "outputs": [
    {
     "data": {
      "application/vnd.jupyter.widget-view+json": {
       "model_id": "8b7612e15ac1405c8a43dbacddb7a539",
       "version_major": 2,
       "version_minor": 0
      },
      "text/plain": [
       "Subject:   0%|          | 0/7 [00:00<?, ?it/s]"
      ]
     },
     "metadata": {},
     "output_type": "display_data"
    },
    {
     "data": {
      "application/vnd.jupyter.widget-view+json": {
       "model_id": "abf300205f7145eea4774a017119e731",
       "version_major": 2,
       "version_minor": 0
      },
      "text/plain": [
       "keep_interictal:   0%|          | 0/1006 [00:00<?, ?it/s]"
      ]
     },
     "metadata": {},
     "output_type": "display_data"
    },
    {
     "data": {
      "application/vnd.jupyter.widget-view+json": {
       "model_id": "2ffa6ffdfb5d4fa2be7eb6fca8a17713",
       "version_major": 2,
       "version_minor": 0
      },
      "text/plain": [
       "keep_preictal:   0%|          | 0/1006 [00:00<?, ?it/s]"
      ]
     },
     "metadata": {},
     "output_type": "display_data"
    },
    {
     "data": {
      "application/vnd.jupyter.widget-view+json": {
       "model_id": "bbd4cf25152f433f89708ab7f1de8f4a",
       "version_major": 2,
       "version_minor": 0
      },
      "text/plain": [
       "keep_interictal:   0%|          | 0/1542 [00:00<?, ?it/s]"
      ]
     },
     "metadata": {},
     "output_type": "display_data"
    },
    {
     "data": {
      "application/vnd.jupyter.widget-view+json": {
       "model_id": "0c791d2091d54b86997dab60434d7bd5",
       "version_major": 2,
       "version_minor": 0
      },
      "text/plain": [
       "keep_preictal:   0%|          | 0/1542 [00:00<?, ?it/s]"
      ]
     },
     "metadata": {},
     "output_type": "display_data"
    },
    {
     "data": {
      "application/vnd.jupyter.widget-view+json": {
       "model_id": "66f0d393b09c47babb1912d5195b522d",
       "version_major": 2,
       "version_minor": 0
      },
      "text/plain": [
       "keep_interictal:   0%|          | 0/2419 [00:00<?, ?it/s]"
      ]
     },
     "metadata": {},
     "output_type": "display_data"
    },
    {
     "data": {
      "application/vnd.jupyter.widget-view+json": {
       "model_id": "a35dc4cb659b4ee4bc0a2fe828480cd8",
       "version_major": 2,
       "version_minor": 0
      },
      "text/plain": [
       "keep_preictal:   0%|          | 0/2419 [00:00<?, ?it/s]"
      ]
     },
     "metadata": {},
     "output_type": "display_data"
    },
    {
     "data": {
      "application/vnd.jupyter.widget-view+json": {
       "model_id": "1b391ada7a23438287aac04d95bb80e3",
       "version_major": 2,
       "version_minor": 0
      },
      "text/plain": [
       "keep_interictal:   0%|          | 0/1891 [00:00<?, ?it/s]"
      ]
     },
     "metadata": {},
     "output_type": "display_data"
    },
    {
     "data": {
      "application/vnd.jupyter.widget-view+json": {
       "model_id": "ac4bc8776ba44eba94a6c63b233596df",
       "version_major": 2,
       "version_minor": 0
      },
      "text/plain": [
       "keep_preictal:   0%|          | 0/1891 [00:00<?, ?it/s]"
      ]
     },
     "metadata": {},
     "output_type": "display_data"
    },
    {
     "data": {
      "application/vnd.jupyter.widget-view+json": {
       "model_id": "2e6254014cbb454694bc1caebe527821",
       "version_major": 2,
       "version_minor": 0
      },
      "text/plain": [
       "keep_interictal:   0%|          | 0/671 [00:00<?, ?it/s]"
      ]
     },
     "metadata": {},
     "output_type": "display_data"
    },
    {
     "data": {
      "application/vnd.jupyter.widget-view+json": {
       "model_id": "4e0544aa39724713a3b72a7145937718",
       "version_major": 2,
       "version_minor": 0
      },
      "text/plain": [
       "keep_preictal:   0%|          | 0/671 [00:00<?, ?it/s]"
      ]
     },
     "metadata": {},
     "output_type": "display_data"
    },
    {
     "data": {
      "application/vnd.jupyter.widget-view+json": {
       "model_id": "7c001f66d36f471998c0c1240255d759",
       "version_major": 2,
       "version_minor": 0
      },
      "text/plain": [
       "keep_interictal:   0%|          | 0/263 [00:00<?, ?it/s]"
      ]
     },
     "metadata": {},
     "output_type": "display_data"
    },
    {
     "data": {
      "application/vnd.jupyter.widget-view+json": {
       "model_id": "0b3db65a20d04683982b8a84073a0b1a",
       "version_major": 2,
       "version_minor": 0
      },
      "text/plain": [
       "keep_preictal:   0%|          | 0/263 [00:00<?, ?it/s]"
      ]
     },
     "metadata": {},
     "output_type": "display_data"
    },
    {
     "data": {
      "application/vnd.jupyter.widget-view+json": {
       "model_id": "84824727607d4215ae6a28853df33978",
       "version_major": 2,
       "version_minor": 0
      },
      "text/plain": [
       "keep_interictal:   0%|          | 0/210 [00:00<?, ?it/s]"
      ]
     },
     "metadata": {},
     "output_type": "display_data"
    },
    {
     "data": {
      "application/vnd.jupyter.widget-view+json": {
       "model_id": "0fa47bf90b114c2aa2a955817ee02e9f",
       "version_major": 2,
       "version_minor": 0
      },
      "text/plain": [
       "keep_preictal:   0%|          | 0/210 [00:00<?, ?it/s]"
      ]
     },
     "metadata": {},
     "output_type": "display_data"
    }
   ],
   "source": [
    "subject_names = ['Dog_1', 'Dog_2', 'Dog_3', 'Dog_4', 'Dog_5', 'Patient_1', 'Patient_2']\n",
    "subject_paths = []\n",
    "arr = []\n",
    "for i in trange(len(subject_names), desc='Subject'):\n",
    "    files, path = loader.load_subject(subject_names[i])\n",
    "    subject_paths.append(path)\n",
    "    x = np.array(transformer.make_input_matrix(files, path))\n",
    "    arr.append(x)\n",
    "X = np.concatenate(arr).ravel()"
   ]
  },
  {
   "cell_type": "code",
   "execution_count": 30,
   "metadata": {},
   "outputs": [
    {
     "data": {
      "text/plain": [
       "7"
      ]
     },
     "execution_count": 30,
     "metadata": {},
     "output_type": "execute_result"
    }
   ],
   "source": [
    "len(arr)"
   ]
  },
  {
   "cell_type": "code",
   "execution_count": 31,
   "metadata": {},
   "outputs": [
    {
     "data": {
      "text/plain": [
       "(4067,)"
      ]
     },
     "execution_count": 31,
     "metadata": {},
     "output_type": "execute_result"
    }
   ],
   "source": [
    "X.shape"
   ]
  },
  {
   "cell_type": "code",
   "execution_count": 4,
   "metadata": {},
   "outputs": [
    {
     "data": {
      "application/vnd.jupyter.widget-view+json": {
       "model_id": "9ac8f7484f38457f8cbcff4c120189fc",
       "version_major": 2,
       "version_minor": 0
      },
      "text/plain": [
       "Subject:   0%|          | 0/7 [00:00<?, ?it/s]"
      ]
     },
     "metadata": {},
     "output_type": "display_data"
    },
    {
     "data": {
      "application/vnd.jupyter.widget-view+json": {
       "model_id": "b91bf4a9d78b48e5b7c769b4959eeb8f",
       "version_major": 2,
       "version_minor": 0
      },
      "text/plain": [
       "keep_interictal:   0%|          | 0/1006 [00:00<?, ?it/s]"
      ]
     },
     "metadata": {},
     "output_type": "display_data"
    },
    {
     "data": {
      "application/vnd.jupyter.widget-view+json": {
       "model_id": "590002c3c7094d5e8828aa6398b5297b",
       "version_major": 2,
       "version_minor": 0
      },
      "text/plain": [
       "keep_preictal:   0%|          | 0/1006 [00:00<?, ?it/s]"
      ]
     },
     "metadata": {},
     "output_type": "display_data"
    },
    {
     "data": {
      "application/vnd.jupyter.widget-view+json": {
       "model_id": "40cc8ce6a4fc4b8fb2aede4d384e94ff",
       "version_major": 2,
       "version_minor": 0
      },
      "text/plain": [
       "keep_interictal:   0%|          | 0/1542 [00:00<?, ?it/s]"
      ]
     },
     "metadata": {},
     "output_type": "display_data"
    },
    {
     "data": {
      "application/vnd.jupyter.widget-view+json": {
       "model_id": "d9271d6d300349fa958e5b4e907d160a",
       "version_major": 2,
       "version_minor": 0
      },
      "text/plain": [
       "keep_preictal:   0%|          | 0/1542 [00:00<?, ?it/s]"
      ]
     },
     "metadata": {},
     "output_type": "display_data"
    },
    {
     "data": {
      "application/vnd.jupyter.widget-view+json": {
       "model_id": "a17ca9823f3342108cf6686d3d83425f",
       "version_major": 2,
       "version_minor": 0
      },
      "text/plain": [
       "keep_interictal:   0%|          | 0/2419 [00:00<?, ?it/s]"
      ]
     },
     "metadata": {},
     "output_type": "display_data"
    },
    {
     "data": {
      "application/vnd.jupyter.widget-view+json": {
       "model_id": "d54fae89ec4e491eb1c2f98205a0b0b4",
       "version_major": 2,
       "version_minor": 0
      },
      "text/plain": [
       "keep_preictal:   0%|          | 0/2419 [00:00<?, ?it/s]"
      ]
     },
     "metadata": {},
     "output_type": "display_data"
    },
    {
     "data": {
      "application/vnd.jupyter.widget-view+json": {
       "model_id": "1c8fd711fb0c475d89ca4ab37a9ef120",
       "version_major": 2,
       "version_minor": 0
      },
      "text/plain": [
       "keep_interictal:   0%|          | 0/1891 [00:00<?, ?it/s]"
      ]
     },
     "metadata": {},
     "output_type": "display_data"
    },
    {
     "data": {
      "application/vnd.jupyter.widget-view+json": {
       "model_id": "f80f12e48b8342e180a6957be8d06c2f",
       "version_major": 2,
       "version_minor": 0
      },
      "text/plain": [
       "keep_preictal:   0%|          | 0/1891 [00:00<?, ?it/s]"
      ]
     },
     "metadata": {},
     "output_type": "display_data"
    },
    {
     "data": {
      "application/vnd.jupyter.widget-view+json": {
       "model_id": "4661cced594d4dffbd8ec11f5ddb19d2",
       "version_major": 2,
       "version_minor": 0
      },
      "text/plain": [
       "keep_interictal:   0%|          | 0/671 [00:00<?, ?it/s]"
      ]
     },
     "metadata": {},
     "output_type": "display_data"
    },
    {
     "data": {
      "application/vnd.jupyter.widget-view+json": {
       "model_id": "e1e0da8de61043a18db2571f3d72fe3f",
       "version_major": 2,
       "version_minor": 0
      },
      "text/plain": [
       "keep_preictal:   0%|          | 0/671 [00:00<?, ?it/s]"
      ]
     },
     "metadata": {},
     "output_type": "display_data"
    },
    {
     "data": {
      "application/vnd.jupyter.widget-view+json": {
       "model_id": "4ae3586728f34b31acece71fd4c27168",
       "version_major": 2,
       "version_minor": 0
      },
      "text/plain": [
       "keep_interictal:   0%|          | 0/263 [00:00<?, ?it/s]"
      ]
     },
     "metadata": {},
     "output_type": "display_data"
    },
    {
     "data": {
      "application/vnd.jupyter.widget-view+json": {
       "model_id": "eeca067933304c5ab156597d15dd3d2d",
       "version_major": 2,
       "version_minor": 0
      },
      "text/plain": [
       "keep_preictal:   0%|          | 0/263 [00:00<?, ?it/s]"
      ]
     },
     "metadata": {},
     "output_type": "display_data"
    },
    {
     "data": {
      "application/vnd.jupyter.widget-view+json": {
       "model_id": "348ecc26e41147bb925642f41060c1de",
       "version_major": 2,
       "version_minor": 0
      },
      "text/plain": [
       "keep_interictal:   0%|          | 0/210 [00:00<?, ?it/s]"
      ]
     },
     "metadata": {},
     "output_type": "display_data"
    },
    {
     "data": {
      "application/vnd.jupyter.widget-view+json": {
       "model_id": "542802f36e3e4a92bbdfc8cb7e7c9862",
       "version_major": 2,
       "version_minor": 0
      },
      "text/plain": [
       "keep_preictal:   0%|          | 0/210 [00:00<?, ?it/s]"
      ]
     },
     "metadata": {},
     "output_type": "display_data"
    }
   ],
   "source": [
    "X = transformer.make_input_matrix_all()"
   ]
  },
  {
   "cell_type": "code",
   "execution_count": 7,
   "metadata": {},
   "outputs": [
    {
     "data": {
      "text/plain": [
       "(4067,)"
      ]
     },
     "execution_count": 7,
     "metadata": {},
     "output_type": "execute_result"
    }
   ],
   "source": [
    "X.shape"
   ]
  },
  {
   "cell_type": "code",
   "execution_count": null,
   "metadata": {},
   "outputs": [],
   "source": []
  }
 ],
 "metadata": {
  "kernelspec": {
   "display_name": "Python 3",
   "language": "python",
   "name": "python3"
  },
  "language_info": {
   "codemirror_mode": {
    "name": "ipython",
    "version": 3
   },
   "file_extension": ".py",
   "mimetype": "text/x-python",
   "name": "python",
   "nbconvert_exporter": "python",
   "pygments_lexer": "ipython3",
   "version": "3.9.5"
  }
 },
 "nbformat": 4,
 "nbformat_minor": 4
}
