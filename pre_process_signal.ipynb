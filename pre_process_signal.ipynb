{
 "cells": [
  {
   "cell_type": "code",
   "execution_count": 21,
   "metadata": {},
   "outputs": [],
   "source": [
    "import data_transformer as transformer\n",
    "from sklearn.model_selection import train_test_split\n",
    "from tqdm.auto import trange\n",
    "from scipy.io import loadmat\n",
    "import numpy as np\n",
    "import matplotlib.pyplot as plt"
   ]
  },
  {
   "cell_type": "code",
   "execution_count": 2,
   "metadata": {},
   "outputs": [
    {
     "data": {
      "application/vnd.jupyter.widget-view+json": {
       "model_id": "f34f609cf5c04bd2a021f31aecf1fb4b",
       "version_major": 2,
       "version_minor": 0
      },
      "text/plain": [
       "Subject:   0%|          | 0/7 [00:00<?, ?it/s]"
      ]
     },
     "metadata": {},
     "output_type": "display_data"
    },
    {
     "data": {
      "application/vnd.jupyter.widget-view+json": {
       "model_id": "95273c0748ca4b4d8c835af5a0984b9d",
       "version_major": 2,
       "version_minor": 0
      },
      "text/plain": [
       "keep_interictal:   0%|          | 0/1006 [00:00<?, ?it/s]"
      ]
     },
     "metadata": {},
     "output_type": "display_data"
    },
    {
     "data": {
      "application/vnd.jupyter.widget-view+json": {
       "model_id": "177ec38f8a8e4e98bdeefcf1553c6718",
       "version_major": 2,
       "version_minor": 0
      },
      "text/plain": [
       "keep_preictal:   0%|          | 0/1006 [00:00<?, ?it/s]"
      ]
     },
     "metadata": {},
     "output_type": "display_data"
    },
    {
     "data": {
      "application/vnd.jupyter.widget-view+json": {
       "model_id": "4c783d9384724589a07f4bbfa2fb4c9b",
       "version_major": 2,
       "version_minor": 0
      },
      "text/plain": [
       "keep_interictal:   0%|          | 0/1542 [00:00<?, ?it/s]"
      ]
     },
     "metadata": {},
     "output_type": "display_data"
    },
    {
     "data": {
      "application/vnd.jupyter.widget-view+json": {
       "model_id": "7975ea960a494cfa82e1592a90ebf8a7",
       "version_major": 2,
       "version_minor": 0
      },
      "text/plain": [
       "keep_preictal:   0%|          | 0/1542 [00:00<?, ?it/s]"
      ]
     },
     "metadata": {},
     "output_type": "display_data"
    },
    {
     "data": {
      "application/vnd.jupyter.widget-view+json": {
       "model_id": "91badc42417e4b44b81e7258fe46e050",
       "version_major": 2,
       "version_minor": 0
      },
      "text/plain": [
       "keep_interictal:   0%|          | 0/2419 [00:00<?, ?it/s]"
      ]
     },
     "metadata": {},
     "output_type": "display_data"
    },
    {
     "data": {
      "application/vnd.jupyter.widget-view+json": {
       "model_id": "7e2dc4fb5a6c49709f66ec34aca68481",
       "version_major": 2,
       "version_minor": 0
      },
      "text/plain": [
       "keep_preictal:   0%|          | 0/2419 [00:00<?, ?it/s]"
      ]
     },
     "metadata": {},
     "output_type": "display_data"
    },
    {
     "data": {
      "application/vnd.jupyter.widget-view+json": {
       "model_id": "8deb7ef3f8d647b99c85e08efa50922c",
       "version_major": 2,
       "version_minor": 0
      },
      "text/plain": [
       "keep_interictal:   0%|          | 0/1891 [00:00<?, ?it/s]"
      ]
     },
     "metadata": {},
     "output_type": "display_data"
    },
    {
     "data": {
      "application/vnd.jupyter.widget-view+json": {
       "model_id": "3f0b3b6c34224ff4aa878daed5e6e730",
       "version_major": 2,
       "version_minor": 0
      },
      "text/plain": [
       "keep_preictal:   0%|          | 0/1891 [00:00<?, ?it/s]"
      ]
     },
     "metadata": {},
     "output_type": "display_data"
    },
    {
     "data": {
      "application/vnd.jupyter.widget-view+json": {
       "model_id": "057d9ceae063411ba124c593dac46c68",
       "version_major": 2,
       "version_minor": 0
      },
      "text/plain": [
       "keep_interictal:   0%|          | 0/671 [00:00<?, ?it/s]"
      ]
     },
     "metadata": {},
     "output_type": "display_data"
    },
    {
     "data": {
      "application/vnd.jupyter.widget-view+json": {
       "model_id": "53ff37ccab554c83afa451d61f9d20fb",
       "version_major": 2,
       "version_minor": 0
      },
      "text/plain": [
       "keep_preictal:   0%|          | 0/671 [00:00<?, ?it/s]"
      ]
     },
     "metadata": {},
     "output_type": "display_data"
    },
    {
     "data": {
      "application/vnd.jupyter.widget-view+json": {
       "model_id": "89781c53495f472cbdc56c5266fb7f60",
       "version_major": 2,
       "version_minor": 0
      },
      "text/plain": [
       "keep_interictal:   0%|          | 0/263 [00:00<?, ?it/s]"
      ]
     },
     "metadata": {},
     "output_type": "display_data"
    },
    {
     "data": {
      "application/vnd.jupyter.widget-view+json": {
       "model_id": "f1c07205816b4d3fb42cc8383ca09dae",
       "version_major": 2,
       "version_minor": 0
      },
      "text/plain": [
       "keep_preictal:   0%|          | 0/263 [00:00<?, ?it/s]"
      ]
     },
     "metadata": {},
     "output_type": "display_data"
    },
    {
     "data": {
      "application/vnd.jupyter.widget-view+json": {
       "model_id": "c654937eb8fd4e19a02ee4af2ab22a99",
       "version_major": 2,
       "version_minor": 0
      },
      "text/plain": [
       "keep_interictal:   0%|          | 0/210 [00:00<?, ?it/s]"
      ]
     },
     "metadata": {},
     "output_type": "display_data"
    },
    {
     "data": {
      "application/vnd.jupyter.widget-view+json": {
       "model_id": "9f6dc5c386a34c349d1813634b5ab8b9",
       "version_major": 2,
       "version_minor": 0
      },
      "text/plain": [
       "keep_preictal:   0%|          | 0/210 [00:00<?, ?it/s]"
      ]
     },
     "metadata": {},
     "output_type": "display_data"
    }
   ],
   "source": [
    "X, y = transformer.make_input_target()"
   ]
  },
  {
   "cell_type": "code",
   "execution_count": 4,
   "metadata": {},
   "outputs": [],
   "source": [
    "X_train, X_val, y_train, y_val = train_test_split(X, y, test_size=0.33, random_state=42)"
   ]
  },
  {
   "cell_type": "code",
   "execution_count": 5,
   "metadata": {},
   "outputs": [
    {
     "name": "stdout",
     "output_type": "stream",
     "text": [
      "Training: (2724,) (2724,)\n",
      "Validation: (1343,) (1343,)\n"
     ]
    }
   ],
   "source": [
    "print('Training:', X_train.shape, y_train.shape)\n",
    "print('Validation:', X_val.shape, y_val.shape)"
   ]
  },
  {
   "cell_type": "code",
   "execution_count": 8,
   "metadata": {},
   "outputs": [
    {
     "data": {
      "application/vnd.jupyter.widget-view+json": {
       "model_id": "9f861a15d7534486b1c096dd7459d7b4",
       "version_major": 2,
       "version_minor": 0
      },
      "text/plain": [
       "loadmat:   0%|          | 0/2724 [00:00<?, ?it/s]"
      ]
     },
     "metadata": {},
     "output_type": "display_data"
    }
   ],
   "source": [
    "X_train_mat = []\n",
    "for i in trange(len(X_train), desc='loadmat'):\n",
    "    path = X_train[i]\n",
    "    mat = loadmat(path)\n",
    "    X_train_mat.append(mat)"
   ]
  },
  {
   "cell_type": "code",
   "execution_count": 11,
   "metadata": {},
   "outputs": [],
   "source": [
    "def get_sig(mat):\n",
    "    segment_name = list(mat.keys())[-1]\n",
    "    segment = mat[segment_name]\n",
    "    sig = segment['data'][0][0]\n",
    "    return sig"
   ]
  },
  {
   "cell_type": "code",
   "execution_count": 17,
   "metadata": {},
   "outputs": [],
   "source": [
    "def plot_eeg(mat, size_horizontal=8, size_vertical=4):\n",
    "    segment_name = list(mat.keys())[-1]\n",
    "    segment = mat[segment_name]\n",
    "    sig = segment['data'][0][0]\n",
    "    ch = segment['channels'][0][0][0]\n",
    "    N = sig.shape[1]\n",
    "    fs = segment['sampling_frequency'][0][0][0][0]\n",
    "    t = np.arange(0, N) / fs\n",
    "    vspace = 1500\n",
    "    bases = vspace * np.arange(ch.shape[0])\n",
    "    EEG = sig.T + bases\n",
    "    plt.figure(figsize=(size_horizontal, size_vertical))\n",
    "    plt.plot(t, EEG, color='k')\n",
    "    plt.gca().yaxis.set_ticks(bases)\n",
    "    plt.gca().yaxis.set_ticklabels(ch)\n",
    "    plt.xlabel('Time (s)')\n",
    "    plt.tight_layout()"
   ]
  },
  {
   "cell_type": "code",
   "execution_count": 14,
   "metadata": {},
   "outputs": [
    {
     "name": "stdout",
     "output_type": "stream",
     "text": [
      "./data/Dog_5/Dog_5/Dog_5_interictal_segment_0280.mat\n"
     ]
    },
    {
     "data": {
      "text/plain": [
       "(15, 239766)"
      ]
     },
     "execution_count": 14,
     "metadata": {},
     "output_type": "execute_result"
    }
   ],
   "source": [
    "print(X_train[0])\n",
    "get_sig(X_train_mat[0]).shape"
   ]
  },
  {
   "cell_type": "markdown",
   "metadata": {},
   "source": [
    "The raw data here is the signal, which is a $(15 \\times 239766)$ matrix representing a 10 min EEG recording for Dog 5. We will call this a data segment matrix. This data segment matrix is a collection of vectors holding micro-voltages recorded from each of the 15 electrodes. A preview is shown below."
   ]
  },
  {
   "cell_type": "code",
   "execution_count": 15,
   "metadata": {},
   "outputs": [
    {
     "data": {
      "text/plain": [
       "array([[ 60,  12,  60, ...,   2, -19,  30],\n",
       "       [-33,  20, -36, ..., -47,  29, -18],\n",
       "       [ 14,  14,  -3, ...,  12,  34,  16],\n",
       "       ...,\n",
       "       [-16,  58, -12, ..., -35,  28, -29],\n",
       "       [-13,  -7,  27, ...,  29, -10,  -6],\n",
       "       [-35,  -5, -15, ...,   1,  24,  28]], dtype=int16)"
      ]
     },
     "execution_count": 15,
     "metadata": {},
     "output_type": "execute_result"
    }
   ],
   "source": [
    "get_sig(X_train_mat[0])"
   ]
  },
  {
   "cell_type": "markdown",
   "metadata": {},
   "source": [
    "Further, we can also visualise this segment."
   ]
  },
  {
   "cell_type": "code",
   "execution_count": 22,
   "metadata": {},
   "outputs": [
    {
     "data": {
      "image/png": "[encoded data removed]",
      "text/plain": [
       "<Figure size 576x288 with 1 Axes>"
      ]
     },
     "metadata": {
      "needs_background": "light"
     },
     "output_type": "display_data"
    }
   ],
   "source": [
    "plot_eeg(X_train_mat[0])"
   ]
  },
  {
   "cell_type": "markdown",
   "metadata": {},
   "source": [
    "Due to the high dimension of the data, the learning algorithm will suffer from the curse of dimensionality. This curse can be broken with feature extraction and dimensionality reduction. \n",
    "\n",
    "The benefit of breaking the curse is that the accuracy of the learning algorithm will be increased and training time will decrease.\n",
    "\n",
    "Since we have ~100GB+ data, a shorter training time is preferable.\n",
    "\n",
    "Thus, our pre-processing step will aim to perform feature extraction so dimensionality of data can be reduced."
   ]
  },
  {
   "cell_type": "markdown",
   "metadata": {},
   "source": [
    "What forms of EEG signal feature extraction methods are available?\n",
    "\n",
    "Spectral Density Estimation (SDE) is one method of feature extraction. It estimates the power spectral density of a signal from a sequence of time samples. The spectral density characterises the frequency content of the signal.\n",
    "\n",
    "SDE can be done in two ways: non-parametric and parametric. Non-parametric approach estimates the spectrum of the signal generating process without assuming the process has a particular structure. Parametric spectral estimation assumes the signal is modelled by a stationary process.\n",
    "\n",
    "SDE can be performed by applying Fast Fourier Transform (FFT), which breaks the incoming signal into a type of power spectrum known as a periodogram. A periodogram is a non-parametric approach to SDE. \n",
    "\n",
    "Source: [Wikipedia - Spectral density estimation](https://en.wikipedia.org/wiki/Spectral_density_estimation)\n",
    "\n",
    "- Spectral density estimation\n",
    "- Periodogram"
   ]
  },
  {
   "cell_type": "markdown",
   "metadata": {},
   "source": [
    "What form should this data be converted to, so that we can use traditional machine learning algorithms?\n",
    "\n",
    "Literature shows there are two approaches:\n",
    "- Discrete Wavelet Transform (DWT)\n",
    "- Short-Time Fourier Transform (STFT)\n",
    "\n",
    "These preserve time information while extracting frequency information and other EEG features.\n",
    "\n",
    "One goal could be to construct a function that maps a feature vector from the data segment matrix to a correct labelling of the segment.\n",
    "\n",
    "In this case, each EEG channel could be a feature.\n"
   ]
  },
  {
   "cell_type": "code",
   "execution_count": null,
   "metadata": {},
   "outputs": [],
   "source": []
  }
 ],
 "metadata": {
  "kernelspec": {
   "display_name": "Python 3",
   "language": "python",
   "name": "python3"
  },
  "language_info": {
   "codemirror_mode": {
    "name": "ipython",
    "version": 3
   },
   "file_extension": ".py",
   "mimetype": "text/x-python",
   "name": "python",
   "nbconvert_exporter": "python",
   "pygments_lexer": "ipython3",
   "version": "3.9.5"
  }
 },
 "nbformat": 4,
 "nbformat_minor": 4
}
