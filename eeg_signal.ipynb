{
 "cells": [
  {
   "cell_type": "code",
   "execution_count": 1,
   "metadata": {},
   "outputs": [],
   "source": [
    "import data_transformer as transformer"
   ]
  },
  {
   "cell_type": "code",
   "execution_count": 2,
   "metadata": {},
   "outputs": [
    {
     "data": {
      "application/vnd.jupyter.widget-view+json": {
       "model_id": "5f64c8fe19ce458c9ec3fef7c2b73daf",
       "version_major": 2,
       "version_minor": 0
      },
      "text/plain": [
       "Subject:   0%|          | 0/7 [00:00<?, ?it/s]"
      ]
     },
     "metadata": {},
     "output_type": "display_data"
    },
    {
     "data": {
      "application/vnd.jupyter.widget-view+json": {
       "model_id": "281cd5240d5c41b3b1cfc143781600c5",
       "version_major": 2,
       "version_minor": 0
      },
      "text/plain": [
       "keep_interictal:   0%|          | 0/1006 [00:00<?, ?it/s]"
      ]
     },
     "metadata": {},
     "output_type": "display_data"
    },
    {
     "data": {
      "application/vnd.jupyter.widget-view+json": {
       "model_id": "932a1bbb52a048c7920698911413bb33",
       "version_major": 2,
       "version_minor": 0
      },
      "text/plain": [
       "keep_preictal:   0%|          | 0/1006 [00:00<?, ?it/s]"
      ]
     },
     "metadata": {},
     "output_type": "display_data"
    },
    {
     "data": {
      "application/vnd.jupyter.widget-view+json": {
       "model_id": "316aaa7b5822481c9d1d05bfb2d04d42",
       "version_major": 2,
       "version_minor": 0
      },
      "text/plain": [
       "keep_interictal:   0%|          | 0/1542 [00:00<?, ?it/s]"
      ]
     },
     "metadata": {},
     "output_type": "display_data"
    },
    {
     "data": {
      "application/vnd.jupyter.widget-view+json": {
       "model_id": "ef835ca61b3a4d63b7a42bc177865d18",
       "version_major": 2,
       "version_minor": 0
      },
      "text/plain": [
       "keep_preictal:   0%|          | 0/1542 [00:00<?, ?it/s]"
      ]
     },
     "metadata": {},
     "output_type": "display_data"
    },
    {
     "data": {
      "application/vnd.jupyter.widget-view+json": {
       "model_id": "e23539e7da4444cc982c68d9cffff542",
       "version_major": 2,
       "version_minor": 0
      },
      "text/plain": [
       "keep_interictal:   0%|          | 0/2419 [00:00<?, ?it/s]"
      ]
     },
     "metadata": {},
     "output_type": "display_data"
    },
    {
     "data": {
      "application/vnd.jupyter.widget-view+json": {
       "model_id": "f7c8fdf8410e4db4a2a75492ad81c350",
       "version_major": 2,
       "version_minor": 0
      },
      "text/plain": [
       "keep_preictal:   0%|          | 0/2419 [00:00<?, ?it/s]"
      ]
     },
     "metadata": {},
     "output_type": "display_data"
    },
    {
     "data": {
      "application/vnd.jupyter.widget-view+json": {
       "model_id": "9cc22864556a422ea833e4ca37dffa5f",
       "version_major": 2,
       "version_minor": 0
      },
      "text/plain": [
       "keep_interictal:   0%|          | 0/1891 [00:00<?, ?it/s]"
      ]
     },
     "metadata": {},
     "output_type": "display_data"
    },
    {
     "data": {
      "application/vnd.jupyter.widget-view+json": {
       "model_id": "05e3ea2e46eb45c99e50783bf55d6e89",
       "version_major": 2,
       "version_minor": 0
      },
      "text/plain": [
       "keep_preictal:   0%|          | 0/1891 [00:00<?, ?it/s]"
      ]
     },
     "metadata": {},
     "output_type": "display_data"
    },
    {
     "data": {
      "application/vnd.jupyter.widget-view+json": {
       "model_id": "88be1c14a3204f05ba8c2bdb38a94cb7",
       "version_major": 2,
       "version_minor": 0
      },
      "text/plain": [
       "keep_interictal:   0%|          | 0/671 [00:00<?, ?it/s]"
      ]
     },
     "metadata": {},
     "output_type": "display_data"
    },
    {
     "data": {
      "application/vnd.jupyter.widget-view+json": {
       "model_id": "9ea20a4b88034294afd42f5ca76c1983",
       "version_major": 2,
       "version_minor": 0
      },
      "text/plain": [
       "keep_preictal:   0%|          | 0/671 [00:00<?, ?it/s]"
      ]
     },
     "metadata": {},
     "output_type": "display_data"
    },
    {
     "data": {
      "application/vnd.jupyter.widget-view+json": {
       "model_id": "d8128a1744444e2781f019291139cd87",
       "version_major": 2,
       "version_minor": 0
      },
      "text/plain": [
       "keep_interictal:   0%|          | 0/263 [00:00<?, ?it/s]"
      ]
     },
     "metadata": {},
     "output_type": "display_data"
    },
    {
     "data": {
      "application/vnd.jupyter.widget-view+json": {
       "model_id": "5fb0edad98a84061990ab0a96ddbde55",
       "version_major": 2,
       "version_minor": 0
      },
      "text/plain": [
       "keep_preictal:   0%|          | 0/263 [00:00<?, ?it/s]"
      ]
     },
     "metadata": {},
     "output_type": "display_data"
    },
    {
     "data": {
      "application/vnd.jupyter.widget-view+json": {
       "model_id": "1ce799c979a542068aa49efda91b9d9f",
       "version_major": 2,
       "version_minor": 0
      },
      "text/plain": [
       "keep_interictal:   0%|          | 0/210 [00:00<?, ?it/s]"
      ]
     },
     "metadata": {},
     "output_type": "display_data"
    },
    {
     "data": {
      "application/vnd.jupyter.widget-view+json": {
       "model_id": "93da1e46592743e6bfe33dbd5c482b48",
       "version_major": 2,
       "version_minor": 0
      },
      "text/plain": [
       "keep_preictal:   0%|          | 0/210 [00:00<?, ?it/s]"
      ]
     },
     "metadata": {},
     "output_type": "display_data"
    }
   ],
   "source": [
    "X, y = transformer.make_input_target()"
   ]
  },
  {
   "cell_type": "code",
   "execution_count": 3,
   "metadata": {},
   "outputs": [
    {
     "name": "stdout",
     "output_type": "stream",
     "text": [
      "(4067,)\n",
      "(4067,)\n"
     ]
    }
   ],
   "source": [
    "print(X.shape)\n",
    "print(y.shape)"
   ]
  },
  {
   "cell_type": "code",
   "execution_count": 4,
   "metadata": {},
   "outputs": [],
   "source": [
    "from sklearn.model_selection import train_test_split"
   ]
  },
  {
   "cell_type": "code",
   "execution_count": 5,
   "metadata": {},
   "outputs": [],
   "source": [
    "X_train, X_val, y_train, y_val = train_test_split(X, y, test_size=0.33, random_state=42)"
   ]
  },
  {
   "cell_type": "code",
   "execution_count": 6,
   "metadata": {},
   "outputs": [
    {
     "name": "stdout",
     "output_type": "stream",
     "text": [
      "Training: (2724,) (2724,)\n",
      "Validation: (1343,) (1343,)\n"
     ]
    }
   ],
   "source": [
    "print('Training:', X_train.shape, y_train.shape)\n",
    "print('Validation:', X_val.shape, y_val.shape)"
   ]
  },
  {
   "cell_type": "code",
   "execution_count": 7,
   "metadata": {},
   "outputs": [
    {
     "name": "stdout",
     "output_type": "stream",
     "text": [
      "./data/Dog_5/Dog_5/Dog_5_interictal_segment_0280.mat 0\n"
     ]
    }
   ],
   "source": [
    "print(X_train[0], y_train[0])"
   ]
  },
  {
   "cell_type": "code",
   "execution_count": 8,
   "metadata": {},
   "outputs": [
    {
     "data": {
      "text/plain": [
       "{0, 1}"
      ]
     },
     "execution_count": 8,
     "metadata": {},
     "output_type": "execute_result"
    }
   ],
   "source": [
    "set(y_train)"
   ]
  },
  {
   "cell_type": "code",
   "execution_count": 9,
   "metadata": {},
   "outputs": [],
   "source": [
    "from scipy.io import loadmat"
   ]
  },
  {
   "cell_type": "code",
   "execution_count": 10,
   "metadata": {},
   "outputs": [
    {
     "data": {
      "text/plain": [
       "{'__header__': b'MATLAB 5.0 MAT-file, Platform: MACI64, Created on: Thu Aug 21 01:00:00 2014',\n",
       " '__version__': '1.0',\n",
       " '__globals__': [],\n",
       " 'interictal_segment_280': array([[(array([[ 60,  12,  60, ...,   2, -19,  30],\n",
       "                [-33,  20, -36, ..., -47,  29, -18],\n",
       "                [ 14,  14,  -3, ...,  12,  34,  16],\n",
       "                ...,\n",
       "                [-16,  58, -12, ..., -35,  28, -29],\n",
       "                [-13,  -7,  27, ...,  29, -10,  -6],\n",
       "                [-35,  -5, -15, ...,   1,  24,  28]], dtype=int16), array([[600]], dtype=uint16), array([[399.6097561]]), array([[array(['NVC0905_22_004_Ecog_c001'], dtype='<U24'),\n",
       "                 array(['NVC0905_22_004_Ecog_c002'], dtype='<U24'),\n",
       "                 array(['NVC0905_22_004_Ecog_c003'], dtype='<U24'),\n",
       "                 array(['NVC0905_22_004_Ecog_c005'], dtype='<U24'),\n",
       "                 array(['NVC0905_22_004_Ecog_c006'], dtype='<U24'),\n",
       "                 array(['NVC0905_22_004_Ecog_c007'], dtype='<U24'),\n",
       "                 array(['NVC0905_22_004_Ecog_c008'], dtype='<U24'),\n",
       "                 array(['NVC0905_22_004_Ecog_c009'], dtype='<U24'),\n",
       "                 array(['NVC0905_22_004_Ecog_c010'], dtype='<U24'),\n",
       "                 array(['NVC0905_22_004_Ecog_c011'], dtype='<U24'),\n",
       "                 array(['NVC0905_22_004_Ecog_c012'], dtype='<U24'),\n",
       "                 array(['NVC0905_22_004_Ecog_c013'], dtype='<U24'),\n",
       "                 array(['NVC0905_22_004_Ecog_c014'], dtype='<U24'),\n",
       "                 array(['NVC0905_22_004_Ecog_c015'], dtype='<U24'),\n",
       "                 array(['NVC0905_22_004_Ecog_c016'], dtype='<U24')]], dtype=object), array([[4]], dtype=uint8))                                                                     ]],\n",
       "       dtype=[('data', 'O'), ('data_length_sec', 'O'), ('sampling_frequency', 'O'), ('channels', 'O'), ('sequence', 'O')])}"
      ]
     },
     "execution_count": 10,
     "metadata": {},
     "output_type": "execute_result"
    }
   ],
   "source": [
    "mat = loadmat(X_train[0])\n",
    "mat"
   ]
  },
  {
   "cell_type": "code",
   "execution_count": 11,
   "metadata": {},
   "outputs": [
    {
     "data": {
      "text/plain": [
       "(15, 239766)"
      ]
     },
     "execution_count": 11,
     "metadata": {},
     "output_type": "execute_result"
    }
   ],
   "source": [
    "segment_name = list(mat.keys())[-1]\n",
    "seg = mat[segment_name]\n",
    "seg['data'][0][0].shape"
   ]
  },
  {
   "cell_type": "code",
   "execution_count": 12,
   "metadata": {},
   "outputs": [
    {
     "data": {
      "text/plain": [
       "(15,)"
      ]
     },
     "execution_count": 12,
     "metadata": {},
     "output_type": "execute_result"
    }
   ],
   "source": [
    "seg['channels'][0][0][0].shape"
   ]
  },
  {
   "cell_type": "code",
   "execution_count": 13,
   "metadata": {},
   "outputs": [
    {
     "data": {
      "text/plain": [
       "array([[ 60,  12,  60, ...,   2, -19,  30],\n",
       "       [-33,  20, -36, ..., -47,  29, -18],\n",
       "       [ 14,  14,  -3, ...,  12,  34,  16],\n",
       "       ...,\n",
       "       [-16,  58, -12, ..., -35,  28, -29],\n",
       "       [-13,  -7,  27, ...,  29, -10,  -6],\n",
       "       [-35,  -5, -15, ...,   1,  24,  28]], dtype=int16)"
      ]
     },
     "execution_count": 13,
     "metadata": {},
     "output_type": "execute_result"
    }
   ],
   "source": [
    "seg['data'][0][0]"
   ]
  },
  {
   "cell_type": "markdown",
   "metadata": {},
   "source": [
    "Dimension: (channel x voltage)"
   ]
  },
  {
   "cell_type": "code",
   "execution_count": 14,
   "metadata": {},
   "outputs": [],
   "source": [
    "def get_sig(mat):\n",
    "    segment_name = list(mat.keys())[-1]\n",
    "    segment = mat[segment_name]\n",
    "    sig = segment['data'][0][0]\n",
    "    return sig"
   ]
  },
  {
   "cell_type": "code",
   "execution_count": 20,
   "metadata": {},
   "outputs": [],
   "source": [
    "def get_channels(mat):\n",
    "    segment_name = list(mat.keys())[-1]\n",
    "    segment = mat[segment_name]\n",
    "    channels = seg['channels'][0][0][0]\n",
    "    return channels"
   ]
  },
  {
   "cell_type": "code",
   "execution_count": 26,
   "metadata": {},
   "outputs": [],
   "source": [
    "def get_fs(mat):\n",
    "    \"Returns the sampling frequency.\"\n",
    "    segment_name = list(mat.keys())[-1]\n",
    "    segment = mat[segment_name]\n",
    "    fs = segment['sampling_frequency'][0][0][0][0]\n",
    "    return fs"
   ]
  },
  {
   "cell_type": "code",
   "execution_count": 15,
   "metadata": {},
   "outputs": [],
   "source": [
    "from tqdm.auto import trange"
   ]
  },
  {
   "cell_type": "code",
   "execution_count": 16,
   "metadata": {},
   "outputs": [
    {
     "data": {
      "application/vnd.jupyter.widget-view+json": {
       "model_id": "13fc9f12bda44922919c767a086dd9cc",
       "version_major": 2,
       "version_minor": 0
      },
      "text/plain": [
       "get_sig:   0%|          | 0/2724 [00:00<?, ?it/s]"
      ]
     },
     "metadata": {},
     "output_type": "display_data"
    }
   ],
   "source": [
    "X_train_mat = []\n",
    "for i in trange(len(X_train), desc='get_sig'):\n",
    "    path = X_train[i]\n",
    "    mat = loadmat(path)\n",
    "    X_train_mat.append(mat)"
   ]
  },
  {
   "cell_type": "code",
   "execution_count": 18,
   "metadata": {},
   "outputs": [
    {
     "data": {
      "text/plain": [
       "{'__header__': b'MATLAB 5.0 MAT-file, Platform: MACI64, Created on: Thu Aug 21 01:00:00 2014',\n",
       " '__version__': '1.0',\n",
       " '__globals__': [],\n",
       " 'interictal_segment_280': array([[(array([[ 60,  12,  60, ...,   2, -19,  30],\n",
       "                [-33,  20, -36, ..., -47,  29, -18],\n",
       "                [ 14,  14,  -3, ...,  12,  34,  16],\n",
       "                ...,\n",
       "                [-16,  58, -12, ..., -35,  28, -29],\n",
       "                [-13,  -7,  27, ...,  29, -10,  -6],\n",
       "                [-35,  -5, -15, ...,   1,  24,  28]], dtype=int16), array([[600]], dtype=uint16), array([[399.6097561]]), array([[array(['NVC0905_22_004_Ecog_c001'], dtype='<U24'),\n",
       "                 array(['NVC0905_22_004_Ecog_c002'], dtype='<U24'),\n",
       "                 array(['NVC0905_22_004_Ecog_c003'], dtype='<U24'),\n",
       "                 array(['NVC0905_22_004_Ecog_c005'], dtype='<U24'),\n",
       "                 array(['NVC0905_22_004_Ecog_c006'], dtype='<U24'),\n",
       "                 array(['NVC0905_22_004_Ecog_c007'], dtype='<U24'),\n",
       "                 array(['NVC0905_22_004_Ecog_c008'], dtype='<U24'),\n",
       "                 array(['NVC0905_22_004_Ecog_c009'], dtype='<U24'),\n",
       "                 array(['NVC0905_22_004_Ecog_c010'], dtype='<U24'),\n",
       "                 array(['NVC0905_22_004_Ecog_c011'], dtype='<U24'),\n",
       "                 array(['NVC0905_22_004_Ecog_c012'], dtype='<U24'),\n",
       "                 array(['NVC0905_22_004_Ecog_c013'], dtype='<U24'),\n",
       "                 array(['NVC0905_22_004_Ecog_c014'], dtype='<U24'),\n",
       "                 array(['NVC0905_22_004_Ecog_c015'], dtype='<U24'),\n",
       "                 array(['NVC0905_22_004_Ecog_c016'], dtype='<U24')]], dtype=object), array([[4]], dtype=uint8))                                                                     ]],\n",
       "       dtype=[('data', 'O'), ('data_length_sec', 'O'), ('sampling_frequency', 'O'), ('channels', 'O'), ('sequence', 'O')])}"
      ]
     },
     "execution_count": 18,
     "metadata": {},
     "output_type": "execute_result"
    }
   ],
   "source": [
    "X_train_mat[0]"
   ]
  },
  {
   "cell_type": "code",
   "execution_count": 19,
   "metadata": {},
   "outputs": [
    {
     "data": {
      "text/plain": [
       "2724"
      ]
     },
     "execution_count": 19,
     "metadata": {},
     "output_type": "execute_result"
    }
   ],
   "source": [
    "len(X_train_mat)"
   ]
  },
  {
   "cell_type": "code",
   "execution_count": 22,
   "metadata": {},
   "outputs": [
    {
     "data": {
      "text/plain": [
       "(15,)"
      ]
     },
     "execution_count": 22,
     "metadata": {},
     "output_type": "execute_result"
    }
   ],
   "source": [
    "get_channels(X_train_mat[0]).shape"
   ]
  },
  {
   "cell_type": "code",
   "execution_count": 24,
   "metadata": {},
   "outputs": [
    {
     "data": {
      "text/plain": [
       "(15, 239766)"
      ]
     },
     "execution_count": 24,
     "metadata": {},
     "output_type": "execute_result"
    }
   ],
   "source": [
    "get_sig(X_train_mat[0]).shape"
   ]
  },
  {
   "cell_type": "code",
   "execution_count": 28,
   "metadata": {},
   "outputs": [],
   "source": [
    "fs = get_fs(X_train_mat[0])"
   ]
  },
  {
   "cell_type": "code",
   "execution_count": 29,
   "metadata": {},
   "outputs": [],
   "source": [
    "import numpy as np"
   ]
  },
  {
   "cell_type": "code",
   "execution_count": 30,
   "metadata": {},
   "outputs": [],
   "source": [
    "N = get_sig(X_train_mat[0]).shape[1]\n",
    "t = np.arange(0, N) / fs"
   ]
  },
  {
   "cell_type": "code",
   "execution_count": 31,
   "metadata": {},
   "outputs": [],
   "source": [
    "import matplotlib.pyplot as plt"
   ]
  },
  {
   "cell_type": "code",
   "execution_count": 42,
   "metadata": {},
   "outputs": [
    {
     "data": {
      "text/plain": [
       "(239766,)"
      ]
     },
     "execution_count": 42,
     "metadata": {},
     "output_type": "execute_result"
    }
   ],
   "source": [
    "sig = get_sig(X_train_mat[0])\n",
    "sig[14].shape"
   ]
  },
  {
   "cell_type": "markdown",
   "metadata": {},
   "source": [
    "Single channel plot"
   ]
  },
  {
   "cell_type": "code",
   "execution_count": 45,
   "metadata": {
    "scrolled": true
   },
   "outputs": [
    {
     "data": {
      "text/plain": [
       "Text(0, 0.5, '$\\\\mu V$')"
      ]
     },
     "execution_count": 45,
     "metadata": {},
     "output_type": "execute_result"
    },
    {
     "data": {
      "image/png": "[encoded data removed]",
      "text/plain": [
       "<Figure size 432x288 with 1 Axes>"
      ]
     },
     "metadata": {
      "needs_background": "light"
     },
     "output_type": "display_data"
    }
   ],
   "source": [
    "fig, ax = plt.subplots()\n",
    "ax.plot(t, sig[14])\n",
    "ax.set_xlabel('$t$')\n",
    "ax.set_ylabel('$\\mu V$')"
   ]
  },
  {
   "cell_type": "markdown",
   "metadata": {},
   "source": [
    "All channels plot."
   ]
  },
  {
   "cell_type": "code",
   "execution_count": 48,
   "metadata": {},
   "outputs": [
    {
     "data": {
      "text/plain": [
       "Text(21.200000000000003, 0.5, '$\\\\mu V$')"
      ]
     },
     "execution_count": 48,
     "metadata": {},
     "output_type": "execute_result"
    },
    {
     "data": {
      "image/png": "[encoded data removed]",
      "text/plain": [
       "<Figure size 432x288 with 1 Axes>"
      ]
     },
     "metadata": {
      "needs_background": "light"
     },
     "output_type": "display_data"
    }
   ],
   "source": [
    "plt.plot(t, sig.T)\n",
    "ax.set_xlabel('$t$')\n",
    "ax.set_ylabel('$\\mu V$')"
   ]
  },
  {
   "cell_type": "code",
   "execution_count": null,
   "metadata": {},
   "outputs": [],
   "source": []
  }
 ],
 "metadata": {
  "kernelspec": {
   "display_name": "Python 3",
   "language": "python",
   "name": "python3"
  },
  "language_info": {
   "codemirror_mode": {
    "name": "ipython",
    "version": 3
   },
   "file_extension": ".py",
   "mimetype": "text/x-python",
   "name": "python",
   "nbconvert_exporter": "python",
   "pygments_lexer": "ipython3",
   "version": "3.9.5"
  }
 },
 "nbformat": 4,
 "nbformat_minor": 4
}
