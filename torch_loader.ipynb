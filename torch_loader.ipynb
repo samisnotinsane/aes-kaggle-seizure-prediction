{
 "cells": [
  {
   "cell_type": "markdown",
   "metadata": {},
   "source": [
    "## Create Custom Dataset for Dog 1 Files"
   ]
  },
  {
   "cell_type": "code",
   "execution_count": 1,
   "metadata": {},
   "outputs": [],
   "source": [
    "import os\n",
    "import numpy as np\n",
    "from scipy.io import loadmat"
   ]
  },
  {
   "cell_type": "markdown",
   "metadata": {},
   "source": [
    "Create annotation file by using label in filename. So if a file contains interictal, it is 0 and if it contains preictal it is 1. We ignore any files labelled test."
   ]
  },
  {
   "cell_type": "code",
   "execution_count": 2,
   "metadata": {
    "scrolled": true
   },
   "outputs": [],
   "source": [
    "dog_one_files = sorted(os.listdir('data_copy/Dog_1/Dog_1'))\n",
    "dog_one_ffiles = list(filter(lambda f: 'test' not in f, dog_one_files)) # ignore files labelled 'test'"
   ]
  },
  {
   "cell_type": "code",
   "execution_count": 3,
   "metadata": {},
   "outputs": [],
   "source": [
    "def map_label(label):\n",
    "    if label == 'interictal':\n",
    "        return -1\n",
    "    if label == 'preictal':\n",
    "        return 1\n",
    "\n",
    "annotations_dict = {f:map_label(f.split('.')[0].split('_')[2]) for f in dog_one_ffiles}"
   ]
  },
  {
   "cell_type": "code",
   "execution_count": 4,
   "metadata": {},
   "outputs": [],
   "source": [
    "import csv\n",
    "\n",
    "file = open('data_copy/Dog_1/annotations.csv', 'w')\n",
    "writer = csv.writer(file)\n",
    "for key, value in annotations_dict.items():\n",
    "    writer.writerow([key, value])\n",
    "file.close()"
   ]
  },
  {
   "cell_type": "code",
   "execution_count": 5,
   "metadata": {
    "scrolled": true
   },
   "outputs": [
    {
     "name": "stdout",
     "output_type": "stream",
     "text": [
      "Dog_1  annotations.csv\r\n"
     ]
    }
   ],
   "source": [
    "!ls data_copy/Dog_1"
   ]
  },
  {
   "cell_type": "code",
   "execution_count": 6,
   "metadata": {},
   "outputs": [
    {
     "name": "stdout",
     "output_type": "stream",
     "text": [
      "Dog_1_preictal_segment_0015.mat,1\r",
      "\r\n",
      "Dog_1_preictal_segment_0016.mat,1\r",
      "\r\n",
      "Dog_1_preictal_segment_0017.mat,1\r",
      "\r\n",
      "Dog_1_preictal_segment_0018.mat,1\r",
      "\r\n",
      "Dog_1_preictal_segment_0019.mat,1\r",
      "\r\n",
      "Dog_1_preictal_segment_0020.mat,1\r",
      "\r\n",
      "Dog_1_preictal_segment_0021.mat,1\r",
      "\r\n",
      "Dog_1_preictal_segment_0022.mat,1\r",
      "\r\n",
      "Dog_1_preictal_segment_0023.mat,1\r",
      "\r\n",
      "Dog_1_preictal_segment_0024.mat,1\r",
      "\r\n"
     ]
    }
   ],
   "source": [
    "!tail data_copy/Dog_1/annotations.csv"
   ]
  },
  {
   "cell_type": "code",
   "execution_count": 7,
   "metadata": {},
   "outputs": [],
   "source": [
    "from torch.utils.data import Dataset, DataLoader\n",
    "import pandas as pd"
   ]
  },
  {
   "cell_type": "code",
   "execution_count": 8,
   "metadata": {},
   "outputs": [],
   "source": [
    "class EEGTrainDataset(Dataset):\n",
    "    def __init__(self, annotations_file, segment_dir, transform=None, target_transform=None):\n",
    "        self.segment_labels = pd.read_csv(annotations_file)\n",
    "        self.segment_dir = segment_dir\n",
    "        self.transform = transform\n",
    "        self.target_transform = target_transform\n",
    "    \n",
    "    def __len__(self):\n",
    "        return len(self.segment_labels)\n",
    "    \n",
    "    def __getitem__(self, idx):\n",
    "        segment_path = os.path.join(self.segment_dir, self.segment_labels.iloc[idx, 0])\n",
    "        mat = loadmat(segment_path)\n",
    "        segment_name = list(mat.keys())[-1]\n",
    "        segment = mat[segment_name]\n",
    "        signal = segment['data'][0][0]\n",
    "        fs = segment['sampling_frequency'][0][0][0][0]\n",
    "        label = self.segment_labels.iloc[idx, 1]\n",
    "        if self.transform:\n",
    "            signal = self.transform(signal)\n",
    "        if self.target_transform:\n",
    "            label = self.target_transform(label)\n",
    "        return signal, fs, label"
   ]
  },
  {
   "cell_type": "code",
   "execution_count": 9,
   "metadata": {},
   "outputs": [],
   "source": [
    "class EEGTestDataset(Dataset):\n",
    "    def _getfiles(self):\n",
    "        files = sorted(os.listdir(self.segment_dir))\n",
    "        ffiles = list(filter(lambda f: 'test' in f, files))\n",
    "        return ffiles\n",
    "    \n",
    "    def __init__(self, segment_dir, transform=None):\n",
    "        self.segment_dir = segment_dir\n",
    "        self.transform = transform\n",
    "    \n",
    "    def __len__(self):\n",
    "        return len(self._getfiles())\n",
    "    \n",
    "    def __getitem__(self, idx):\n",
    "        files = self._getfiles()\n",
    "        segment_path = os.path.join(self.segment_dir, files[idx])\n",
    "        mat = loadmat(segment_path)\n",
    "        segment_name = list(mat.keys())[-1]\n",
    "        segment = mat[segment_name]\n",
    "        signal = segment['data'][0][0]\n",
    "        fs = segment['sampling_frequency'][0][0][0][0]\n",
    "        channels = segment['channels'][0][0][0]\n",
    "        if self.transform:\n",
    "            signal = self.transform(signal)\n",
    "        return signal, fs"
   ]
  },
  {
   "cell_type": "markdown",
   "metadata": {},
   "source": [
    "## Data preparation with DataLoaders"
   ]
  },
  {
   "cell_type": "code",
   "execution_count": 10,
   "metadata": {},
   "outputs": [],
   "source": [
    "training_data = EEGTrainDataset(\n",
    "    annotations_file='data_copy/Dog_1/annotations.csv',\n",
    "    segment_dir='data_copy/Dog_1/Dog_1'    \n",
    ")\n",
    "\n",
    "train_dataloader = DataLoader(training_data, batch_size=64, shuffle=True)"
   ]
  },
  {
   "cell_type": "code",
   "execution_count": 11,
   "metadata": {},
   "outputs": [],
   "source": [
    "test_data = EEGTestDataset(\n",
    "    segment_dir='data_copy/Dog_1/Dog_1'\n",
    ")\n",
    "\n",
    "test_dataloader = DataLoader(test_data, batch_size=64, shuffle=True)"
   ]
  },
  {
   "cell_type": "markdown",
   "metadata": {},
   "source": [
    "## Iterate through DataLoader"
   ]
  },
  {
   "cell_type": "code",
   "execution_count": 12,
   "metadata": {},
   "outputs": [
    {
     "name": "stdout",
     "output_type": "stream",
     "text": [
      "Feature batch shape: torch.Size([64, 16, 239766])\n",
      "Sampling frequency batch shape: torch.Size([64])\n",
      "Labels batch shape: torch.Size([64])\n"
     ]
    }
   ],
   "source": [
    "train_features, train_fss, train_labels = next(iter(train_dataloader))\n",
    "print(f\"Feature batch shape: {train_features.size()}\")\n",
    "print(f\"Sampling frequency batch shape: {train_fss.size()}\")\n",
    "print(f\"Labels batch shape: {train_labels.size()}\")\n",
    "\n",
    "signal = train_features[0].squeeze()\n",
    "fs = train_fss[0]\n",
    "label = train_labels[0]"
   ]
  },
  {
   "cell_type": "code",
   "execution_count": 13,
   "metadata": {},
   "outputs": [
    {
     "name": "stdout",
     "output_type": "stream",
     "text": [
      "tensor(399.6098, dtype=torch.float64)\n",
      "torch.Size([16, 239766])\n",
      "tensor([[ 12,  29,  29,  ...,   3, -10,  -8],\n",
      "        [ 10,  22,  26,  ..., -42, -53, -48],\n",
      "        [-11, -14, -12,  ...,   5,   9,   3],\n",
      "        ...,\n",
      "        [ -6,   5,  -2,  ...,   8,   2,   4],\n",
      "        [  3,   3,   6,  ...,  20,  24,  19],\n",
      "        [-12, -15, -18,  ...,  19,  22,  24]], dtype=torch.int16)\n",
      "tensor(-1)\n"
     ]
    }
   ],
   "source": [
    "print(fs)\n",
    "print(signal.shape)\n",
    "print(signal)\n",
    "print(label)"
   ]
  },
  {
   "cell_type": "code",
   "execution_count": 14,
   "metadata": {},
   "outputs": [
    {
     "name": "stdout",
     "output_type": "stream",
     "text": [
      "Feature batch shape: torch.Size([64, 16, 239766])\n",
      "Sampling frequency batch shape: torch.Size([64])\n"
     ]
    }
   ],
   "source": [
    "test_features, test_fss = next(iter(test_dataloader))\n",
    "print(f\"Feature batch shape: {test_features.size()}\")\n",
    "print(f\"Sampling frequency batch shape: {test_fss.size()}\")\n",
    "signal = test_features[0].squeeze()\n",
    "fs = test_fss[0]"
   ]
  },
  {
   "cell_type": "code",
   "execution_count": 15,
   "metadata": {
    "scrolled": true
   },
   "outputs": [
    {
     "name": "stdout",
     "output_type": "stream",
     "text": [
      "tensor(399.6098, dtype=torch.float64)\n",
      "torch.Size([16, 239766])\n",
      "tensor([[ -2,   8,  15,  ...,  -1, -12, -11],\n",
      "        [ 34,  17,  11,  ...,  10,  -9, -20],\n",
      "        [ 17,   8,   5,  ..., -16, -27, -26],\n",
      "        ...,\n",
      "        [ -4,   2,  -2,  ...,  -2,  -1,  -1],\n",
      "        [-22, -16,  -5,  ...,  -6,   7,  23],\n",
      "        [-31, -30, -20,  ...,   4,   5,  22]], dtype=torch.int16)\n"
     ]
    }
   ],
   "source": [
    "print(fs)\n",
    "print(signal.shape)\n",
    "print(signal)"
   ]
  },
  {
   "cell_type": "markdown",
   "metadata": {},
   "source": [
    "## Feature Extraction"
   ]
  },
  {
   "cell_type": "code",
   "execution_count": 71,
   "metadata": {},
   "outputs": [],
   "source": [
    "import torch\n",
    "from scipy.fft import fft, rfft, ifft, fftfreq, rfftfreq\n",
    "import matplotlib.pyplot as plt"
   ]
  },
  {
   "cell_type": "code",
   "execution_count": 77,
   "metadata": {},
   "outputs": [
    {
     "name": "stdout",
     "output_type": "stream",
     "text": [
      "399.609756097561\n",
      "(16, 239766)\n",
      "[[ 30  24  14 ... -19 -34 -48]\n",
      " [ -1  14  15 ...  18  13   9]\n",
      " [ -5  -4 -10 ...  16  21  23]\n",
      " ...\n",
      " [-23 -40 -34 ...   7  -8 -11]\n",
      " [-21 -22 -16 ...   1  -3  -4]\n",
      " [-33 -38 -34 ...  16   9  23]]\n",
      "-1\n"
     ]
    }
   ],
   "source": [
    "train_features, train_fss, train_labels = next(iter(train_dataloader))\n",
    "signal = train_features[0].squeeze().numpy()\n",
    "fs = train_fss[0].numpy()\n",
    "label = train_labels[0].numpy()\n",
    "print(fs)\n",
    "print(signal.shape)\n",
    "print(signal)\n",
    "print(label)"
   ]
  },
  {
   "cell_type": "markdown",
   "metadata": {},
   "source": [
    "## Visual inspection"
   ]
  },
  {
   "cell_type": "code",
   "execution_count": 95,
   "metadata": {},
   "outputs": [
    {
     "data": {
      "image/png": "[encoded data removed]",
      "text/plain": [
       "<Figure size 432x288 with 1 Axes>"
      ]
     },
     "metadata": {
      "needs_background": "light"
     },
     "output_type": "display_data"
    }
   ],
   "source": [
    "N = signal.shape[1]\n",
    "t = np.arange(0, N) / fs\n",
    "EEG = signal[0,:]\n",
    "plt.plot(t, EEG, linewidth=0.8) # plotting channel 1\n",
    "plt.xlabel('Time, s')\n",
    "plt.ylabel('Voltage, $\\mu V$')\n",
    "plt.autoscale(tight=True)\n",
    "plt.show()"
   ]
  },
  {
   "cell_type": "code",
   "execution_count": 87,
   "metadata": {},
   "outputs": [
    {
     "data": {
      "text/plain": [
       "(239766,)"
      ]
     },
     "execution_count": 87,
     "metadata": {},
     "output_type": "execute_result"
    }
   ],
   "source": [
    "EEG.shape"
   ]
  },
  {
   "cell_type": "code",
   "execution_count": 91,
   "metadata": {},
   "outputs": [
    {
     "data": {
      "text/plain": [
       "Text(0, 0.5, 'Voltage, $\\\\mu V$')"
      ]
     },
     "execution_count": 91,
     "metadata": {},
     "output_type": "execute_result"
    },
    {
     "data": {
      "image/png": "[encoded data removed]",
      "text/plain": [
       "<Figure size 432x288 with 1 Axes>"
      ]
     },
     "metadata": {
      "needs_background": "light"
     },
     "output_type": "display_data"
    }
   ],
   "source": [
    "plt.plot(t[:25], EEG[:25], 'o-')\n",
    "plt.xlabel('Time, s')\n",
    "plt.ylabel('Voltage, $\\mu V$')"
   ]
  },
  {
   "cell_type": "code",
   "execution_count": 92,
   "metadata": {},
   "outputs": [],
   "source": [
    "x = EEG           # Relabel the data variable\n",
    "dt = t[1] - t[0]  # Define the sampling interval\n",
    "N = x.shape[0]    # Define the total number of data points\n",
    "T = N * dt        # Define the total duration of the data"
   ]
  },
  {
   "cell_type": "code",
   "execution_count": 93,
   "metadata": {},
   "outputs": [
    {
     "name": "stdout",
     "output_type": "stream",
     "text": [
      "mn = -0.037557451848885995\n",
      "vr = 788.3385917734212\n",
      "sd = 28.077367963778606\n"
     ]
    }
   ],
   "source": [
    "mn = x.mean()  # Compute the mean of the data\n",
    "vr = x.var()   # Compute the variance of the data\n",
    "sd = x.std()   # Compute the standard deviation of the data\n",
    "\n",
    "print('mn = ' + str(mn))\n",
    "print('vr = ' + str(vr))\n",
    "print('sd = ' + str(sd))"
   ]
  },
  {
   "cell_type": "code",
   "execution_count": 18,
   "metadata": {},
   "outputs": [
    {
     "data": {
      "text/plain": [
       "tensor([[1, 2],\n",
       "        [3, 4],\n",
       "        [5, 6],\n",
       "        [7, 8]])"
      ]
     },
     "execution_count": 18,
     "metadata": {},
     "output_type": "execute_result"
    }
   ],
   "source": [
    "x = torch.tensor([1,2,3,4,5,6,7,8])\n",
    "\n",
    "# partition into non-overlapping 1 min windows\n",
    "step = 2\n",
    "window_size = 2\n",
    "x.unfold(-1, window_size, step)"
   ]
  },
  {
   "cell_type": "markdown",
   "metadata": {},
   "source": [
    "$f = \\frac{1}{T}$\n",
    "\n",
    "where, $f$ - frequency (Hz), $T$ - time period (s)\n",
    "\n",
    "Thus, $t = \\frac{1}{f} = \\frac{1}{400} = 0.0025$ seconds per sample.\n",
    "\n",
    "In 1 min, there are 60 seconds. If every sample takes 0.0025 seconds, how many samples in 60 seconds?\n",
    "\n",
    "$\\frac{60}{0.0025} = 24000$ samples"
   ]
  },
  {
   "cell_type": "code",
   "execution_count": 19,
   "metadata": {},
   "outputs": [
    {
     "data": {
      "text/plain": [
       "24000.0"
      ]
     },
     "execution_count": 19,
     "metadata": {},
     "output_type": "execute_result"
    }
   ],
   "source": [
    "60/(1/400)"
   ]
  },
  {
   "cell_type": "markdown",
   "metadata": {},
   "source": [
    "As each recording is 10 mins long, there should be 10 lots of 24000 samples:"
   ]
  },
  {
   "cell_type": "code",
   "execution_count": 20,
   "metadata": {},
   "outputs": [
    {
     "data": {
      "text/plain": [
       "9.99025"
      ]
     },
     "execution_count": 20,
     "metadata": {},
     "output_type": "execute_result"
    }
   ],
   "source": [
    "239766/24000"
   ]
  },
  {
   "cell_type": "code",
   "execution_count": 21,
   "metadata": {},
   "outputs": [],
   "source": [
    "# compute number of samples in 1-min\n",
    "window_size = int(torch.round((60 / (1/fs))).item())\n",
    "step_size = window_size # non-overlapping\n",
    "\n",
    "# select a channel\n",
    "ch_signal = signal[0,:]\n",
    "\n",
    "# non-overlapping 1 minute sliding windows\n",
    "one_min_blocks = ch_signal.unfold(-1, window_size, step)"
   ]
  },
  {
   "cell_type": "code",
   "execution_count": 66,
   "metadata": {},
   "outputs": [
    {
     "data": {
      "text/plain": [
       "array([0.00000000e+00, 1.66663785e-02, 3.33327569e-02, ...,\n",
       "       1.99763212e+02, 1.99779878e+02, 1.99796545e+02])"
      ]
     },
     "execution_count": 66,
     "metadata": {},
     "output_type": "execute_result"
    }
   ],
   "source": [
    "# consider the first block\n",
    "b1 = one_min_blocks[0].numpy()\n",
    "\n",
    "# apply Real Fast Fourier Transform (R-FFT)\n",
    "fourier = rfft(b1)\n",
    "n = b1.size\n",
    "timestep = (1/fs).item()\n",
    "\n",
    "# get Real Discrete Fourier Transform (R-DFT) sample frequencies\n",
    "freq = rfftfreq(n, d=timestep)\n",
    "freq"
   ]
  },
  {
   "cell_type": "code",
   "execution_count": 70,
   "metadata": {
    "scrolled": true
   },
   "outputs": [
    {
     "data": {
      "image/png": "[encoded data removed]",
      "text/plain": [
       "<Figure size 432x288 with 1 Axes>"
      ]
     },
     "metadata": {
      "needs_background": "light"
     },
     "output_type": "display_data"
    }
   ],
   "source": [
    "plt.plot(freq, np.abs(fourier))\n",
    "plt.xlabel('Frequency, Hz')\n",
    "plt.ylabel('Fourier Amplitude')\n",
    "plt.show()"
   ]
  },
  {
   "cell_type": "code",
   "execution_count": null,
   "metadata": {},
   "outputs": [],
   "source": []
  }
 ],
 "metadata": {
  "kernelspec": {
   "display_name": "Python 3",
   "language": "python",
   "name": "python3"
  },
  "language_info": {
   "codemirror_mode": {
    "name": "ipython",
    "version": 3
   },
   "file_extension": ".py",
   "mimetype": "text/x-python",
   "name": "python",
   "nbconvert_exporter": "python",
   "pygments_lexer": "ipython3",
   "version": "3.6.13"
  }
 },
 "nbformat": 4,
 "nbformat_minor": 4
}
