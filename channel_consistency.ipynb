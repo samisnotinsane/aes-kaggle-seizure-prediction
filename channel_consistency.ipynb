{
 "cells": [
  {
   "cell_type": "code",
   "execution_count": 1,
   "metadata": {},
   "outputs": [],
   "source": [
    "import data_loader"
   ]
  },
  {
   "cell_type": "code",
   "execution_count": 2,
   "metadata": {
    "scrolled": true
   },
   "outputs": [
    {
     "ename": "FileNotFoundError",
     "evalue": "[Errno 2] No such file or directory: './data/'",
     "output_type": "error",
     "traceback": [
      "\u001b[0;31m---------------------------------------------------------------------------\u001b[0m",
      "\u001b[0;31mFileNotFoundError\u001b[0m                         Traceback (most recent call last)",
      "\u001b[0;32m<ipython-input-2-1343c5b60fb8>\u001b[0m in \u001b[0;36m<module>\u001b[0;34m\u001b[0m\n\u001b[1;32m      1\u001b[0m \u001b[0msubject\u001b[0m \u001b[0;34m=\u001b[0m \u001b[0;34m'Dog_1'\u001b[0m\u001b[0;34m\u001b[0m\u001b[0;34m\u001b[0m\u001b[0m\n\u001b[0;32m----> 2\u001b[0;31m \u001b[0msubject_files\u001b[0m\u001b[0;34m,\u001b[0m \u001b[0mpath\u001b[0m \u001b[0;34m=\u001b[0m \u001b[0mdata_loader\u001b[0m\u001b[0;34m.\u001b[0m\u001b[0mload_subject\u001b[0m\u001b[0;34m(\u001b[0m\u001b[0msubject\u001b[0m\u001b[0;34m)\u001b[0m\u001b[0;34m\u001b[0m\u001b[0;34m\u001b[0m\u001b[0m\n\u001b[0m\u001b[1;32m      3\u001b[0m \u001b[0minterictal\u001b[0m \u001b[0;34m=\u001b[0m \u001b[0mdata_loader\u001b[0m\u001b[0;34m.\u001b[0m\u001b[0mselect_segment\u001b[0m\u001b[0;34m(\u001b[0m\u001b[0msubject_files\u001b[0m\u001b[0;34m,\u001b[0m \u001b[0;34m'interictal'\u001b[0m\u001b[0;34m)\u001b[0m\u001b[0;34m\u001b[0m\u001b[0;34m\u001b[0m\u001b[0m\n\u001b[1;32m      4\u001b[0m \u001b[0mpreictal\u001b[0m \u001b[0;34m=\u001b[0m \u001b[0mdata_loader\u001b[0m\u001b[0;34m.\u001b[0m\u001b[0mselect_segment\u001b[0m\u001b[0;34m(\u001b[0m\u001b[0msubject_files\u001b[0m\u001b[0;34m,\u001b[0m \u001b[0;34m'preictal'\u001b[0m\u001b[0;34m)\u001b[0m\u001b[0;34m\u001b[0m\u001b[0;34m\u001b[0m\u001b[0m\n\u001b[1;32m      5\u001b[0m \u001b[0mall_files\u001b[0m \u001b[0;34m=\u001b[0m \u001b[0minterictal\u001b[0m \u001b[0;34m+\u001b[0m \u001b[0mpreictal\u001b[0m\u001b[0;34m\u001b[0m\u001b[0;34m\u001b[0m\u001b[0m\n",
      "\u001b[0;32m~/Documents/MSc_Project/code.nosync/aes-kaggle-seizure-prediction/data_loader.py\u001b[0m in \u001b[0;36mload_subject\u001b[0;34m(subject_name)\u001b[0m\n\u001b[1;32m      5\u001b[0m \u001b[0;32mdef\u001b[0m \u001b[0mload_subject\u001b[0m\u001b[0;34m(\u001b[0m\u001b[0msubject_name\u001b[0m\u001b[0;34m=\u001b[0m\u001b[0;34m\"Dog_1\"\u001b[0m\u001b[0;34m)\u001b[0m\u001b[0;34m:\u001b[0m\u001b[0;34m\u001b[0m\u001b[0;34m\u001b[0m\u001b[0m\n\u001b[1;32m      6\u001b[0m     \u001b[0mroot\u001b[0m \u001b[0;34m=\u001b[0m \u001b[0;34m'./data/'\u001b[0m\u001b[0;34m\u001b[0m\u001b[0;34m\u001b[0m\u001b[0m\n\u001b[0;32m----> 7\u001b[0;31m     \u001b[0mroot_children\u001b[0m \u001b[0;34m=\u001b[0m \u001b[0mos\u001b[0m\u001b[0;34m.\u001b[0m\u001b[0mlistdir\u001b[0m\u001b[0;34m(\u001b[0m\u001b[0mroot\u001b[0m\u001b[0;34m)\u001b[0m\u001b[0;34m\u001b[0m\u001b[0;34m\u001b[0m\u001b[0m\n\u001b[0m\u001b[1;32m      8\u001b[0m     \u001b[0msubject_idx\u001b[0m \u001b[0;34m=\u001b[0m \u001b[0mroot_children\u001b[0m\u001b[0;34m.\u001b[0m\u001b[0mindex\u001b[0m\u001b[0;34m(\u001b[0m\u001b[0msubject_name\u001b[0m\u001b[0;34m)\u001b[0m\u001b[0;34m\u001b[0m\u001b[0;34m\u001b[0m\u001b[0m\n\u001b[1;32m      9\u001b[0m     \u001b[0msubject_path\u001b[0m \u001b[0;34m=\u001b[0m \u001b[0mos\u001b[0m\u001b[0;34m.\u001b[0m\u001b[0mpath\u001b[0m\u001b[0;34m.\u001b[0m\u001b[0mjoin\u001b[0m\u001b[0;34m(\u001b[0m\u001b[0mroot\u001b[0m\u001b[0;34m,\u001b[0m \u001b[0mroot_children\u001b[0m\u001b[0;34m[\u001b[0m\u001b[0msubject_idx\u001b[0m\u001b[0;34m]\u001b[0m\u001b[0;34m)\u001b[0m\u001b[0;34m\u001b[0m\u001b[0;34m\u001b[0m\u001b[0m\n",
      "\u001b[0;31mFileNotFoundError\u001b[0m: [Errno 2] No such file or directory: './data/'"
     ]
    }
   ],
   "source": [
    "subject = 'Dog_1'\n",
    "subject_files, path = data_loader.load_subject(subject)\n",
    "interictal = data_loader.select_segment(subject_files, 'interictal')\n",
    "preictal = data_loader.select_segment(subject_files, 'preictal')\n",
    "all_files = interictal + preictal\n",
    "len(all_files)"
   ]
  },
  {
   "cell_type": "code",
   "execution_count": 3,
   "metadata": {
    "scrolled": true
   },
   "outputs": [
    {
     "data": {
      "text/plain": [
       "'./data/Dog_1/Dog_1/Dog_1_interictal_segment_0210.mat'"
      ]
     },
     "execution_count": 3,
     "metadata": {},
     "output_type": "execute_result"
    }
   ],
   "source": [
    "path + '/' + all_files[0]"
   ]
  },
  {
   "cell_type": "code",
   "execution_count": 4,
   "metadata": {},
   "outputs": [],
   "source": [
    "from scipy.io import loadmat"
   ]
  },
  {
   "cell_type": "code",
   "execution_count": 5,
   "metadata": {},
   "outputs": [
    {
     "data": {
      "text/plain": [
       "{'__header__': b'MATLAB 5.0 MAT-file, Platform: MACI64, Created on: Thu Aug 21 01:00:00 2014',\n",
       " '__version__': '1.0',\n",
       " '__globals__': [],\n",
       " 'interictal_segment_210': array([[(array([[11, 16, 18, ..., 12,  6,  5],\n",
       "                [15, 15, 13, ...,  7, 11, 11],\n",
       "                [ 1,  6,  0, ..., 10,  8, 14],\n",
       "                ...,\n",
       "                [-3,  5,  8, ..., -4, -3, -4],\n",
       "                [ 0, -2, -2, ...,  5,  2, -7],\n",
       "                [ 1, -2, -1, ...,  7,  3, -4]], dtype=int16), array([[600]], dtype=uint16), array([[399.6097561]]), array([[array(['NVC1202_32_002_Ecog_c001'], dtype='<U24'),\n",
       "                 array(['NVC1202_32_002_Ecog_c002'], dtype='<U24'),\n",
       "                 array(['NVC1202_32_002_Ecog_c003'], dtype='<U24'),\n",
       "                 array(['NVC1202_32_002_Ecog_c004'], dtype='<U24'),\n",
       "                 array(['NVC1202_32_002_Ecog_c005'], dtype='<U24'),\n",
       "                 array(['NVC1202_32_002_Ecog_c006'], dtype='<U24'),\n",
       "                 array(['NVC1202_32_002_Ecog_c007'], dtype='<U24'),\n",
       "                 array(['NVC1202_32_002_Ecog_c008'], dtype='<U24'),\n",
       "                 array(['NVC1202_32_002_Ecog_c009'], dtype='<U24'),\n",
       "                 array(['NVC1202_32_002_Ecog_c010'], dtype='<U24'),\n",
       "                 array(['NVC1202_32_002_Ecog_c011'], dtype='<U24'),\n",
       "                 array(['NVC1202_32_002_Ecog_c012'], dtype='<U24'),\n",
       "                 array(['NVC1202_32_002_Ecog_c013'], dtype='<U24'),\n",
       "                 array(['NVC1202_32_002_Ecog_c014'], dtype='<U24'),\n",
       "                 array(['NVC1202_32_002_Ecog_c015'], dtype='<U24'),\n",
       "                 array(['NVC1202_32_002_Ecog_c016'], dtype='<U24')]], dtype=object), array([[6]], dtype=uint8))                                                               ]],\n",
       "       dtype=[('data', 'O'), ('data_length_sec', 'O'), ('sampling_frequency', 'O'), ('channels', 'O'), ('sequence', 'O')])}"
      ]
     },
     "execution_count": 5,
     "metadata": {},
     "output_type": "execute_result"
    }
   ],
   "source": [
    "mat = loadmat(path + '/' + all_files[0])\n",
    "mat"
   ]
  },
  {
   "cell_type": "code",
   "execution_count": 6,
   "metadata": {},
   "outputs": [
    {
     "data": {
      "text/plain": [
       "'interictal_segment_210'"
      ]
     },
     "execution_count": 6,
     "metadata": {},
     "output_type": "execute_result"
    }
   ],
   "source": [
    "segment_name = list(mat.keys())[-1]\n",
    "segment_name"
   ]
  },
  {
   "cell_type": "code",
   "execution_count": 7,
   "metadata": {},
   "outputs": [],
   "source": [
    "X = mat[segment_name]"
   ]
  },
  {
   "cell_type": "code",
   "execution_count": 8,
   "metadata": {},
   "outputs": [
    {
     "data": {
      "text/plain": [
       "('data', 'data_length_sec', 'sampling_frequency', 'channels', 'sequence')"
      ]
     },
     "execution_count": 8,
     "metadata": {},
     "output_type": "execute_result"
    }
   ],
   "source": [
    "X.dtype.names"
   ]
  },
  {
   "cell_type": "code",
   "execution_count": 9,
   "metadata": {},
   "outputs": [
    {
     "data": {
      "text/plain": [
       "(16,)"
      ]
     },
     "execution_count": 9,
     "metadata": {},
     "output_type": "execute_result"
    }
   ],
   "source": [
    "X['channels'][0][0][0].shape"
   ]
  },
  {
   "cell_type": "code",
   "execution_count": 14,
   "metadata": {},
   "outputs": [
    {
     "data": {
      "text/plain": [
       "399.609756097561"
      ]
     },
     "execution_count": 14,
     "metadata": {},
     "output_type": "execute_result"
    }
   ],
   "source": [
    "X['sampling_frequency'][0][0][0][0]"
   ]
  },
  {
   "cell_type": "code",
   "execution_count": 19,
   "metadata": {
    "scrolled": true
   },
   "outputs": [
    {
     "data": {
      "text/plain": [
       "600"
      ]
     },
     "execution_count": 19,
     "metadata": {},
     "output_type": "execute_result"
    }
   ],
   "source": [
    "X['data_length_sec'][0][0][0][0]"
   ]
  },
  {
   "cell_type": "markdown",
   "metadata": {},
   "source": [
    "600s = 10mins recording"
   ]
  },
  {
   "cell_type": "code",
   "execution_count": 10,
   "metadata": {},
   "outputs": [
    {
     "data": {
      "text/plain": [
       "{16}"
      ]
     },
     "execution_count": 10,
     "metadata": {},
     "output_type": "execute_result"
    }
   ],
   "source": [
    "items = []\n",
    "for i in range(len(all_files)):\n",
    "    fullpath = path + '/' + all_files[i]\n",
    "    mat = loadmat(fullpath)\n",
    "    segment_name = list(mat.keys())[-1]\n",
    "    X = mat[segment_name]\n",
    "    items.append(X['channels'][0][0][0].shape[0])\n",
    "set(items)"
   ]
  },
  {
   "cell_type": "code",
   "execution_count": 11,
   "metadata": {},
   "outputs": [
    {
     "data": {
      "text/plain": [
       "{1}"
      ]
     },
     "execution_count": 11,
     "metadata": {},
     "output_type": "execute_result"
    }
   ],
   "source": [
    "set([1,1,1])"
   ]
  },
  {
   "cell_type": "code",
   "execution_count": 12,
   "metadata": {},
   "outputs": [
    {
     "data": {
      "text/plain": [
       "{1, 2}"
      ]
     },
     "execution_count": 12,
     "metadata": {},
     "output_type": "execute_result"
    }
   ],
   "source": [
    "set([1,2,1])"
   ]
  },
  {
   "cell_type": "markdown",
   "metadata": {},
   "source": [
    "Since the set has returned only 16, it means all files for this subject have 16 channels."
   ]
  },
  {
   "cell_type": "code",
   "execution_count": 27,
   "metadata": {},
   "outputs": [],
   "source": [
    "import data_loader as data\n",
    "from tqdm.auto import trange"
   ]
  },
  {
   "cell_type": "code",
   "execution_count": 31,
   "metadata": {
    "scrolled": false
   },
   "outputs": [
    {
     "data": {
      "application/vnd.jupyter.widget-view+json": {
       "model_id": "c735c394f6f547318300cbdca0814764",
       "version_major": 2,
       "version_minor": 0
      },
      "text/plain": [
       "Subject:   0%|          | 0/7 [00:00<?, ?it/s]"
      ]
     },
     "metadata": {},
     "output_type": "display_data"
    },
    {
     "data": {
      "application/vnd.jupyter.widget-view+json": {
       "model_id": "ec1bb902f19544379221d84f4a4ab5dd",
       "version_major": 2,
       "version_minor": 0
      },
      "text/plain": [
       "Segment:   0%|          | 0/504 [00:00<?, ?it/s]"
      ]
     },
     "metadata": {},
     "output_type": "display_data"
    },
    {
     "data": {
      "application/vnd.jupyter.widget-view+json": {
       "model_id": "dc5065e5f11043b0b73ecb41a7e38d11",
       "version_major": 2,
       "version_minor": 0
      },
      "text/plain": [
       "Segment:   0%|          | 0/542 [00:00<?, ?it/s]"
      ]
     },
     "metadata": {},
     "output_type": "display_data"
    },
    {
     "data": {
      "application/vnd.jupyter.widget-view+json": {
       "model_id": "7108aa9e060f4423b4bc377d4c6fdab6",
       "version_major": 2,
       "version_minor": 0
      },
      "text/plain": [
       "Segment:   0%|          | 0/1512 [00:00<?, ?it/s]"
      ]
     },
     "metadata": {},
     "output_type": "display_data"
    },
    {
     "data": {
      "application/vnd.jupyter.widget-view+json": {
       "model_id": "23cddbc010eb4169a9cf1c8588bedbc5",
       "version_major": 2,
       "version_minor": 0
      },
      "text/plain": [
       "Segment:   0%|          | 0/901 [00:00<?, ?it/s]"
      ]
     },
     "metadata": {},
     "output_type": "display_data"
    },
    {
     "data": {
      "application/vnd.jupyter.widget-view+json": {
       "model_id": "2cf1a6199e334eb59d7f78ca90316a9a",
       "version_major": 2,
       "version_minor": 0
      },
      "text/plain": [
       "Segment:   0%|          | 0/480 [00:00<?, ?it/s]"
      ]
     },
     "metadata": {},
     "output_type": "display_data"
    },
    {
     "data": {
      "application/vnd.jupyter.widget-view+json": {
       "model_id": "8750a01be62c437c8363e0e5b03b340d",
       "version_major": 2,
       "version_minor": 0
      },
      "text/plain": [
       "Segment:   0%|          | 0/68 [00:00<?, ?it/s]"
      ]
     },
     "metadata": {},
     "output_type": "display_data"
    },
    {
     "data": {
      "application/vnd.jupyter.widget-view+json": {
       "model_id": "ead5309763dc4a9ea9dbc3d36fe96936",
       "version_major": 2,
       "version_minor": 0
      },
      "text/plain": [
       "Segment:   0%|          | 0/60 [00:00<?, ?it/s]"
      ]
     },
     "metadata": {},
     "output_type": "display_data"
    },
    {
     "name": "stdout",
     "output_type": "stream",
     "text": [
      "Subject: ['Dog_1', 'Dog_2', 'Dog_3', 'Dog_4', 'Dog_5', 'Patient_1', 'Patient_2']\n",
      "Channel count: [{16}, {16}, {16}, {16}, {15}, {15}, {24}]\n"
     ]
    }
   ],
   "source": [
    "subject_names = ['Dog_1', 'Dog_2', 'Dog_3', 'Dog_4', 'Dog_5', 'Patient_1', 'Patient_2']\n",
    "subject_channel_count = []\n",
    "for i in trange(len(subject_names), desc='Subject'):\n",
    "    subject_name = subject_names[i]\n",
    "    files, path = data.load_subject(subject_name)\n",
    "    interictal = data.select_segment(files, 'interictal')\n",
    "    preictal = data.select_segment(files, 'preictal')\n",
    "    ffiles = interictal + preictal\n",
    "    channel_count = []\n",
    "    for j in trange(len(ffiles), desc='Segment'):\n",
    "        fpath = path + '/' + ffiles[j]\n",
    "        mat = loadmat(fpath)\n",
    "        segment_label = list(mat.keys())[-1]\n",
    "        X = mat[segment_label]\n",
    "        channel_count.append(X['channels'][0][0][0].shape[0])\n",
    "    subject_channel_count.append(set(channel_count))\n",
    "print('Subject:', subject_names)\n",
    "print('Channel count:', subject_channel_count)"
   ]
  },
  {
   "cell_type": "code",
   "execution_count": null,
   "metadata": {},
   "outputs": [],
   "source": []
  }
 ],
 "metadata": {
  "kernelspec": {
   "display_name": "Python 3",
   "language": "python",
   "name": "python3"
  },
  "language_info": {
   "codemirror_mode": {
    "name": "ipython",
    "version": 3
   },
   "file_extension": ".py",
   "mimetype": "text/x-python",
   "name": "python",
   "nbconvert_exporter": "python",
   "pygments_lexer": "ipython3",
   "version": "3.8.5"
  }
 },
 "nbformat": 4,
 "nbformat_minor": 4
}
