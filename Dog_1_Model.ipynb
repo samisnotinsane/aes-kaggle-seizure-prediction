{
 "cells": [
  {
   "cell_type": "code",
   "execution_count": 1,
   "metadata": {},
   "outputs": [],
   "source": [
    "from tensorflow import keras\n",
    "import numpy as np\n",
    "import matplotlib.pyplot as plt\n",
    "import pandas as pd\n",
    "import preprocess\n",
    "from sklearn.model_selection import train_test_split\n",
    "import scipy.io as sio\n",
    "from tqdm import tqdm\n",
    "from sklearn.preprocessing import MinMaxScaler\n",
    "from collections import Counter\n",
    "from imblearn.over_sampling import RandomOverSampler"
   ]
  },
  {
   "cell_type": "markdown",
   "metadata": {},
   "source": [
    "# Load Data"
   ]
  },
  {
   "cell_type": "code",
   "execution_count": 2,
   "metadata": {
    "scrolled": true
   },
   "outputs": [
    {
     "name": "stdout",
     "output_type": "stream",
     "text": [
      "Interictal file count: 480\n",
      "Preictal file count: 24\n",
      "CPU times: user 3.04 ms, sys: 7.12 ms, total: 10.2 ms\n",
      "Wall time: 20.4 ms\n"
     ]
    }
   ],
   "source": [
    "%%time\n",
    "rootdir = '../../data.nosync/'\n",
    "interictal_count = preprocess.count_interictal_files(rootdir)\n",
    "interictal_files = preprocess.get_interictal_files(rootdir, interictal_count)\n",
    "preictal_files = preprocess.get_preictal_files(rootdir)\n",
    "print('Interictal file count:', len(interictal_files))\n",
    "print('Preictal file count:', len(preictal_files))"
   ]
  },
  {
   "cell_type": "code",
   "execution_count": 3,
   "metadata": {},
   "outputs": [
    {
     "data": {
      "text/plain": [
       "(504,)"
      ]
     },
     "execution_count": 3,
     "metadata": {},
     "output_type": "execute_result"
    }
   ],
   "source": [
    "interictal_y = np.zeros(len(interictal_files))\n",
    "preictal_y = np.ones(len(preictal_files))\n",
    "y = np.concatenate((interictal_y, preictal_y), axis=0)\n",
    "y.shape"
   ]
  },
  {
   "cell_type": "code",
   "execution_count": 4,
   "metadata": {},
   "outputs": [
    {
     "name": "stdout",
     "output_type": "stream",
     "text": [
      "CPU times: user 52 µs, sys: 8 µs, total: 60 µs\n",
      "Wall time: 67 µs\n"
     ]
    },
    {
     "data": {
      "text/plain": [
       "504"
      ]
     },
     "execution_count": 4,
     "metadata": {},
     "output_type": "execute_result"
    }
   ],
   "source": [
    "%%time\n",
    "X_list = []\n",
    "X_list.extend(interictal_files)\n",
    "X_list.extend(preictal_files)\n",
    "len(X_list)"
   ]
  },
  {
   "cell_type": "code",
   "execution_count": 5,
   "metadata": {},
   "outputs": [
    {
     "name": "stdout",
     "output_type": "stream",
     "text": [
      "<class 'numpy.ndarray'>\n"
     ]
    },
    {
     "data": {
      "text/plain": [
       "(504,)"
      ]
     },
     "execution_count": 5,
     "metadata": {},
     "output_type": "execute_result"
    }
   ],
   "source": [
    "X = np.array(X_list)\n",
    "print(type(X))\n",
    "X.shape"
   ]
  },
  {
   "cell_type": "code",
   "execution_count": 6,
   "metadata": {},
   "outputs": [
    {
     "name": "stdout",
     "output_type": "stream",
     "text": [
      "Counter({0.0: 480, 1.0: 24})\n"
     ]
    }
   ],
   "source": [
    "# summarize class distribution\n",
    "print(Counter(y))"
   ]
  },
  {
   "cell_type": "markdown",
   "metadata": {},
   "source": [
    "## Class Imbalance"
   ]
  },
  {
   "cell_type": "code",
   "execution_count": 7,
   "metadata": {},
   "outputs": [
    {
     "data": {
      "text/plain": [
       "(504, 1)"
      ]
     },
     "execution_count": 7,
     "metadata": {},
     "output_type": "execute_result"
    }
   ],
   "source": [
    "X = X.reshape(-1, 1)\n",
    "X.shape"
   ]
  },
  {
   "cell_type": "code",
   "execution_count": 8,
   "metadata": {},
   "outputs": [
    {
     "name": "stdout",
     "output_type": "stream",
     "text": [
      "Counter({0.0: 480, 1.0: 480})\n"
     ]
    }
   ],
   "source": [
    "# define oversampling strategy\n",
    "oversample = RandomOverSampler(sampling_strategy='minority')\n",
    "X_over, y_over = oversample.fit_resample(X, y)\n",
    "print(Counter(y_over))"
   ]
  },
  {
   "cell_type": "code",
   "execution_count": 9,
   "metadata": {
    "scrolled": true
   },
   "outputs": [
    {
     "name": "stdout",
     "output_type": "stream",
     "text": [
      "(643, 1)\n",
      "(317, 1)\n",
      "CPU times: user 2.35 ms, sys: 950 µs, total: 3.3 ms\n",
      "Wall time: 4.62 ms\n"
     ]
    }
   ],
   "source": [
    "%%time\n",
    "X_train, X_test, y_train, y_test = train_test_split(X_over, y_over, test_size=0.33, random_state=42)\n",
    "print(X_train.shape)\n",
    "print(X_test.shape)"
   ]
  },
  {
   "cell_type": "code",
   "execution_count": 20,
   "metadata": {},
   "outputs": [
    {
     "name": "stdout",
     "output_type": "stream",
     "text": [
      "(643, 1)\n",
      "(643,)\n"
     ]
    }
   ],
   "source": [
    "print(X_train.shape)\n",
    "print(y_train.shape)"
   ]
  },
  {
   "cell_type": "markdown",
   "metadata": {},
   "source": [
    "# Preprocess"
   ]
  },
  {
   "cell_type": "code",
   "execution_count": 10,
   "metadata": {},
   "outputs": [],
   "source": [
    "def rescale_ch(signal):\n",
    "    signal = signal.reshape((len(signal), 1))\n",
    "    scaler = MinMaxScaler(feature_range=(0,1))\n",
    "    scaler = scaler.fit(signal)\n",
    "    rescaled = scaler.transform(signal)\n",
    "    rescaled = rescaled.reshape((-1,))\n",
    "    return rescaled"
   ]
  },
  {
   "cell_type": "code",
   "execution_count": 21,
   "metadata": {},
   "outputs": [
    {
     "name": "stderr",
     "output_type": "stream",
     "text": [
      "100%|██████████| 643/643 [01:35<00:00,  6.77it/s]\n"
     ]
    }
   ],
   "source": [
    "# rescale signal in range [0,1]\n",
    "X_sig = np.zeros((643, 16, 239766))\n",
    "\n",
    "for i in tqdm(range(len(X_train))):\n",
    "    filepath = rootdir + X_train[i].item()\n",
    "    mat = sio.loadmat(filepath)\n",
    "    sigbuf = preprocess.get_sig(mat)\n",
    "    rescaled_sigbuf = np.empty_like(sigbuf)\n",
    "    for j in range(sigbuf.shape[0]):\n",
    "        rescaled_sigbuf[j,:] = rescale_ch(sigbuf[j,:])\n",
    "    X_sig[i] = rescaled_sigbuf"
   ]
  },
  {
   "cell_type": "code",
   "execution_count": 22,
   "metadata": {},
   "outputs": [
    {
     "data": {
      "text/plain": [
       "(643, 16, 239766)"
      ]
     },
     "execution_count": 22,
     "metadata": {},
     "output_type": "execute_result"
    }
   ],
   "source": [
    "X_sig.shape"
   ]
  },
  {
   "cell_type": "markdown",
   "metadata": {},
   "source": [
    "# Build Model"
   ]
  },
  {
   "cell_type": "markdown",
   "metadata": {},
   "source": [
    "Architecture is a fully convolutional neural network according to [Wang, 2016](https://arxiv.org/abs/1611.06455)."
   ]
  },
  {
   "cell_type": "code",
   "execution_count": 23,
   "metadata": {},
   "outputs": [],
   "source": [
    "num_classes = 2"
   ]
  },
  {
   "cell_type": "code",
   "execution_count": 24,
   "metadata": {},
   "outputs": [],
   "source": [
    "def make_model(input_shape):\n",
    "    input_layer = keras.layers.Input(input_shape)\n",
    "    \n",
    "    conv1 = keras.layers.Conv1D(filters=64, kernel_size=3, padding=\"same\")(input_layer)\n",
    "    conv1 = keras.layers.BatchNormalization()(conv1)\n",
    "    conv1 = keras.layers.ReLU()(conv1)\n",
    "    \n",
    "    conv2 = keras.layers.Conv1D(filters=64, kernel_size=3, padding=\"same\")(conv1)\n",
    "    conv2 = keras.layers.BatchNormalization()(conv2)\n",
    "    conv2 = keras.layers.ReLU()(conv2)\n",
    "    \n",
    "    conv3 = keras.layers.Conv1D(filters=64, kernel_size=3, padding=\"same\")(conv2)\n",
    "    conv3 = keras.layers.BatchNormalization()(conv3)\n",
    "    conv3 = keras.layers.ReLU()(conv3)\n",
    "    \n",
    "    gap = keras.layers.GlobalAveragePooling1D()(conv3)\n",
    "    \n",
    "    output_layer = keras.layers.Dense(num_classes, activation=\"softmax\")(gap)\n",
    "    \n",
    "    return keras.models.Model(inputs=input_layer, outputs=output_layer)\n",
    "\n",
    "model = make_model(input_shape=X_sig.shape[1:])"
   ]
  },
  {
   "cell_type": "markdown",
   "metadata": {},
   "source": [
    "# Build Model"
   ]
  },
  {
   "cell_type": "code",
   "execution_count": 25,
   "metadata": {},
   "outputs": [
    {
     "data": {
      "text/plain": [
       "(643, 16, 239766)"
      ]
     },
     "execution_count": 25,
     "metadata": {},
     "output_type": "execute_result"
    }
   ],
   "source": [
    "X_sig.shape"
   ]
  },
  {
   "cell_type": "code",
   "execution_count": 26,
   "metadata": {},
   "outputs": [
    {
     "data": {
      "text/plain": [
       "(643,)"
      ]
     },
     "execution_count": 26,
     "metadata": {},
     "output_type": "execute_result"
    }
   ],
   "source": [
    "y_train.shape"
   ]
  },
  {
   "cell_type": "code",
   "execution_count": null,
   "metadata": {
    "scrolled": false
   },
   "outputs": [
    {
     "name": "stdout",
     "output_type": "stream",
     "text": [
      "Epoch 1/200\n",
      "17/17 [==============================] - 136s 7s/step - loss: 0.3665 - sparse_categorical_accuracy: 0.8108 - val_loss: 0.6726 - val_sparse_categorical_accuracy: 0.5504\n",
      "Epoch 2/200\n",
      "17/17 [==============================] - 130s 8s/step - loss: 0.0467 - sparse_categorical_accuracy: 0.9927 - val_loss: 0.6467 - val_sparse_categorical_accuracy: 0.5504\n",
      "Epoch 3/200\n",
      "17/17 [==============================] - 125s 7s/step - loss: 0.0531 - sparse_categorical_accuracy: 0.9827 - val_loss: 0.6582 - val_sparse_categorical_accuracy: 0.5504\n",
      "Epoch 4/200\n",
      "17/17 [==============================] - 122s 7s/step - loss: 0.0273 - sparse_categorical_accuracy: 0.9905 - val_loss: 0.6771 - val_sparse_categorical_accuracy: 0.5504\n",
      "Epoch 5/200\n",
      "17/17 [==============================] - 119s 7s/step - loss: 0.0097 - sparse_categorical_accuracy: 1.0000 - val_loss: 0.7053 - val_sparse_categorical_accuracy: 0.5504\n",
      "Epoch 6/200\n",
      "17/17 [==============================] - 117s 7s/step - loss: 0.0057 - sparse_categorical_accuracy: 1.0000 - val_loss: 0.7436 - val_sparse_categorical_accuracy: 0.5504\n",
      "Epoch 7/200\n",
      "17/17 [==============================] - 117s 7s/step - loss: 0.0028 - sparse_categorical_accuracy: 1.0000 - val_loss: 0.7801 - val_sparse_categorical_accuracy: 0.5504\n",
      "Epoch 8/200\n",
      "17/17 [==============================] - 117s 7s/step - loss: 0.0057 - sparse_categorical_accuracy: 0.9996 - val_loss: 0.7947 - val_sparse_categorical_accuracy: 0.5504\n",
      "Epoch 9/200\n",
      "17/17 [==============================] - 118s 7s/step - loss: 0.0091 - sparse_categorical_accuracy: 0.9954 - val_loss: 0.7907 - val_sparse_categorical_accuracy: 0.5504\n",
      "Epoch 10/200\n",
      "17/17 [==============================] - 121s 7s/step - loss: 0.0032 - sparse_categorical_accuracy: 1.0000 - val_loss: 0.7283 - val_sparse_categorical_accuracy: 0.5504\n",
      "Epoch 11/200\n",
      "17/17 [==============================] - 118s 7s/step - loss: 0.0053 - sparse_categorical_accuracy: 0.9998 - val_loss: 0.6547 - val_sparse_categorical_accuracy: 0.5504\n",
      "Epoch 12/200\n",
      "17/17 [==============================] - 117s 7s/step - loss: 0.0399 - sparse_categorical_accuracy: 0.9896 - val_loss: 0.6757 - val_sparse_categorical_accuracy: 0.5581\n",
      "Epoch 13/200\n",
      "17/17 [==============================] - 120s 7s/step - loss: 0.0128 - sparse_categorical_accuracy: 0.9914 - val_loss: 0.6988 - val_sparse_categorical_accuracy: 0.5581\n",
      "Epoch 14/200\n",
      "17/17 [==============================] - 118s 7s/step - loss: 0.0137 - sparse_categorical_accuracy: 0.9998 - val_loss: 0.6100 - val_sparse_categorical_accuracy: 0.5504\n",
      "Epoch 15/200\n",
      "17/17 [==============================] - 117s 7s/step - loss: 0.0387 - sparse_categorical_accuracy: 0.9886 - val_loss: 0.5569 - val_sparse_categorical_accuracy: 0.5504\n",
      "Epoch 16/200\n",
      "17/17 [==============================] - 121s 7s/step - loss: 0.0130 - sparse_categorical_accuracy: 0.9975 - val_loss: 0.4465 - val_sparse_categorical_accuracy: 0.9612\n",
      "Epoch 17/200\n",
      "17/17 [==============================] - 142s 8s/step - loss: 0.0097 - sparse_categorical_accuracy: 0.9992 - val_loss: 0.4591 - val_sparse_categorical_accuracy: 0.9845\n",
      "Epoch 18/200\n",
      "17/17 [==============================] - 148s 9s/step - loss: 0.0089 - sparse_categorical_accuracy: 0.9995 - val_loss: 0.5647 - val_sparse_categorical_accuracy: 0.4496\n",
      "Epoch 19/200\n",
      " 9/17 [==============>...............] - ETA: 56s - loss: 0.0126 - sparse_categorical_accuracy: 1.0000 "
     ]
    }
   ],
   "source": [
    "%%time\n",
    "epochs = 200\n",
    "batch_size = 32\n",
    "\n",
    "callbacks = [\n",
    "    keras.callbacks.ModelCheckpoint(\n",
    "        \"best_model.h5\", save_best_only=True, monitor=\"val_loss\"\n",
    "    ),\n",
    "    keras.callbacks.ReduceLROnPlateau(\n",
    "        monitor=\"val_loss\", factor=0.5, patience=20, min_lr=0.0001\n",
    "    ),\n",
    "    keras.callbacks.EarlyStopping(monitor=\"val_loss\", patience=50, verbose=1),\n",
    "]\n",
    "\n",
    "model.compile(\n",
    "    optimizer=\"adam\",\n",
    "    loss=\"sparse_categorical_crossentropy\",\n",
    "    metrics=[\"sparse_categorical_accuracy\"],\n",
    ")\n",
    "\n",
    "history = model.fit(\n",
    "    X_sig,\n",
    "    y_train,\n",
    "    batch_size=batch_size,\n",
    "    epochs=epochs,\n",
    "    callbacks=callbacks,\n",
    "    validation_split=0.2,\n",
    "    verbose=1,\n",
    ")"
   ]
  },
  {
   "cell_type": "markdown",
   "metadata": {},
   "source": [
    "# Evaluate Model"
   ]
  },
  {
   "cell_type": "code",
   "execution_count": null,
   "metadata": {},
   "outputs": [],
   "source": [
    "# model = keras.models.load_model(\"best_model.h5\")\n",
    "test_loss, test_acc = model.evaluate(X_test, y_test)\n",
    "print(\"Test accuracy:\", test_acc)\n",
    "print(\"Test loss:\", test_loss)"
   ]
  },
  {
   "cell_type": "markdown",
   "metadata": {},
   "source": [
    "# Plot Loss"
   ]
  },
  {
   "cell_type": "code",
   "execution_count": null,
   "metadata": {},
   "outputs": [],
   "source": [
    "metric = \"sparse_categorical_accuracy\"\n",
    "plt.figure()\n",
    "plt.plot(history.history[metric])\n",
    "plt.plot(history.history[\"val_\" + metric])\n",
    "plt.title(\"model \" + metric)\n",
    "plt.ylabel(metric, fontsize=\"large\")\n",
    "plt.xlabel(\"epoch\", fontsize=\"large\")\n",
    "plt.legend([\"train\", \"val\"], loc=\"best\")"
   ]
  },
  {
   "cell_type": "markdown",
   "metadata": {},
   "source": [
    "The loss characteristics is indicative of imbalanced classes. See [accuracy paradox](https://en.wikipedia.org/wiki/Accuracy_paradox)."
   ]
  },
  {
   "cell_type": "code",
   "execution_count": null,
   "metadata": {},
   "outputs": [],
   "source": []
  }
 ],
 "metadata": {
  "kernelspec": {
   "display_name": "Python 3",
   "language": "python",
   "name": "python3"
  },
  "language_info": {
   "codemirror_mode": {
    "name": "ipython",
    "version": 3
   },
   "file_extension": ".py",
   "mimetype": "text/x-python",
   "name": "python",
   "nbconvert_exporter": "python",
   "pygments_lexer": "ipython3",
   "version": "3.8.5"
  }
 },
 "nbformat": 4,
 "nbformat_minor": 4
}
