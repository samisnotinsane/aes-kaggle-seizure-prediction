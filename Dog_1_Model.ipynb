{
 "cells": [
  {
   "cell_type": "code",
   "execution_count": 1,
   "metadata": {},
   "outputs": [],
   "source": [
    "from tensorflow import keras\n",
    "import numpy as np\n",
    "import matplotlib.pyplot as plt\n",
    "import pandas as pd\n",
    "import preprocess\n",
    "from sklearn.model_selection import train_test_split\n",
    "import scipy.io as sio\n",
    "from tqdm import tqdm\n",
    "from sklearn.preprocessing import MinMaxScaler"
   ]
  },
  {
   "cell_type": "markdown",
   "metadata": {},
   "source": [
    "# Load Data"
   ]
  },
  {
   "cell_type": "code",
   "execution_count": 2,
   "metadata": {},
   "outputs": [
    {
     "name": "stdout",
     "output_type": "stream",
     "text": [
      "Interictal file count: 480\n",
      "Preictal file count: 24\n",
      "CPU times: user 3.14 ms, sys: 6.45 ms, total: 9.59 ms\n",
      "Wall time: 9.5 ms\n"
     ]
    }
   ],
   "source": [
    "%%time\n",
    "rootdir = '../../data.nosync/'\n",
    "interictal_count = preprocess.count_interictal_files(rootdir)\n",
    "interictal_files = preprocess.get_interictal_files(rootdir, interictal_count)\n",
    "preictal_files = preprocess.get_preictal_files(rootdir)\n",
    "print('Interictal file count:', len(interictal_files))\n",
    "print('Preictal file count:', len(preictal_files))"
   ]
  },
  {
   "cell_type": "code",
   "execution_count": 3,
   "metadata": {},
   "outputs": [
    {
     "data": {
      "text/plain": [
       "(504,)"
      ]
     },
     "execution_count": 3,
     "metadata": {},
     "output_type": "execute_result"
    }
   ],
   "source": [
    "interictal_y = np.zeros(len(interictal_files))\n",
    "preictal_y = np.ones(len(preictal_files))\n",
    "y = np.concatenate((interictal_y, preictal_y), axis=0)\n",
    "y.shape"
   ]
  },
  {
   "cell_type": "code",
   "execution_count": 4,
   "metadata": {},
   "outputs": [
    {
     "name": "stdout",
     "output_type": "stream",
     "text": [
      "CPU times: user 26 µs, sys: 3 µs, total: 29 µs\n",
      "Wall time: 31.9 µs\n"
     ]
    },
    {
     "data": {
      "text/plain": [
       "504"
      ]
     },
     "execution_count": 4,
     "metadata": {},
     "output_type": "execute_result"
    }
   ],
   "source": [
    "%%time\n",
    "X_list = []\n",
    "X_list.extend(interictal_files)\n",
    "X_list.extend(preictal_files)\n",
    "len(X_list)"
   ]
  },
  {
   "cell_type": "code",
   "execution_count": 5,
   "metadata": {},
   "outputs": [
    {
     "name": "stdout",
     "output_type": "stream",
     "text": [
      "<class 'numpy.ndarray'>\n"
     ]
    },
    {
     "data": {
      "text/plain": [
       "(504,)"
      ]
     },
     "execution_count": 5,
     "metadata": {},
     "output_type": "execute_result"
    }
   ],
   "source": [
    "X = np.array(X_list)\n",
    "print(type(X))\n",
    "X.shape"
   ]
  },
  {
   "cell_type": "markdown",
   "metadata": {},
   "source": [
    "# Preprocess"
   ]
  },
  {
   "cell_type": "code",
   "execution_count": 6,
   "metadata": {},
   "outputs": [],
   "source": [
    "def rescale_ch(signal):\n",
    "    signal = signal.reshape((len(signal), 1))\n",
    "    scaler = MinMaxScaler(feature_range=(0,1))\n",
    "    scaler = scaler.fit(signal)\n",
    "    rescaled = scaler.transform(signal)\n",
    "    rescaled = rescaled.reshape((-1,))\n",
    "    return rescaled"
   ]
  },
  {
   "cell_type": "code",
   "execution_count": 7,
   "metadata": {},
   "outputs": [
    {
     "name": "stderr",
     "output_type": "stream",
     "text": [
      "100%|██████████| 16/16 [00:00<00:00, 136.57it/s]\n"
     ]
    }
   ],
   "source": [
    "filepath = rootdir + X[0]\n",
    "mat = sio.loadmat(filepath)\n",
    "sigbuf = preprocess.get_sig(mat)\n",
    "rescaled_sigbuf = np.empty_like(sigbuf)\n",
    "\n",
    "# normalise channels\n",
    "for j in tqdm(range(sigbuf.shape[0])):\n",
    "    rescaled_sigbuf[j,:] = rescale_ch(sigbuf[j,:])"
   ]
  },
  {
   "cell_type": "code",
   "execution_count": 8,
   "metadata": {},
   "outputs": [
    {
     "name": "stderr",
     "output_type": "stream",
     "text": [
      "100%|██████████| 504/504 [01:13<00:00,  6.85it/s]\n"
     ]
    }
   ],
   "source": [
    "# rescale signal in range [0,1]\n",
    "X_sig = np.zeros((504, 16, 239766))\n",
    "\n",
    "for i in tqdm(range(len(X))):\n",
    "    filepath = rootdir + X[i]\n",
    "    mat = sio.loadmat(filepath)\n",
    "    sigbuf = preprocess.get_sig(mat)\n",
    "    rescaled_sigbuf = np.empty_like(sigbuf)\n",
    "    for j in range(sigbuf.shape[0]):\n",
    "        rescaled_sigbuf[j,:] = rescale_ch(sigbuf[j,:])\n",
    "    X_sig[i] = rescaled_sigbuf"
   ]
  },
  {
   "cell_type": "code",
   "execution_count": 9,
   "metadata": {},
   "outputs": [
    {
     "name": "stdout",
     "output_type": "stream",
     "text": [
      "(337, 16, 239766)\n",
      "(167, 16, 239766)\n"
     ]
    }
   ],
   "source": [
    "X_train, X_test, y_train, y_test = train_test_split(X_sig, y, test_size=0.33, random_state=42)\n",
    "print(X_train.shape)\n",
    "print(X_test.shape)"
   ]
  },
  {
   "cell_type": "markdown",
   "metadata": {},
   "source": [
    "# Build Model"
   ]
  },
  {
   "cell_type": "markdown",
   "metadata": {},
   "source": [
    "Architecture is a fully convolutional neural network according to [Wang, 2016](https://arxiv.org/abs/1611.06455)."
   ]
  },
  {
   "cell_type": "code",
   "execution_count": 12,
   "metadata": {},
   "outputs": [],
   "source": [
    "num_classes = 2"
   ]
  },
  {
   "cell_type": "code",
   "execution_count": 13,
   "metadata": {},
   "outputs": [],
   "source": [
    "def make_model(input_shape):\n",
    "    input_layer = keras.layers.Input(input_shape)\n",
    "    \n",
    "    conv1 = keras.layers.Conv1D(filters=64, kernel_size=3, padding=\"same\")(input_layer)\n",
    "    conv1 = keras.layers.BatchNormalization()(conv1)\n",
    "    conv1 = keras.layers.ReLU()(conv1)\n",
    "    \n",
    "    conv2 = keras.layers.Conv1D(filters=64, kernel_size=3, padding=\"same\")(conv1)\n",
    "    conv2 = keras.layers.BatchNormalization()(conv2)\n",
    "    conv2 = keras.layers.ReLU()(conv2)\n",
    "    \n",
    "    conv3 = keras.layers.Conv1D(filters=64, kernel_size=3, padding=\"same\")(conv2)\n",
    "    conv3 = keras.layers.BatchNormalization()(conv3)\n",
    "    conv3 = keras.layers.ReLU()(conv3)\n",
    "    \n",
    "    gap = keras.layers.GlobalAveragePooling1D()(conv3)\n",
    "    \n",
    "    output_layer = keras.layers.Dense(num_classes, activation=\"softmax\")(gap)\n",
    "    \n",
    "    return keras.models.Model(inputs=input_layer, outputs=output_layer)\n",
    "\n",
    "model = make_model(input_shape=X_train.shape[1:])"
   ]
  },
  {
   "cell_type": "markdown",
   "metadata": {},
   "source": [
    "# Build Model"
   ]
  },
  {
   "cell_type": "code",
   "execution_count": 16,
   "metadata": {
    "collapsed": true
   },
   "outputs": [
    {
     "name": "stdout",
     "output_type": "stream",
     "text": [
      "Epoch 1/200\n",
      "9/9 [==============================] - 94s 9s/step - loss: 0.0424 - sparse_categorical_accuracy: 1.0000 - val_loss: 0.3086 - val_sparse_categorical_accuracy: 0.9412\n",
      "Epoch 2/200\n",
      "9/9 [==============================] - 79s 9s/step - loss: 0.0927 - sparse_categorical_accuracy: 0.9822 - val_loss: 0.2651 - val_sparse_categorical_accuracy: 0.9412\n",
      "Epoch 3/200\n",
      "9/9 [==============================] - 67s 7s/step - loss: 0.0305 - sparse_categorical_accuracy: 1.0000 - val_loss: 0.2391 - val_sparse_categorical_accuracy: 0.9412\n",
      "Epoch 4/200\n",
      "9/9 [==============================] - 61s 7s/step - loss: 0.0211 - sparse_categorical_accuracy: 1.0000 - val_loss: 0.2265 - val_sparse_categorical_accuracy: 0.9412\n",
      "Epoch 5/200\n",
      "9/9 [==============================] - 60s 7s/step - loss: 0.0133 - sparse_categorical_accuracy: 1.0000 - val_loss: 0.2239 - val_sparse_categorical_accuracy: 0.9412\n",
      "Epoch 6/200\n",
      "9/9 [==============================] - 60s 7s/step - loss: 0.0074 - sparse_categorical_accuracy: 1.0000 - val_loss: 0.2290 - val_sparse_categorical_accuracy: 0.9412\n",
      "Epoch 7/200\n",
      "9/9 [==============================] - 61s 7s/step - loss: 0.0058 - sparse_categorical_accuracy: 1.0000 - val_loss: 0.2383 - val_sparse_categorical_accuracy: 0.9412\n",
      "Epoch 8/200\n",
      "9/9 [==============================] - 61s 7s/step - loss: 0.0058 - sparse_categorical_accuracy: 1.0000 - val_loss: 0.2505 - val_sparse_categorical_accuracy: 0.9412\n",
      "Epoch 9/200\n",
      "9/9 [==============================] - 60s 7s/step - loss: 0.0035 - sparse_categorical_accuracy: 1.0000 - val_loss: 0.2638 - val_sparse_categorical_accuracy: 0.9412\n",
      "Epoch 10/200\n",
      "9/9 [==============================] - 62s 7s/step - loss: 0.0026 - sparse_categorical_accuracy: 1.0000 - val_loss: 0.2772 - val_sparse_categorical_accuracy: 0.9412\n",
      "Epoch 11/200\n",
      "9/9 [==============================] - 62s 7s/step - loss: 0.0025 - sparse_categorical_accuracy: 1.0000 - val_loss: 0.2908 - val_sparse_categorical_accuracy: 0.9412\n",
      "Epoch 12/200\n",
      "9/9 [==============================] - 60s 7s/step - loss: 0.0031 - sparse_categorical_accuracy: 1.0000 - val_loss: 0.3042 - val_sparse_categorical_accuracy: 0.9412\n",
      "Epoch 13/200\n",
      "9/9 [==============================] - 62s 7s/step - loss: 0.0019 - sparse_categorical_accuracy: 1.0000 - val_loss: 0.3175 - val_sparse_categorical_accuracy: 0.9412\n",
      "Epoch 14/200\n",
      "9/9 [==============================] - 59s 7s/step - loss: 0.0025 - sparse_categorical_accuracy: 1.0000 - val_loss: 0.3308 - val_sparse_categorical_accuracy: 0.9412\n",
      "Epoch 15/200\n",
      "9/9 [==============================] - 61s 7s/step - loss: 0.0020 - sparse_categorical_accuracy: 1.0000 - val_loss: 0.3442 - val_sparse_categorical_accuracy: 0.9412\n",
      "Epoch 16/200\n",
      "9/9 [==============================] - 60s 7s/step - loss: 0.0016 - sparse_categorical_accuracy: 1.0000 - val_loss: 0.3570 - val_sparse_categorical_accuracy: 0.9412\n",
      "Epoch 17/200\n",
      "9/9 [==============================] - 62s 7s/step - loss: 0.0014 - sparse_categorical_accuracy: 1.0000 - val_loss: 0.3690 - val_sparse_categorical_accuracy: 0.9412\n",
      "Epoch 18/200\n",
      "9/9 [==============================] - 63s 7s/step - loss: 0.0012 - sparse_categorical_accuracy: 1.0000 - val_loss: 0.3801 - val_sparse_categorical_accuracy: 0.9412\n",
      "Epoch 19/200\n",
      "9/9 [==============================] - 60s 7s/step - loss: 0.0013 - sparse_categorical_accuracy: 1.0000 - val_loss: 0.3906 - val_sparse_categorical_accuracy: 0.9412\n",
      "Epoch 20/200\n",
      "9/9 [==============================] - 60s 7s/step - loss: 0.0013 - sparse_categorical_accuracy: 1.0000 - val_loss: 0.4008 - val_sparse_categorical_accuracy: 0.9412\n",
      "Epoch 21/200\n",
      "9/9 [==============================] - 60s 7s/step - loss: 0.0011 - sparse_categorical_accuracy: 1.0000 - val_loss: 0.4108 - val_sparse_categorical_accuracy: 0.9412\n",
      "Epoch 22/200\n",
      "9/9 [==============================] - 60s 7s/step - loss: 0.0012 - sparse_categorical_accuracy: 1.0000 - val_loss: 0.4201 - val_sparse_categorical_accuracy: 0.9412\n",
      "Epoch 23/200\n",
      "9/9 [==============================] - 60s 7s/step - loss: 0.0013 - sparse_categorical_accuracy: 1.0000 - val_loss: 0.4289 - val_sparse_categorical_accuracy: 0.9412\n",
      "Epoch 24/200\n",
      "9/9 [==============================] - 60s 7s/step - loss: 0.0012 - sparse_categorical_accuracy: 1.0000 - val_loss: 0.4380 - val_sparse_categorical_accuracy: 0.9412\n",
      "Epoch 25/200\n",
      "9/9 [==============================] - 61s 7s/step - loss: 9.0590e-04 - sparse_categorical_accuracy: 1.0000 - val_loss: 0.4458 - val_sparse_categorical_accuracy: 0.9412\n",
      "Epoch 26/200\n",
      "9/9 [==============================] - 61s 7s/step - loss: 8.4032e-04 - sparse_categorical_accuracy: 1.0000 - val_loss: 0.4515 - val_sparse_categorical_accuracy: 0.9412\n",
      "Epoch 27/200\n",
      "9/9 [==============================] - 60s 7s/step - loss: 0.0010 - sparse_categorical_accuracy: 1.0000 - val_loss: 0.4569 - val_sparse_categorical_accuracy: 0.9412\n",
      "Epoch 28/200\n",
      "9/9 [==============================] - 66s 7s/step - loss: 9.5215e-04 - sparse_categorical_accuracy: 1.0000 - val_loss: 0.4622 - val_sparse_categorical_accuracy: 0.9412\n",
      "Epoch 29/200\n",
      "9/9 [==============================] - 62s 7s/step - loss: 0.0010 - sparse_categorical_accuracy: 1.0000 - val_loss: 0.4670 - val_sparse_categorical_accuracy: 0.9412\n",
      "Epoch 30/200\n",
      "9/9 [==============================] - 60s 7s/step - loss: 8.0621e-04 - sparse_categorical_accuracy: 1.0000 - val_loss: 0.4718 - val_sparse_categorical_accuracy: 0.9412\n",
      "Epoch 31/200\n",
      "9/9 [==============================] - 61s 7s/step - loss: 0.0011 - sparse_categorical_accuracy: 1.0000 - val_loss: 0.4766 - val_sparse_categorical_accuracy: 0.9412\n",
      "Epoch 32/200\n",
      "9/9 [==============================] - 62s 7s/step - loss: 7.7784e-04 - sparse_categorical_accuracy: 1.0000 - val_loss: 0.4806 - val_sparse_categorical_accuracy: 0.9412\n",
      "Epoch 33/200\n",
      "9/9 [==============================] - 62s 7s/step - loss: 8.4044e-04 - sparse_categorical_accuracy: 1.0000 - val_loss: 0.4841 - val_sparse_categorical_accuracy: 0.9412\n",
      "Epoch 34/200\n",
      "9/9 [==============================] - 61s 7s/step - loss: 0.0010 - sparse_categorical_accuracy: 1.0000 - val_loss: 0.4911 - val_sparse_categorical_accuracy: 0.9412\n",
      "Epoch 35/200\n",
      "9/9 [==============================] - 61s 7s/step - loss: 5.9622e-04 - sparse_categorical_accuracy: 1.0000 - val_loss: 0.5141 - val_sparse_categorical_accuracy: 0.9412\n",
      "Epoch 36/200\n",
      "9/9 [==============================] - 64s 7s/step - loss: 7.1223e-04 - sparse_categorical_accuracy: 1.0000 - val_loss: 0.5262 - val_sparse_categorical_accuracy: 0.9412\n",
      "Epoch 37/200\n",
      "9/9 [==============================] - 64s 7s/step - loss: 7.8057e-04 - sparse_categorical_accuracy: 1.0000 - val_loss: 0.5327 - val_sparse_categorical_accuracy: 0.9412\n",
      "Epoch 38/200\n",
      "9/9 [==============================] - 62s 7s/step - loss: 6.4212e-04 - sparse_categorical_accuracy: 1.0000 - val_loss: 0.5370 - val_sparse_categorical_accuracy: 0.9412\n",
      "Epoch 39/200\n",
      "9/9 [==============================] - 61s 7s/step - loss: 7.9095e-04 - sparse_categorical_accuracy: 1.0000 - val_loss: 0.5406 - val_sparse_categorical_accuracy: 0.9412\n",
      "Epoch 40/200\n",
      "9/9 [==============================] - 63s 7s/step - loss: 5.7570e-04 - sparse_categorical_accuracy: 1.0000 - val_loss: 0.5432 - val_sparse_categorical_accuracy: 0.9412\n",
      "Epoch 41/200\n",
      "9/9 [==============================] - 63s 7s/step - loss: 7.4475e-04 - sparse_categorical_accuracy: 1.0000 - val_loss: 0.5455 - val_sparse_categorical_accuracy: 0.9412\n",
      "Epoch 42/200\n",
      "9/9 [==============================] - 62s 7s/step - loss: 8.3009e-04 - sparse_categorical_accuracy: 1.0000 - val_loss: 0.5475 - val_sparse_categorical_accuracy: 0.9412\n",
      "Epoch 43/200\n",
      "9/9 [==============================] - 60s 7s/step - loss: 6.8779e-04 - sparse_categorical_accuracy: 1.0000 - val_loss: 0.5494 - val_sparse_categorical_accuracy: 0.9412\n",
      "Epoch 44/200\n",
      "9/9 [==============================] - 63s 7s/step - loss: 7.0132e-04 - sparse_categorical_accuracy: 1.0000 - val_loss: 0.5509 - val_sparse_categorical_accuracy: 0.9412\n",
      "Epoch 45/200\n",
      "9/9 [==============================] - 60s 7s/step - loss: 5.0071e-04 - sparse_categorical_accuracy: 1.0000 - val_loss: 0.5520 - val_sparse_categorical_accuracy: 0.9412\n",
      "Epoch 46/200\n",
      "9/9 [==============================] - 61s 7s/step - loss: 9.5344e-04 - sparse_categorical_accuracy: 1.0000 - val_loss: 0.5528 - val_sparse_categorical_accuracy: 0.9412\n"
     ]
    },
    {
     "name": "stdout",
     "output_type": "stream",
     "text": [
      "Epoch 47/200\n",
      "9/9 [==============================] - 62s 7s/step - loss: 4.7652e-04 - sparse_categorical_accuracy: 1.0000 - val_loss: 0.5530 - val_sparse_categorical_accuracy: 0.9412\n",
      "Epoch 48/200\n",
      "9/9 [==============================] - 61s 7s/step - loss: 5.3531e-04 - sparse_categorical_accuracy: 1.0000 - val_loss: 0.5529 - val_sparse_categorical_accuracy: 0.9412\n",
      "Epoch 49/200\n",
      "9/9 [==============================] - 61s 7s/step - loss: 4.6506e-04 - sparse_categorical_accuracy: 1.0000 - val_loss: 0.5528 - val_sparse_categorical_accuracy: 0.9412\n",
      "Epoch 50/200\n",
      "9/9 [==============================] - 61s 7s/step - loss: 5.3779e-04 - sparse_categorical_accuracy: 1.0000 - val_loss: 0.5526 - val_sparse_categorical_accuracy: 0.9412\n",
      "Epoch 51/200\n",
      "9/9 [==============================] - 60s 7s/step - loss: 6.7241e-04 - sparse_categorical_accuracy: 1.0000 - val_loss: 0.5524 - val_sparse_categorical_accuracy: 0.9412\n",
      "Epoch 52/200\n",
      "9/9 [==============================] - 60s 7s/step - loss: 5.9464e-04 - sparse_categorical_accuracy: 1.0000 - val_loss: 0.5522 - val_sparse_categorical_accuracy: 0.9412\n",
      "Epoch 53/200\n",
      "9/9 [==============================] - 60s 7s/step - loss: 4.3051e-04 - sparse_categorical_accuracy: 1.0000 - val_loss: 0.5517 - val_sparse_categorical_accuracy: 0.9412\n",
      "Epoch 54/200\n",
      "9/9 [==============================] - 60s 7s/step - loss: 4.7387e-04 - sparse_categorical_accuracy: 1.0000 - val_loss: 0.5511 - val_sparse_categorical_accuracy: 0.9412\n",
      "Epoch 55/200\n",
      "9/9 [==============================] - 60s 7s/step - loss: 4.0641e-04 - sparse_categorical_accuracy: 1.0000 - val_loss: 0.5503 - val_sparse_categorical_accuracy: 0.9412\n",
      "Epoch 00055: early stopping\n"
     ]
    }
   ],
   "source": [
    "epochs = 200\n",
    "batch_size = 32\n",
    "\n",
    "callbacks = [\n",
    "    keras.callbacks.ModelCheckpoint(\n",
    "        \"best_model.h5\", save_best_only=True, monitor=\"val_loss\"\n",
    "    ),\n",
    "    keras.callbacks.ReduceLROnPlateau(\n",
    "        monitor=\"val_loss\", factor=0.5, patience=20, min_lr=0.0001\n",
    "    ),\n",
    "    keras.callbacks.EarlyStopping(monitor=\"val_loss\", patience=50, verbose=1),\n",
    "]\n",
    "\n",
    "model.compile(\n",
    "    optimizer=\"adam\",\n",
    "    loss=\"sparse_categorical_crossentropy\",\n",
    "    metrics=[\"sparse_categorical_accuracy\"],\n",
    ")\n",
    "\n",
    "history = model.fit(\n",
    "    X_train,\n",
    "    y_train,\n",
    "    batch_size=batch_size,\n",
    "    epochs=epochs,\n",
    "    callbacks=callbacks,\n",
    "    validation_split=0.2,\n",
    "    verbose=1,\n",
    ")"
   ]
  },
  {
   "cell_type": "markdown",
   "metadata": {},
   "source": [
    "# Evaluate Model"
   ]
  },
  {
   "cell_type": "code",
   "execution_count": 19,
   "metadata": {},
   "outputs": [
    {
     "name": "stdout",
     "output_type": "stream",
     "text": [
      "6/6 [==============================] - 12s 896ms/step - loss: 0.2270 - sparse_categorical_accuracy: 0.9401\n",
      "Test accuracy: 0.940119743347168\n",
      "Test loss: 0.22699715197086334\n"
     ]
    }
   ],
   "source": [
    "model = keras.models.load_model(\"best_model.h5\")\n",
    "test_loss, test_acc = model.evaluate(X_test, y_test)\n",
    "print(\"Test accuracy:\", test_acc)\n",
    "print(\"Test loss:\", test_loss)"
   ]
  },
  {
   "cell_type": "markdown",
   "metadata": {},
   "source": [
    "# Plot Loss"
   ]
  },
  {
   "cell_type": "code",
   "execution_count": 20,
   "metadata": {},
   "outputs": [
    {
     "data": {
      "text/plain": [
       "<matplotlib.legend.Legend at 0x7f7b1efe45b0>"
      ]
     },
     "execution_count": 20,
     "metadata": {},
     "output_type": "execute_result"
    },
    {
     "data": {
      "image/png": "[encoded data removed]",
      "text/plain": [
       "<Figure size 432x288 with 1 Axes>"
      ]
     },
     "metadata": {
      "needs_background": "light"
     },
     "output_type": "display_data"
    }
   ],
   "source": [
    "metric = \"sparse_categorical_accuracy\"\n",
    "plt.figure()\n",
    "plt.plot(history.history[metric])\n",
    "plt.plot(history.history[\"val_\" + metric])\n",
    "plt.title(\"model \" + metric)\n",
    "plt.ylabel(metric, fontsize=\"large\")\n",
    "plt.xlabel(\"epoch\", fontsize=\"large\")\n",
    "plt.legend([\"train\", \"val\"], loc=\"best\")"
   ]
  },
  {
   "cell_type": "code",
   "execution_count": null,
   "metadata": {},
   "outputs": [],
   "source": []
  }
 ],
 "metadata": {
  "kernelspec": {
   "display_name": "Python 3",
   "language": "python",
   "name": "python3"
  },
  "language_info": {
   "codemirror_mode": {
    "name": "ipython",
    "version": 3
   },
   "file_extension": ".py",
   "mimetype": "text/x-python",
   "name": "python",
   "nbconvert_exporter": "python",
   "pygments_lexer": "ipython3",
   "version": "3.8.5"
  }
 },
 "nbformat": 4,
 "nbformat_minor": 4
}
